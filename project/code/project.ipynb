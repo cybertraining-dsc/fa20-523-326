{
 "cells": [
  {
   "cell_type": "markdown",
   "metadata": {},
   "source": [
    "<a id='TOC'></a>\n",
    "# Project: *Analysis of Future of Buffalo Breeds and Milk Production growth in India*\n",
    "\n",
    "`\n",
    "By   : Shahapurkar, Gangaprasad\n",
    "Email: garashah@iu.edu`"
   ]
  },
  {
   "cell_type": "markdown",
   "metadata": {},
   "source": [
    "<img src=\"../images/cover_photo.jpg\" alt=\"Cover photo\" style=\"width:=500px;height:=300px;\"/>"
   ]
  },
  {
   "cell_type": "markdown",
   "metadata": {},
   "source": [
    "## Abstract and objective\n"
   ]
  },
  {
   "cell_type": "markdown",
   "metadata": {},
   "source": [
    "Water buffalo (**Bubalus bubalis**) is also called *Domestic Water Buffalo* or *Asian Water Buffalo*. It is large bovid originating in Indian subcontinent, Southeast Asia, and China and today found in other regions of world - Europe, Australia, North America, South America and some African countries. There are two extant types recognized based on morphological and behavioural criteria:\n",
    "\n",
    "1. River Buffalo - Mostly found in Indian subcontinent and further west to the Balkans, Egypt, and Italy\n",
    "2. Swamp Buffalo - Found from west of Assam through Southeast Asia to the Yangtze valley of China in the east\n",
    "\n",
    "India is the largest milk producer and consumer compared to other countries in the world, and stands unique in terms of the largest share of milk being produced coming from buffaloes. The aim of this academic project is to study the livestock census data of buffalo breeds in India and their milk production using Empirical Benchmarking analysis method at state level. Looking at the small sample of data, our analysis indicates that we have been seeing increasing trends in past few years in livestock and milk production but there are considerable opportunities to increase production using combined interventions."
   ]
  },
  {
   "cell_type": "markdown",
   "metadata": {},
   "source": [
    "## Data files overview "
   ]
  },
  {
   "cell_type": "markdown",
   "metadata": {},
   "source": [
    "**1. India Buffalo Data**: Main dataset that contains buffalo breed information of each state in India, Milk production, In-Milk animals, yield per In-Milk animals. Past 6 year data points are represented in data file.\n",
    "\n",
    "**2. India Demographic Data**: Supplimentary dataset which represents number of villages, districts of each state. Projected population of year 2020 of each state. Agricultural zone category of each state."
   ]
  },
  {
   "cell_type": "markdown",
   "metadata": {},
   "source": [
    "## Import libraries"
   ]
  },
  {
   "cell_type": "code",
   "execution_count": 2,
   "metadata": {},
   "outputs": [],
   "source": [
    "import warnings\n",
    "import numpy as np\n",
    "import pandas as pd\n",
    "import matplotlib.pyplot as plt\n",
    "import seaborn as sns\n",
    "from pandas.plotting import scatter_matrix\n",
    "from time import time\n",
    "import os\n",
    "\n",
    "from sklearn.base import BaseEstimator, TransformerMixin\n",
    "from sklearn.pipeline import Pipeline, FeatureUnion, make_pipeline\n",
    "from sklearn.linear_model import LinearRegression\n",
    "\n",
    "from sklearn.model_selection import GridSearchCV\n",
    "\n",
    "from sklearn.feature_selection import SelectKBest\n",
    "\n",
    "from sklearn.preprocessing import StandardScaler\n",
    "from sklearn.preprocessing import LabelEncoder\n",
    "from sklearn.preprocessing import Normalizer\n",
    "\n",
    "from sklearn.decomposition import PCA\n",
    "\n",
    "from sklearn.metrics import roc_auc_score\n",
    "from sklearn.metrics import accuracy_score\n",
    "\n",
    "warnings.simplefilter('ignore') #Suppress all the inline warnings"
   ]
  },
  {
   "cell_type": "markdown",
   "metadata": {},
   "source": [
    "## Global Configurations"
   ]
  },
  {
   "cell_type": "code",
   "execution_count": 3,
   "metadata": {},
   "outputs": [],
   "source": [
    "sns.set_style('whitegrid') # Set the color theme for plots\n",
    "%matplotlib inline "
   ]
  },
  {
   "cell_type": "markdown",
   "metadata": {},
   "source": [
    "## Common functions"
   ]
  },
  {
   "cell_type": "code",
   "execution_count": 4,
   "metadata": {},
   "outputs": [],
   "source": [
    "'''\n",
    "Function to load data file in pandas \n",
    "dataframe and print shape and information \n",
    "of dataframe\n",
    "\n",
    "Input: Path of file and name of file without extension\n",
    "Output: Pandas dataframe\n",
    "'''\n",
    "def load_data(in_path, name):\n",
    "    df = pd.read_csv(in_path)\n",
    "    print(f\"{name}: shape is {df.shape}\")\n",
    "    print(\"\\n\")\n",
    "    print(df.info())\n",
    "    print(\"\\n\")\n",
    "    display(df.head(5))\n",
    "    return df"
   ]
  },
  {
   "cell_type": "code",
   "execution_count": 5,
   "metadata": {},
   "outputs": [
    {
     "name": "stdout",
     "output_type": "stream",
     "text": [
      "Python 3.7.4\n"
     ]
    }
   ],
   "source": [
    "!python --version #check the version of python installed "
   ]
  },
  {
   "cell_type": "code",
   "execution_count": null,
   "metadata": {},
   "outputs": [],
   "source": [
    "!pip install tabulate # need to install tabulate for printing tables in markdown format"
   ]
  },
  {
   "cell_type": "markdown",
   "metadata": {},
   "source": [
    "## Import Data"
   ]
  },
  {
   "cell_type": "code",
   "execution_count": 6,
   "metadata": {},
   "outputs": [],
   "source": [
    "DATA_DIR = \"../data/\"               # set data file directory  \n",
    "buff_data_file_name = \"india_buffalo_data\" # Main Buffalo data file name\n",
    "demo_data_file_name = \"india_demographics_data\" # India demographic data file name"
   ]
  },
  {
   "cell_type": "code",
   "execution_count": 7,
   "metadata": {},
   "outputs": [
    {
     "name": "stdout",
     "output_type": "stream",
     "text": [
      "total 16\n",
      "-rwxrwx---+ 1 User User 8814 Nov 28 20:14 india_buffalo_data.csv\n",
      "-rwxrwx---+ 1 User User 2708 Nov 29 22:00 india_demographics_data.csv\n"
     ]
    }
   ],
   "source": [
    "# Display list of files in data directory\n",
    "!ls -l $DATA_DIR "
   ]
  },
  {
   "cell_type": "markdown",
   "metadata": {},
   "source": [
    "### Main Buffalo Dataset \n",
    "This dataset contains 50 features and 36 rows. Each row represents data for one state of country. Notice that we see all the columns of datatype Integer or Float and only column is character which is state name "
   ]
  },
  {
   "cell_type": "code",
   "execution_count": 8,
   "metadata": {},
   "outputs": [
    {
     "name": "stdout",
     "output_type": "stream",
     "text": [
      "india_buffalo_data: shape is (36, 50)\n",
      "\n",
      "\n",
      "<class 'pandas.core.frame.DataFrame'>\n",
      "RangeIndex: 36 entries, 0 to 35\n",
      "Data columns (total 50 columns):\n",
      " #   Column                     Non-Null Count  Dtype  \n",
      "---  ------                     --------------  -----  \n",
      " 0   State_name                 36 non-null     object \n",
      " 1   Banni_male_total           36 non-null     int64  \n",
      " 2   Banni_female_total         36 non-null     int64  \n",
      " 3   Bhadawari_male_total       36 non-null     int64  \n",
      " 4   Bhadawari_female_total     36 non-null     int64  \n",
      " 5   Chilika_male_total         36 non-null     int64  \n",
      " 6   Chilika_female_total       36 non-null     int64  \n",
      " 7   Jaffarabadi_male_total     36 non-null     int64  \n",
      " 8   Jaffarabadi_female_total   36 non-null     int64  \n",
      " 9   Kalahandi_male_total       36 non-null     int64  \n",
      " 10  Kalahandi_female_total     36 non-null     int64  \n",
      " 11  Marathwadi_male_total      36 non-null     int64  \n",
      " 12  Marathwadi_female_total    36 non-null     int64  \n",
      " 13  Mehsana_male_total         36 non-null     int64  \n",
      " 14  Mehsana_female_total       36 non-null     int64  \n",
      " 15  Murrah_male_total          36 non-null     int64  \n",
      " 16  Murrah_female_total        36 non-null     int64  \n",
      " 17  Nagpuri_male_total         36 non-null     int64  \n",
      " 18  Nagpuri_female_total       36 non-null     int64  \n",
      " 19  Nili_Ravi_male_total       36 non-null     int64  \n",
      " 20  Nili_Ravi_female_total     36 non-null     int64  \n",
      " 21  Non_descript_male_total    36 non-null     int64  \n",
      " 22  Non_descript_female_total  36 non-null     int64  \n",
      " 23  Pandharpuri_male_total     36 non-null     int64  \n",
      " 24  Pandharpuri_female_total   36 non-null     int64  \n",
      " 25  Surti_male_total           36 non-null     int64  \n",
      " 26  Surti_female_total         36 non-null     int64  \n",
      " 27  Toda_male_total            36 non-null     int64  \n",
      " 28  Toda_female_total          36 non-null     int64  \n",
      " 29  total_male                 36 non-null     int64  \n",
      " 30  total_female               36 non-null     int64  \n",
      " 31  total_buffalo              36 non-null     int64  \n",
      " 32  201314_in_milk             32 non-null     float64\n",
      " 33  201415_in_milk             36 non-null     float64\n",
      " 34  201516_in_milk             36 non-null     float64\n",
      " 35  201617_in_milk             34 non-null     float64\n",
      " 36  201718_in_milk             34 non-null     float64\n",
      " 37  201819_in_milk             34 non-null     float64\n",
      " 38  201314_yield_in_milk       32 non-null     float64\n",
      " 39  201415_yield_in_milk       36 non-null     float64\n",
      " 40  201516_yield_in_milk       36 non-null     float64\n",
      " 41  201617_yield_in_milk       34 non-null     float64\n",
      " 42  201718_yield_in_milk       34 non-null     float64\n",
      " 43  201819_yield_in_milk       34 non-null     float64\n",
      " 44  201314_milk_production     31 non-null     float64\n",
      " 45  201415_milk_production     35 non-null     float64\n",
      " 46  201516_milk_production     34 non-null     float64\n",
      " 47  201617_milk_production     33 non-null     float64\n",
      " 48  201718_milk_production     33 non-null     float64\n",
      " 49  201819_milk_production     33 non-null     float64\n",
      "dtypes: float64(18), int64(31), object(1)\n",
      "memory usage: 14.2+ KB\n",
      "None\n",
      "\n",
      "\n"
     ]
    },
    {
     "data": {
      "text/html": [
       "<div>\n",
       "<style scoped>\n",
       "    .dataframe tbody tr th:only-of-type {\n",
       "        vertical-align: middle;\n",
       "    }\n",
       "\n",
       "    .dataframe tbody tr th {\n",
       "        vertical-align: top;\n",
       "    }\n",
       "\n",
       "    .dataframe thead th {\n",
       "        text-align: right;\n",
       "    }\n",
       "</style>\n",
       "<table border=\"1\" class=\"dataframe\">\n",
       "  <thead>\n",
       "    <tr style=\"text-align: right;\">\n",
       "      <th></th>\n",
       "      <th>State_name</th>\n",
       "      <th>Banni_male_total</th>\n",
       "      <th>Banni_female_total</th>\n",
       "      <th>Bhadawari_male_total</th>\n",
       "      <th>Bhadawari_female_total</th>\n",
       "      <th>Chilika_male_total</th>\n",
       "      <th>Chilika_female_total</th>\n",
       "      <th>Jaffarabadi_male_total</th>\n",
       "      <th>Jaffarabadi_female_total</th>\n",
       "      <th>Kalahandi_male_total</th>\n",
       "      <th>...</th>\n",
       "      <th>201516_yield_in_milk</th>\n",
       "      <th>201617_yield_in_milk</th>\n",
       "      <th>201718_yield_in_milk</th>\n",
       "      <th>201819_yield_in_milk</th>\n",
       "      <th>201314_milk_production</th>\n",
       "      <th>201415_milk_production</th>\n",
       "      <th>201516_milk_production</th>\n",
       "      <th>201617_milk_production</th>\n",
       "      <th>201718_milk_production</th>\n",
       "      <th>201819_milk_production</th>\n",
       "    </tr>\n",
       "  </thead>\n",
       "  <tbody>\n",
       "    <tr>\n",
       "      <th>0</th>\n",
       "      <td>ANDAMAN &amp; NICOBAR ISLANDS</td>\n",
       "      <td>0</td>\n",
       "      <td>0</td>\n",
       "      <td>0</td>\n",
       "      <td>0</td>\n",
       "      <td>0</td>\n",
       "      <td>0</td>\n",
       "      <td>0</td>\n",
       "      <td>0</td>\n",
       "      <td>0</td>\n",
       "      <td>...</td>\n",
       "      <td>3.83</td>\n",
       "      <td>3.63</td>\n",
       "      <td>3.64</td>\n",
       "      <td>3.84</td>\n",
       "      <td>1.80</td>\n",
       "      <td>1.72</td>\n",
       "      <td>1.09</td>\n",
       "      <td>1.51</td>\n",
       "      <td>1.55</td>\n",
       "      <td>1.97</td>\n",
       "    </tr>\n",
       "    <tr>\n",
       "      <th>1</th>\n",
       "      <td>ANDHRA PRADESH</td>\n",
       "      <td>0</td>\n",
       "      <td>0</td>\n",
       "      <td>0</td>\n",
       "      <td>0</td>\n",
       "      <td>0</td>\n",
       "      <td>0</td>\n",
       "      <td>1748</td>\n",
       "      <td>13313</td>\n",
       "      <td>0</td>\n",
       "      <td>...</td>\n",
       "      <td>5.52</td>\n",
       "      <td>5.65</td>\n",
       "      <td>7.34</td>\n",
       "      <td>7.52</td>\n",
       "      <td>9207.05</td>\n",
       "      <td>6573.96</td>\n",
       "      <td>7444.83</td>\n",
       "      <td>8308.18</td>\n",
       "      <td>9100.76</td>\n",
       "      <td>9932.01</td>\n",
       "    </tr>\n",
       "    <tr>\n",
       "      <th>2</th>\n",
       "      <td>ARUNACHAL PRADESH</td>\n",
       "      <td>0</td>\n",
       "      <td>0</td>\n",
       "      <td>0</td>\n",
       "      <td>0</td>\n",
       "      <td>0</td>\n",
       "      <td>0</td>\n",
       "      <td>0</td>\n",
       "      <td>0</td>\n",
       "      <td>0</td>\n",
       "      <td>...</td>\n",
       "      <td>2.61</td>\n",
       "      <td>2.55</td>\n",
       "      <td>2.54</td>\n",
       "      <td>2.55</td>\n",
       "      <td>NaN</td>\n",
       "      <td>0.10</td>\n",
       "      <td>0.40</td>\n",
       "      <td>0.44</td>\n",
       "      <td>0.53</td>\n",
       "      <td>0.70</td>\n",
       "    </tr>\n",
       "    <tr>\n",
       "      <th>3</th>\n",
       "      <td>ASSAM</td>\n",
       "      <td>0</td>\n",
       "      <td>0</td>\n",
       "      <td>0</td>\n",
       "      <td>0</td>\n",
       "      <td>0</td>\n",
       "      <td>0</td>\n",
       "      <td>0</td>\n",
       "      <td>0</td>\n",
       "      <td>0</td>\n",
       "      <td>...</td>\n",
       "      <td>3.33</td>\n",
       "      <td>3.64</td>\n",
       "      <td>3.43</td>\n",
       "      <td>3.43</td>\n",
       "      <td>122.13</td>\n",
       "      <td>119.93</td>\n",
       "      <td>116.90</td>\n",
       "      <td>114.89</td>\n",
       "      <td>115.44</td>\n",
       "      <td>117.13</td>\n",
       "    </tr>\n",
       "    <tr>\n",
       "      <th>4</th>\n",
       "      <td>BIHAR</td>\n",
       "      <td>0</td>\n",
       "      <td>0</td>\n",
       "      <td>2969</td>\n",
       "      <td>24121</td>\n",
       "      <td>0</td>\n",
       "      <td>0</td>\n",
       "      <td>3382</td>\n",
       "      <td>24984</td>\n",
       "      <td>0</td>\n",
       "      <td>...</td>\n",
       "      <td>4.27</td>\n",
       "      <td>4.30</td>\n",
       "      <td>4.38</td>\n",
       "      <td>4.39</td>\n",
       "      <td>3014.94</td>\n",
       "      <td>3248.01</td>\n",
       "      <td>3209.69</td>\n",
       "      <td>3358.03</td>\n",
       "      <td>3619.42</td>\n",
       "      <td>3850.61</td>\n",
       "    </tr>\n",
       "  </tbody>\n",
       "</table>\n",
       "<p>5 rows × 50 columns</p>\n",
       "</div>"
      ],
      "text/plain": [
       "                  State_name  Banni_male_total  Banni_female_total  \\\n",
       "0  ANDAMAN & NICOBAR ISLANDS                 0                   0   \n",
       "1             ANDHRA PRADESH                 0                   0   \n",
       "2          ARUNACHAL PRADESH                 0                   0   \n",
       "3                      ASSAM                 0                   0   \n",
       "4                      BIHAR                 0                   0   \n",
       "\n",
       "   Bhadawari_male_total  Bhadawari_female_total  Chilika_male_total  \\\n",
       "0                     0                       0                   0   \n",
       "1                     0                       0                   0   \n",
       "2                     0                       0                   0   \n",
       "3                     0                       0                   0   \n",
       "4                  2969                   24121                   0   \n",
       "\n",
       "   Chilika_female_total  Jaffarabadi_male_total  Jaffarabadi_female_total  \\\n",
       "0                     0                       0                         0   \n",
       "1                     0                    1748                     13313   \n",
       "2                     0                       0                         0   \n",
       "3                     0                       0                         0   \n",
       "4                     0                    3382                     24984   \n",
       "\n",
       "   Kalahandi_male_total  ...  201516_yield_in_milk  201617_yield_in_milk  \\\n",
       "0                     0  ...                  3.83                  3.63   \n",
       "1                     0  ...                  5.52                  5.65   \n",
       "2                     0  ...                  2.61                  2.55   \n",
       "3                     0  ...                  3.33                  3.64   \n",
       "4                     0  ...                  4.27                  4.30   \n",
       "\n",
       "   201718_yield_in_milk  201819_yield_in_milk  201314_milk_production  \\\n",
       "0                  3.64                  3.84                    1.80   \n",
       "1                  7.34                  7.52                 9207.05   \n",
       "2                  2.54                  2.55                     NaN   \n",
       "3                  3.43                  3.43                  122.13   \n",
       "4                  4.38                  4.39                 3014.94   \n",
       "\n",
       "   201415_milk_production  201516_milk_production  201617_milk_production  \\\n",
       "0                    1.72                    1.09                    1.51   \n",
       "1                 6573.96                 7444.83                 8308.18   \n",
       "2                    0.10                    0.40                    0.44   \n",
       "3                  119.93                  116.90                  114.89   \n",
       "4                 3248.01                 3209.69                 3358.03   \n",
       "\n",
       "   201718_milk_production  201819_milk_production  \n",
       "0                    1.55                    1.97  \n",
       "1                 9100.76                 9932.01  \n",
       "2                    0.53                    0.70  \n",
       "3                  115.44                  117.13  \n",
       "4                 3619.42                 3850.61  \n",
       "\n",
       "[5 rows x 50 columns]"
      ]
     },
     "metadata": {},
     "output_type": "display_data"
    }
   ],
   "source": [
    "# Load the main data set which contains buffalo information\n",
    "buffalo_df = load_data(os.path.join(DATA_DIR, f'{buff_data_file_name}.csv'), buff_data_file_name)"
   ]
  },
  {
   "cell_type": "markdown",
   "metadata": {},
   "source": [
    "### Secondary Dataset - Demographics data\n",
    "This dataset has 20 features and 36 rows. Each row represents data for one state of country. All the columns of this dataset are Integer and one column is character which is state name"
   ]
  },
  {
   "cell_type": "code",
   "execution_count": 9,
   "metadata": {},
   "outputs": [
    {
     "name": "stdout",
     "output_type": "stream",
     "text": [
      "india_demographics_data: shape is (36, 20)\n",
      "\n",
      "\n",
      "<class 'pandas.core.frame.DataFrame'>\n",
      "RangeIndex: 36 entries, 0 to 35\n",
      "Data columns (total 20 columns):\n",
      " #   Column                Non-Null Count  Dtype \n",
      "---  ------                --------------  ----- \n",
      " 0   State_name            36 non-null     object\n",
      " 1   district_count        36 non-null     int64 \n",
      " 2   village_count         36 non-null     int64 \n",
      " 3   official_area_sqkm    36 non-null     int64 \n",
      " 4   proj_population_2020  36 non-null     int64 \n",
      " 5   agro_climatic_zone1   36 non-null     int64 \n",
      " 6   agro_climatic_zone2   36 non-null     int64 \n",
      " 7   agro_climatic_zone3   36 non-null     int64 \n",
      " 8   agro_climatic_zone4   36 non-null     int64 \n",
      " 9   agro_climatic_zone5   36 non-null     int64 \n",
      " 10  agro_climatic_zone6   36 non-null     int64 \n",
      " 11  agro_climatic_zone7   36 non-null     int64 \n",
      " 12  agro_climatic_zone8   36 non-null     int64 \n",
      " 13  agro_climatic_zone9   36 non-null     int64 \n",
      " 14  agro_climatic_zone10  36 non-null     int64 \n",
      " 15  agro_climatic_zone11  36 non-null     int64 \n",
      " 16  agro_climatic_zone12  36 non-null     int64 \n",
      " 17  agro_climatic_zone13  36 non-null     int64 \n",
      " 18  agro_climatic_zone14  36 non-null     int64 \n",
      " 19  agro_climatic_zone15  36 non-null     int64 \n",
      "dtypes: int64(19), object(1)\n",
      "memory usage: 5.8+ KB\n",
      "None\n",
      "\n",
      "\n"
     ]
    },
    {
     "data": {
      "text/html": [
       "<div>\n",
       "<style scoped>\n",
       "    .dataframe tbody tr th:only-of-type {\n",
       "        vertical-align: middle;\n",
       "    }\n",
       "\n",
       "    .dataframe tbody tr th {\n",
       "        vertical-align: top;\n",
       "    }\n",
       "\n",
       "    .dataframe thead th {\n",
       "        text-align: right;\n",
       "    }\n",
       "</style>\n",
       "<table border=\"1\" class=\"dataframe\">\n",
       "  <thead>\n",
       "    <tr style=\"text-align: right;\">\n",
       "      <th></th>\n",
       "      <th>State_name</th>\n",
       "      <th>district_count</th>\n",
       "      <th>village_count</th>\n",
       "      <th>official_area_sqkm</th>\n",
       "      <th>proj_population_2020</th>\n",
       "      <th>agro_climatic_zone1</th>\n",
       "      <th>agro_climatic_zone2</th>\n",
       "      <th>agro_climatic_zone3</th>\n",
       "      <th>agro_climatic_zone4</th>\n",
       "      <th>agro_climatic_zone5</th>\n",
       "      <th>agro_climatic_zone6</th>\n",
       "      <th>agro_climatic_zone7</th>\n",
       "      <th>agro_climatic_zone8</th>\n",
       "      <th>agro_climatic_zone9</th>\n",
       "      <th>agro_climatic_zone10</th>\n",
       "      <th>agro_climatic_zone11</th>\n",
       "      <th>agro_climatic_zone12</th>\n",
       "      <th>agro_climatic_zone13</th>\n",
       "      <th>agro_climatic_zone14</th>\n",
       "      <th>agro_climatic_zone15</th>\n",
       "    </tr>\n",
       "  </thead>\n",
       "  <tbody>\n",
       "    <tr>\n",
       "      <th>0</th>\n",
       "      <td>ANDAMAN &amp; NICOBAR ISLANDS</td>\n",
       "      <td>3</td>\n",
       "      <td>552</td>\n",
       "      <td>8249</td>\n",
       "      <td>417036</td>\n",
       "      <td>0</td>\n",
       "      <td>0</td>\n",
       "      <td>0</td>\n",
       "      <td>0</td>\n",
       "      <td>0</td>\n",
       "      <td>0</td>\n",
       "      <td>0</td>\n",
       "      <td>0</td>\n",
       "      <td>0</td>\n",
       "      <td>0</td>\n",
       "      <td>0</td>\n",
       "      <td>0</td>\n",
       "      <td>0</td>\n",
       "      <td>0</td>\n",
       "      <td>1</td>\n",
       "    </tr>\n",
       "    <tr>\n",
       "      <th>1</th>\n",
       "      <td>ANDHRA PRADESH</td>\n",
       "      <td>13</td>\n",
       "      <td>17973</td>\n",
       "      <td>162223</td>\n",
       "      <td>53903393</td>\n",
       "      <td>0</td>\n",
       "      <td>1</td>\n",
       "      <td>0</td>\n",
       "      <td>0</td>\n",
       "      <td>0</td>\n",
       "      <td>0</td>\n",
       "      <td>0</td>\n",
       "      <td>0</td>\n",
       "      <td>0</td>\n",
       "      <td>1</td>\n",
       "      <td>1</td>\n",
       "      <td>0</td>\n",
       "      <td>0</td>\n",
       "      <td>0</td>\n",
       "      <td>0</td>\n",
       "    </tr>\n",
       "    <tr>\n",
       "      <th>2</th>\n",
       "      <td>ARUNACHAL PRADESH</td>\n",
       "      <td>25</td>\n",
       "      <td>5577</td>\n",
       "      <td>87157</td>\n",
       "      <td>1570458</td>\n",
       "      <td>0</td>\n",
       "      <td>0</td>\n",
       "      <td>0</td>\n",
       "      <td>0</td>\n",
       "      <td>0</td>\n",
       "      <td>0</td>\n",
       "      <td>0</td>\n",
       "      <td>0</td>\n",
       "      <td>0</td>\n",
       "      <td>0</td>\n",
       "      <td>0</td>\n",
       "      <td>0</td>\n",
       "      <td>0</td>\n",
       "      <td>0</td>\n",
       "      <td>0</td>\n",
       "    </tr>\n",
       "    <tr>\n",
       "      <th>3</th>\n",
       "      <td>ASSAM</td>\n",
       "      <td>33</td>\n",
       "      <td>28679</td>\n",
       "      <td>79255</td>\n",
       "      <td>35607039</td>\n",
       "      <td>0</td>\n",
       "      <td>1</td>\n",
       "      <td>0</td>\n",
       "      <td>0</td>\n",
       "      <td>0</td>\n",
       "      <td>0</td>\n",
       "      <td>0</td>\n",
       "      <td>0</td>\n",
       "      <td>0</td>\n",
       "      <td>0</td>\n",
       "      <td>0</td>\n",
       "      <td>0</td>\n",
       "      <td>0</td>\n",
       "      <td>0</td>\n",
       "      <td>0</td>\n",
       "    </tr>\n",
       "    <tr>\n",
       "      <th>4</th>\n",
       "      <td>BIHAR</td>\n",
       "      <td>38</td>\n",
       "      <td>45172</td>\n",
       "      <td>94945</td>\n",
       "      <td>124799926</td>\n",
       "      <td>0</td>\n",
       "      <td>0</td>\n",
       "      <td>0</td>\n",
       "      <td>1</td>\n",
       "      <td>0</td>\n",
       "      <td>0</td>\n",
       "      <td>0</td>\n",
       "      <td>0</td>\n",
       "      <td>0</td>\n",
       "      <td>0</td>\n",
       "      <td>0</td>\n",
       "      <td>0</td>\n",
       "      <td>0</td>\n",
       "      <td>0</td>\n",
       "      <td>0</td>\n",
       "    </tr>\n",
       "  </tbody>\n",
       "</table>\n",
       "</div>"
      ],
      "text/plain": [
       "                  State_name  district_count  village_count  \\\n",
       "0  ANDAMAN & NICOBAR ISLANDS               3            552   \n",
       "1             ANDHRA PRADESH              13          17973   \n",
       "2          ARUNACHAL PRADESH              25           5577   \n",
       "3                      ASSAM              33          28679   \n",
       "4                      BIHAR              38          45172   \n",
       "\n",
       "   official_area_sqkm  proj_population_2020  agro_climatic_zone1  \\\n",
       "0                8249                417036                    0   \n",
       "1              162223              53903393                    0   \n",
       "2               87157               1570458                    0   \n",
       "3               79255              35607039                    0   \n",
       "4               94945             124799926                    0   \n",
       "\n",
       "   agro_climatic_zone2  agro_climatic_zone3  agro_climatic_zone4  \\\n",
       "0                    0                    0                    0   \n",
       "1                    1                    0                    0   \n",
       "2                    0                    0                    0   \n",
       "3                    1                    0                    0   \n",
       "4                    0                    0                    1   \n",
       "\n",
       "   agro_climatic_zone5  agro_climatic_zone6  agro_climatic_zone7  \\\n",
       "0                    0                    0                    0   \n",
       "1                    0                    0                    0   \n",
       "2                    0                    0                    0   \n",
       "3                    0                    0                    0   \n",
       "4                    0                    0                    0   \n",
       "\n",
       "   agro_climatic_zone8  agro_climatic_zone9  agro_climatic_zone10  \\\n",
       "0                    0                    0                     0   \n",
       "1                    0                    0                     1   \n",
       "2                    0                    0                     0   \n",
       "3                    0                    0                     0   \n",
       "4                    0                    0                     0   \n",
       "\n",
       "   agro_climatic_zone11  agro_climatic_zone12  agro_climatic_zone13  \\\n",
       "0                     0                     0                     0   \n",
       "1                     1                     0                     0   \n",
       "2                     0                     0                     0   \n",
       "3                     0                     0                     0   \n",
       "4                     0                     0                     0   \n",
       "\n",
       "   agro_climatic_zone14  agro_climatic_zone15  \n",
       "0                     0                     1  \n",
       "1                     0                     0  \n",
       "2                     0                     0  \n",
       "3                     0                     0  \n",
       "4                     0                     0  "
      ]
     },
     "metadata": {},
     "output_type": "display_data"
    }
   ],
   "source": [
    "# Load the secondary data set which contains demographics information\n",
    "demographic_df = load_data(os.path.join(DATA_DIR, f'{demo_data_file_name}.csv'), demo_data_file_name)"
   ]
  },
  {
   "cell_type": "markdown",
   "metadata": {},
   "source": [
    "<a id=EDA></a>\n",
    "## EDA\n",
    "[Return to start](#TOC)"
   ]
  },
  {
   "cell_type": "markdown",
   "metadata": {},
   "source": [
    "The goal of this section is to get familiar with the data that will be used for the end to end pipeline. It is very important to explore the data and summarize its main characteristics before diving in the machine learning models. It is also interesting to see how the different features are correlated with the target feature"
   ]
  },
  {
   "cell_type": "code",
   "execution_count": 10,
   "metadata": {},
   "outputs": [],
   "source": [
    "pd.set_option('display.float_format', lambda x: f'{x:,.2f}') # Set rounding option for float numbers"
   ]
  },
  {
   "cell_type": "code",
   "execution_count": 11,
   "metadata": {},
   "outputs": [
    {
     "data": {
      "text/html": [
       "<div>\n",
       "<style scoped>\n",
       "    .dataframe tbody tr th:only-of-type {\n",
       "        vertical-align: middle;\n",
       "    }\n",
       "\n",
       "    .dataframe tbody tr th {\n",
       "        vertical-align: top;\n",
       "    }\n",
       "\n",
       "    .dataframe thead th {\n",
       "        text-align: right;\n",
       "    }\n",
       "</style>\n",
       "<table border=\"1\" class=\"dataframe\">\n",
       "  <thead>\n",
       "    <tr style=\"text-align: right;\">\n",
       "      <th></th>\n",
       "      <th>Banni_male_total</th>\n",
       "      <th>Banni_female_total</th>\n",
       "      <th>Bhadawari_male_total</th>\n",
       "      <th>Bhadawari_female_total</th>\n",
       "      <th>Chilika_male_total</th>\n",
       "      <th>Chilika_female_total</th>\n",
       "      <th>Jaffarabadi_male_total</th>\n",
       "      <th>Jaffarabadi_female_total</th>\n",
       "      <th>Kalahandi_male_total</th>\n",
       "      <th>Kalahandi_female_total</th>\n",
       "      <th>...</th>\n",
       "      <th>201516_yield_in_milk</th>\n",
       "      <th>201617_yield_in_milk</th>\n",
       "      <th>201718_yield_in_milk</th>\n",
       "      <th>201819_yield_in_milk</th>\n",
       "      <th>201314_milk_production</th>\n",
       "      <th>201415_milk_production</th>\n",
       "      <th>201516_milk_production</th>\n",
       "      <th>201617_milk_production</th>\n",
       "      <th>201718_milk_production</th>\n",
       "      <th>201819_milk_production</th>\n",
       "    </tr>\n",
       "  </thead>\n",
       "  <tbody>\n",
       "    <tr>\n",
       "      <th>count</th>\n",
       "      <td>36.00</td>\n",
       "      <td>36.00</td>\n",
       "      <td>36.00</td>\n",
       "      <td>36.00</td>\n",
       "      <td>36.00</td>\n",
       "      <td>36.00</td>\n",
       "      <td>36.00</td>\n",
       "      <td>36.00</td>\n",
       "      <td>36.00</td>\n",
       "      <td>36.00</td>\n",
       "      <td>...</td>\n",
       "      <td>36.00</td>\n",
       "      <td>34.00</td>\n",
       "      <td>34.00</td>\n",
       "      <td>34.00</td>\n",
       "      <td>31.00</td>\n",
       "      <td>35.00</td>\n",
       "      <td>34.00</td>\n",
       "      <td>33.00</td>\n",
       "      <td>33.00</td>\n",
       "      <td>33.00</td>\n",
       "    </tr>\n",
       "    <tr>\n",
       "      <th>mean</th>\n",
       "      <td>1,010.97</td>\n",
       "      <td>9,603.53</td>\n",
       "      <td>7,889.83</td>\n",
       "      <td>40,826.47</td>\n",
       "      <td>26.92</td>\n",
       "      <td>67.14</td>\n",
       "      <td>3,827.67</td>\n",
       "      <td>45,380.61</td>\n",
       "      <td>1,928.50</td>\n",
       "      <td>2,016.36</td>\n",
       "      <td>...</td>\n",
       "      <td>3.98</td>\n",
       "      <td>4.20</td>\n",
       "      <td>4.29</td>\n",
       "      <td>4.44</td>\n",
       "      <td>2,272.30</td>\n",
       "      <td>2,134.53</td>\n",
       "      <td>2,248.74</td>\n",
       "      <td>2,462.55</td>\n",
       "      <td>2,613.92</td>\n",
       "      <td>2,791.36</td>\n",
       "    </tr>\n",
       "    <tr>\n",
       "      <th>std</th>\n",
       "      <td>6,065.83</td>\n",
       "      <td>57,621.17</td>\n",
       "      <td>43,553.42</td>\n",
       "      <td>220,015.56</td>\n",
       "      <td>161.50</td>\n",
       "      <td>402.83</td>\n",
       "      <td>14,390.31</td>\n",
       "      <td>221,652.23</td>\n",
       "      <td>11,571.00</td>\n",
       "      <td>12,098.17</td>\n",
       "      <td>...</td>\n",
       "      <td>1.98</td>\n",
       "      <td>1.95</td>\n",
       "      <td>2.13</td>\n",
       "      <td>2.24</td>\n",
       "      <td>3,837.47</td>\n",
       "      <td>3,751.34</td>\n",
       "      <td>3,841.61</td>\n",
       "      <td>4,145.15</td>\n",
       "      <td>4,399.50</td>\n",
       "      <td>4,683.84</td>\n",
       "    </tr>\n",
       "    <tr>\n",
       "      <th>min</th>\n",
       "      <td>0.00</td>\n",
       "      <td>0.00</td>\n",
       "      <td>0.00</td>\n",
       "      <td>0.00</td>\n",
       "      <td>0.00</td>\n",
       "      <td>0.00</td>\n",
       "      <td>0.00</td>\n",
       "      <td>0.00</td>\n",
       "      <td>0.00</td>\n",
       "      <td>0.00</td>\n",
       "      <td>...</td>\n",
       "      <td>0.00</td>\n",
       "      <td>0.00</td>\n",
       "      <td>0.00</td>\n",
       "      <td>0.00</td>\n",
       "      <td>0.19</td>\n",
       "      <td>0.00</td>\n",
       "      <td>0.00</td>\n",
       "      <td>0.00</td>\n",
       "      <td>0.00</td>\n",
       "      <td>0.00</td>\n",
       "    </tr>\n",
       "    <tr>\n",
       "      <th>25%</th>\n",
       "      <td>0.00</td>\n",
       "      <td>0.00</td>\n",
       "      <td>0.00</td>\n",
       "      <td>0.00</td>\n",
       "      <td>0.00</td>\n",
       "      <td>0.00</td>\n",
       "      <td>0.00</td>\n",
       "      <td>0.00</td>\n",
       "      <td>0.00</td>\n",
       "      <td>0.00</td>\n",
       "      <td>...</td>\n",
       "      <td>3.24</td>\n",
       "      <td>3.41</td>\n",
       "      <td>3.32</td>\n",
       "      <td>3.35</td>\n",
       "      <td>19.22</td>\n",
       "      <td>2.89</td>\n",
       "      <td>7.30</td>\n",
       "      <td>6.29</td>\n",
       "      <td>5.80</td>\n",
       "      <td>5.62</td>\n",
       "    </tr>\n",
       "    <tr>\n",
       "      <th>50%</th>\n",
       "      <td>0.00</td>\n",
       "      <td>0.00</td>\n",
       "      <td>0.00</td>\n",
       "      <td>0.00</td>\n",
       "      <td>0.00</td>\n",
       "      <td>0.00</td>\n",
       "      <td>0.00</td>\n",
       "      <td>0.00</td>\n",
       "      <td>0.00</td>\n",
       "      <td>0.00</td>\n",
       "      <td>...</td>\n",
       "      <td>4.19</td>\n",
       "      <td>4.30</td>\n",
       "      <td>4.42</td>\n",
       "      <td>4.46</td>\n",
       "      <td>286.61</td>\n",
       "      <td>233.45</td>\n",
       "      <td>281.43</td>\n",
       "      <td>337.60</td>\n",
       "      <td>355.16</td>\n",
       "      <td>372.03</td>\n",
       "    </tr>\n",
       "    <tr>\n",
       "      <th>75%</th>\n",
       "      <td>0.00</td>\n",
       "      <td>0.00</td>\n",
       "      <td>0.00</td>\n",
       "      <td>0.00</td>\n",
       "      <td>0.00</td>\n",
       "      <td>0.00</td>\n",
       "      <td>132.75</td>\n",
       "      <td>321.00</td>\n",
       "      <td>0.00</td>\n",
       "      <td>0.00</td>\n",
       "      <td>...</td>\n",
       "      <td>5.08</td>\n",
       "      <td>5.17</td>\n",
       "      <td>5.07</td>\n",
       "      <td>5.17</td>\n",
       "      <td>3,418.68</td>\n",
       "      <td>3,135.24</td>\n",
       "      <td>3,186.80</td>\n",
       "      <td>3,358.03</td>\n",
       "      <td>3,619.42</td>\n",
       "      <td>3,850.61</td>\n",
       "    </tr>\n",
       "    <tr>\n",
       "      <th>max</th>\n",
       "      <td>36,395.00</td>\n",
       "      <td>345,727.00</td>\n",
       "      <td>261,685.00</td>\n",
       "      <td>1,322,035.00</td>\n",
       "      <td>969.00</td>\n",
       "      <td>2,417.00</td>\n",
       "      <td>82,521.00</td>\n",
       "      <td>1,329,863.00</td>\n",
       "      <td>69,426.00</td>\n",
       "      <td>72,589.00</td>\n",
       "      <td>...</td>\n",
       "      <td>8.21</td>\n",
       "      <td>8.39</td>\n",
       "      <td>8.77</td>\n",
       "      <td>9.26</td>\n",
       "      <td>16,804.50</td>\n",
       "      <td>17,523.93</td>\n",
       "      <td>16,864.51</td>\n",
       "      <td>17,691.89</td>\n",
       "      <td>18,517.16</td>\n",
       "      <td>19,462.98</td>\n",
       "    </tr>\n",
       "  </tbody>\n",
       "</table>\n",
       "<p>8 rows × 49 columns</p>\n",
       "</div>"
      ],
      "text/plain": [
       "       Banni_male_total  Banni_female_total  Bhadawari_male_total  \\\n",
       "count             36.00               36.00                 36.00   \n",
       "mean           1,010.97            9,603.53              7,889.83   \n",
       "std            6,065.83           57,621.17             43,553.42   \n",
       "min                0.00                0.00                  0.00   \n",
       "25%                0.00                0.00                  0.00   \n",
       "50%                0.00                0.00                  0.00   \n",
       "75%                0.00                0.00                  0.00   \n",
       "max           36,395.00          345,727.00            261,685.00   \n",
       "\n",
       "       Bhadawari_female_total  Chilika_male_total  Chilika_female_total  \\\n",
       "count                   36.00               36.00                 36.00   \n",
       "mean                40,826.47               26.92                 67.14   \n",
       "std                220,015.56              161.50                402.83   \n",
       "min                      0.00                0.00                  0.00   \n",
       "25%                      0.00                0.00                  0.00   \n",
       "50%                      0.00                0.00                  0.00   \n",
       "75%                      0.00                0.00                  0.00   \n",
       "max              1,322,035.00              969.00              2,417.00   \n",
       "\n",
       "       Jaffarabadi_male_total  Jaffarabadi_female_total  Kalahandi_male_total  \\\n",
       "count                   36.00                     36.00                 36.00   \n",
       "mean                 3,827.67                 45,380.61              1,928.50   \n",
       "std                 14,390.31                221,652.23             11,571.00   \n",
       "min                      0.00                      0.00                  0.00   \n",
       "25%                      0.00                      0.00                  0.00   \n",
       "50%                      0.00                      0.00                  0.00   \n",
       "75%                    132.75                    321.00                  0.00   \n",
       "max                 82,521.00              1,329,863.00             69,426.00   \n",
       "\n",
       "       Kalahandi_female_total  ...  201516_yield_in_milk  \\\n",
       "count                   36.00  ...                 36.00   \n",
       "mean                 2,016.36  ...                  3.98   \n",
       "std                 12,098.17  ...                  1.98   \n",
       "min                      0.00  ...                  0.00   \n",
       "25%                      0.00  ...                  3.24   \n",
       "50%                      0.00  ...                  4.19   \n",
       "75%                      0.00  ...                  5.08   \n",
       "max                 72,589.00  ...                  8.21   \n",
       "\n",
       "       201617_yield_in_milk  201718_yield_in_milk  201819_yield_in_milk  \\\n",
       "count                 34.00                 34.00                 34.00   \n",
       "mean                   4.20                  4.29                  4.44   \n",
       "std                    1.95                  2.13                  2.24   \n",
       "min                    0.00                  0.00                  0.00   \n",
       "25%                    3.41                  3.32                  3.35   \n",
       "50%                    4.30                  4.42                  4.46   \n",
       "75%                    5.17                  5.07                  5.17   \n",
       "max                    8.39                  8.77                  9.26   \n",
       "\n",
       "       201314_milk_production  201415_milk_production  201516_milk_production  \\\n",
       "count                   31.00                   35.00                   34.00   \n",
       "mean                 2,272.30                2,134.53                2,248.74   \n",
       "std                  3,837.47                3,751.34                3,841.61   \n",
       "min                      0.19                    0.00                    0.00   \n",
       "25%                     19.22                    2.89                    7.30   \n",
       "50%                    286.61                  233.45                  281.43   \n",
       "75%                  3,418.68                3,135.24                3,186.80   \n",
       "max                 16,804.50               17,523.93               16,864.51   \n",
       "\n",
       "       201617_milk_production  201718_milk_production  201819_milk_production  \n",
       "count                   33.00                   33.00                   33.00  \n",
       "mean                 2,462.55                2,613.92                2,791.36  \n",
       "std                  4,145.15                4,399.50                4,683.84  \n",
       "min                      0.00                    0.00                    0.00  \n",
       "25%                      6.29                    5.80                    5.62  \n",
       "50%                    337.60                  355.16                  372.03  \n",
       "75%                  3,358.03                3,619.42                3,850.61  \n",
       "max                 17,691.89               18,517.16               19,462.98  \n",
       "\n",
       "[8 rows x 49 columns]"
      ]
     },
     "execution_count": 11,
     "metadata": {},
     "output_type": "execute_result"
    }
   ],
   "source": [
    "buffalo_df.describe() # Fetch statistical information of buffalo dataset "
   ]
  },
  {
   "cell_type": "code",
   "execution_count": 12,
   "metadata": {},
   "outputs": [
    {
     "data": {
      "text/html": [
       "<div>\n",
       "<style scoped>\n",
       "    .dataframe tbody tr th:only-of-type {\n",
       "        vertical-align: middle;\n",
       "    }\n",
       "\n",
       "    .dataframe tbody tr th {\n",
       "        vertical-align: top;\n",
       "    }\n",
       "\n",
       "    .dataframe thead th {\n",
       "        text-align: right;\n",
       "    }\n",
       "</style>\n",
       "<table border=\"1\" class=\"dataframe\">\n",
       "  <thead>\n",
       "    <tr style=\"text-align: right;\">\n",
       "      <th></th>\n",
       "      <th>district_count</th>\n",
       "      <th>village_count</th>\n",
       "      <th>official_area_sqkm</th>\n",
       "      <th>proj_population_2020</th>\n",
       "      <th>agro_climatic_zone1</th>\n",
       "      <th>agro_climatic_zone2</th>\n",
       "      <th>agro_climatic_zone3</th>\n",
       "      <th>agro_climatic_zone4</th>\n",
       "      <th>agro_climatic_zone5</th>\n",
       "      <th>agro_climatic_zone6</th>\n",
       "      <th>agro_climatic_zone7</th>\n",
       "      <th>agro_climatic_zone8</th>\n",
       "      <th>agro_climatic_zone9</th>\n",
       "      <th>agro_climatic_zone10</th>\n",
       "      <th>agro_climatic_zone11</th>\n",
       "      <th>agro_climatic_zone12</th>\n",
       "      <th>agro_climatic_zone13</th>\n",
       "      <th>agro_climatic_zone14</th>\n",
       "      <th>agro_climatic_zone15</th>\n",
       "    </tr>\n",
       "  </thead>\n",
       "  <tbody>\n",
       "    <tr>\n",
       "      <th>count</th>\n",
       "      <td>36.00</td>\n",
       "      <td>36.00</td>\n",
       "      <td>36.00</td>\n",
       "      <td>36.00</td>\n",
       "      <td>36.00</td>\n",
       "      <td>36.00</td>\n",
       "      <td>36.00</td>\n",
       "      <td>36.00</td>\n",
       "      <td>36.00</td>\n",
       "      <td>36.00</td>\n",
       "      <td>36.00</td>\n",
       "      <td>36.00</td>\n",
       "      <td>36.00</td>\n",
       "      <td>36.00</td>\n",
       "      <td>36.00</td>\n",
       "      <td>36.00</td>\n",
       "      <td>36.00</td>\n",
       "      <td>36.00</td>\n",
       "      <td>36.00</td>\n",
       "    </tr>\n",
       "    <tr>\n",
       "      <th>mean</th>\n",
       "      <td>20.56</td>\n",
       "      <td>18,428.64</td>\n",
       "      <td>88,119.86</td>\n",
       "      <td>38,102,418.11</td>\n",
       "      <td>0.08</td>\n",
       "      <td>0.22</td>\n",
       "      <td>0.03</td>\n",
       "      <td>0.08</td>\n",
       "      <td>0.03</td>\n",
       "      <td>0.11</td>\n",
       "      <td>0.14</td>\n",
       "      <td>0.11</td>\n",
       "      <td>0.11</td>\n",
       "      <td>0.14</td>\n",
       "      <td>0.11</td>\n",
       "      <td>0.17</td>\n",
       "      <td>0.11</td>\n",
       "      <td>0.03</td>\n",
       "      <td>0.06</td>\n",
       "    </tr>\n",
       "    <tr>\n",
       "      <th>std</th>\n",
       "      <td>16.24</td>\n",
       "      <td>23,216.33</td>\n",
       "      <td>95,694.50</td>\n",
       "      <td>50,005,546.62</td>\n",
       "      <td>0.28</td>\n",
       "      <td>0.42</td>\n",
       "      <td>0.17</td>\n",
       "      <td>0.28</td>\n",
       "      <td>0.17</td>\n",
       "      <td>0.32</td>\n",
       "      <td>0.35</td>\n",
       "      <td>0.32</td>\n",
       "      <td>0.32</td>\n",
       "      <td>0.35</td>\n",
       "      <td>0.32</td>\n",
       "      <td>0.38</td>\n",
       "      <td>0.32</td>\n",
       "      <td>0.17</td>\n",
       "      <td>0.23</td>\n",
       "    </tr>\n",
       "    <tr>\n",
       "      <th>min</th>\n",
       "      <td>1.00</td>\n",
       "      <td>0.00</td>\n",
       "      <td>33.00</td>\n",
       "      <td>73,183.00</td>\n",
       "      <td>0.00</td>\n",
       "      <td>0.00</td>\n",
       "      <td>0.00</td>\n",
       "      <td>0.00</td>\n",
       "      <td>0.00</td>\n",
       "      <td>0.00</td>\n",
       "      <td>0.00</td>\n",
       "      <td>0.00</td>\n",
       "      <td>0.00</td>\n",
       "      <td>0.00</td>\n",
       "      <td>0.00</td>\n",
       "      <td>0.00</td>\n",
       "      <td>0.00</td>\n",
       "      <td>0.00</td>\n",
       "      <td>0.00</td>\n",
       "    </tr>\n",
       "    <tr>\n",
       "      <th>25%</th>\n",
       "      <td>10.25</td>\n",
       "      <td>765.75</td>\n",
       "      <td>9,929.00</td>\n",
       "      <td>1,582,302.00</td>\n",
       "      <td>0.00</td>\n",
       "      <td>0.00</td>\n",
       "      <td>0.00</td>\n",
       "      <td>0.00</td>\n",
       "      <td>0.00</td>\n",
       "      <td>0.00</td>\n",
       "      <td>0.00</td>\n",
       "      <td>0.00</td>\n",
       "      <td>0.00</td>\n",
       "      <td>0.00</td>\n",
       "      <td>0.00</td>\n",
       "      <td>0.00</td>\n",
       "      <td>0.00</td>\n",
       "      <td>0.00</td>\n",
       "      <td>0.00</td>\n",
       "    </tr>\n",
       "    <tr>\n",
       "      <th>50%</th>\n",
       "      <td>18.00</td>\n",
       "      <td>9,443.50</td>\n",
       "      <td>54,697.00</td>\n",
       "      <td>23,457,807.00</td>\n",
       "      <td>0.00</td>\n",
       "      <td>0.00</td>\n",
       "      <td>0.00</td>\n",
       "      <td>0.00</td>\n",
       "      <td>0.00</td>\n",
       "      <td>0.00</td>\n",
       "      <td>0.00</td>\n",
       "      <td>0.00</td>\n",
       "      <td>0.00</td>\n",
       "      <td>0.00</td>\n",
       "      <td>0.00</td>\n",
       "      <td>0.00</td>\n",
       "      <td>0.00</td>\n",
       "      <td>0.00</td>\n",
       "      <td>0.00</td>\n",
       "    </tr>\n",
       "    <tr>\n",
       "      <th>75%</th>\n",
       "      <td>30.75</td>\n",
       "      <td>29,690.50</td>\n",
       "      <td>130,073.50</td>\n",
       "      <td>56,395,644.50</td>\n",
       "      <td>0.00</td>\n",
       "      <td>0.00</td>\n",
       "      <td>0.00</td>\n",
       "      <td>0.00</td>\n",
       "      <td>0.00</td>\n",
       "      <td>0.00</td>\n",
       "      <td>0.00</td>\n",
       "      <td>0.00</td>\n",
       "      <td>0.00</td>\n",
       "      <td>0.00</td>\n",
       "      <td>0.00</td>\n",
       "      <td>0.00</td>\n",
       "      <td>0.00</td>\n",
       "      <td>0.00</td>\n",
       "      <td>0.00</td>\n",
       "    </tr>\n",
       "    <tr>\n",
       "      <th>max</th>\n",
       "      <td>75.00</td>\n",
       "      <td>108,910.00</td>\n",
       "      <td>341,876.00</td>\n",
       "      <td>237,882,725.00</td>\n",
       "      <td>1.00</td>\n",
       "      <td>1.00</td>\n",
       "      <td>1.00</td>\n",
       "      <td>1.00</td>\n",
       "      <td>1.00</td>\n",
       "      <td>1.00</td>\n",
       "      <td>1.00</td>\n",
       "      <td>1.00</td>\n",
       "      <td>1.00</td>\n",
       "      <td>1.00</td>\n",
       "      <td>1.00</td>\n",
       "      <td>1.00</td>\n",
       "      <td>1.00</td>\n",
       "      <td>1.00</td>\n",
       "      <td>1.00</td>\n",
       "    </tr>\n",
       "  </tbody>\n",
       "</table>\n",
       "</div>"
      ],
      "text/plain": [
       "       district_count  village_count  official_area_sqkm  \\\n",
       "count           36.00          36.00               36.00   \n",
       "mean            20.56      18,428.64           88,119.86   \n",
       "std             16.24      23,216.33           95,694.50   \n",
       "min              1.00           0.00               33.00   \n",
       "25%             10.25         765.75            9,929.00   \n",
       "50%             18.00       9,443.50           54,697.00   \n",
       "75%             30.75      29,690.50          130,073.50   \n",
       "max             75.00     108,910.00          341,876.00   \n",
       "\n",
       "       proj_population_2020  agro_climatic_zone1  agro_climatic_zone2  \\\n",
       "count                 36.00                36.00                36.00   \n",
       "mean          38,102,418.11                 0.08                 0.22   \n",
       "std           50,005,546.62                 0.28                 0.42   \n",
       "min               73,183.00                 0.00                 0.00   \n",
       "25%            1,582,302.00                 0.00                 0.00   \n",
       "50%           23,457,807.00                 0.00                 0.00   \n",
       "75%           56,395,644.50                 0.00                 0.00   \n",
       "max          237,882,725.00                 1.00                 1.00   \n",
       "\n",
       "       agro_climatic_zone3  agro_climatic_zone4  agro_climatic_zone5  \\\n",
       "count                36.00                36.00                36.00   \n",
       "mean                  0.03                 0.08                 0.03   \n",
       "std                   0.17                 0.28                 0.17   \n",
       "min                   0.00                 0.00                 0.00   \n",
       "25%                   0.00                 0.00                 0.00   \n",
       "50%                   0.00                 0.00                 0.00   \n",
       "75%                   0.00                 0.00                 0.00   \n",
       "max                   1.00                 1.00                 1.00   \n",
       "\n",
       "       agro_climatic_zone6  agro_climatic_zone7  agro_climatic_zone8  \\\n",
       "count                36.00                36.00                36.00   \n",
       "mean                  0.11                 0.14                 0.11   \n",
       "std                   0.32                 0.35                 0.32   \n",
       "min                   0.00                 0.00                 0.00   \n",
       "25%                   0.00                 0.00                 0.00   \n",
       "50%                   0.00                 0.00                 0.00   \n",
       "75%                   0.00                 0.00                 0.00   \n",
       "max                   1.00                 1.00                 1.00   \n",
       "\n",
       "       agro_climatic_zone9  agro_climatic_zone10  agro_climatic_zone11  \\\n",
       "count                36.00                 36.00                 36.00   \n",
       "mean                  0.11                  0.14                  0.11   \n",
       "std                   0.32                  0.35                  0.32   \n",
       "min                   0.00                  0.00                  0.00   \n",
       "25%                   0.00                  0.00                  0.00   \n",
       "50%                   0.00                  0.00                  0.00   \n",
       "75%                   0.00                  0.00                  0.00   \n",
       "max                   1.00                  1.00                  1.00   \n",
       "\n",
       "       agro_climatic_zone12  agro_climatic_zone13  agro_climatic_zone14  \\\n",
       "count                 36.00                 36.00                 36.00   \n",
       "mean                   0.17                  0.11                  0.03   \n",
       "std                    0.38                  0.32                  0.17   \n",
       "min                    0.00                  0.00                  0.00   \n",
       "25%                    0.00                  0.00                  0.00   \n",
       "50%                    0.00                  0.00                  0.00   \n",
       "75%                    0.00                  0.00                  0.00   \n",
       "max                    1.00                  1.00                  1.00   \n",
       "\n",
       "       agro_climatic_zone15  \n",
       "count                 36.00  \n",
       "mean                   0.06  \n",
       "std                    0.23  \n",
       "min                    0.00  \n",
       "25%                    0.00  \n",
       "50%                    0.00  \n",
       "75%                    0.00  \n",
       "max                    1.00  "
      ]
     },
     "execution_count": 12,
     "metadata": {},
     "output_type": "execute_result"
    }
   ],
   "source": [
    "demographic_df.describe() #Fetch statistical information about demographic dataset"
   ]
  },
  {
   "cell_type": "markdown",
   "metadata": {},
   "source": [
    "### Identify missing values"
   ]
  },
  {
   "cell_type": "code",
   "execution_count": 13,
   "metadata": {},
   "outputs": [
    {
     "name": "stdout",
     "output_type": "stream",
     "text": [
      "+------------------------+-------------+-----------------+\n",
      "| Feature                |   Missing % |   Missing Count |\n",
      "+========================+=============+=================+\n",
      "| 201314_milk_production |       13.89 |               5 |\n",
      "+------------------------+-------------+-----------------+\n",
      "| 201314_yield_in_milk   |       11.11 |               4 |\n",
      "+------------------------+-------------+-----------------+\n",
      "| 201314_in_milk         |       11.11 |               4 |\n",
      "+------------------------+-------------+-----------------+\n",
      "| 201819_milk_production |        8.33 |               3 |\n",
      "+------------------------+-------------+-----------------+\n",
      "| 201617_milk_production |        8.33 |               3 |\n",
      "+------------------------+-------------+-----------------+\n",
      "| 201718_milk_production |        8.33 |               3 |\n",
      "+------------------------+-------------+-----------------+\n",
      "| 201516_milk_production |        5.56 |               2 |\n",
      "+------------------------+-------------+-----------------+\n",
      "| 201819_yield_in_milk   |        5.56 |               2 |\n",
      "+------------------------+-------------+-----------------+\n",
      "| 201718_yield_in_milk   |        5.56 |               2 |\n",
      "+------------------------+-------------+-----------------+\n",
      "| 201617_yield_in_milk   |        5.56 |               2 |\n",
      "+------------------------+-------------+-----------------+\n"
     ]
    }
   ],
   "source": [
    "# Check top 10 attributes with missing value count in buffalo dataset\n",
    "percent = (buffalo_df.isnull().sum()/buffalo_df.isnull().count()*100).sort_values(ascending = False).round(2)\n",
    "sum_missing = buffalo_df.isna().sum().sort_values(ascending = False)\n",
    "\n",
    "buffalo_missing_data  = pd.concat([percent, sum_missing], axis=1, keys=[\"Missing %\", \"Missing Count\"])\n",
    "output = buffalo_missing_data.head(10)\n",
    "\n",
    "# print dataframe output in markdown format \n",
    "print(output.to_markdown(headers=[\"Feature\",\"Missing %\",\"Missing Count\"], tablefmt=\"grid\")) "
   ]
  },
  {
   "cell_type": "code",
   "execution_count": 14,
   "metadata": {},
   "outputs": [
    {
     "name": "stdout",
     "output_type": "stream",
     "text": [
      "+----------------------+-------------+-----------------+\n",
      "| Feature              |   Missing % |   Missing Count |\n",
      "+======================+=============+=================+\n",
      "| agro_climatic_zone15 |           0 |               0 |\n",
      "+----------------------+-------------+-----------------+\n",
      "| agro_climatic_zone14 |           0 |               0 |\n",
      "+----------------------+-------------+-----------------+\n",
      "| district_count       |           0 |               0 |\n",
      "+----------------------+-------------+-----------------+\n",
      "| village_count        |           0 |               0 |\n",
      "+----------------------+-------------+-----------------+\n",
      "| official_area_sqkm   |           0 |               0 |\n",
      "+----------------------+-------------+-----------------+\n",
      "| proj_population_2020 |           0 |               0 |\n",
      "+----------------------+-------------+-----------------+\n",
      "| agro_climatic_zone1  |           0 |               0 |\n",
      "+----------------------+-------------+-----------------+\n",
      "| agro_climatic_zone2  |           0 |               0 |\n",
      "+----------------------+-------------+-----------------+\n",
      "| agro_climatic_zone3  |           0 |               0 |\n",
      "+----------------------+-------------+-----------------+\n",
      "| agro_climatic_zone4  |           0 |               0 |\n",
      "+----------------------+-------------+-----------------+\n"
     ]
    }
   ],
   "source": [
    "# Check top 10 attributes with missing value count in demographic dataset\n",
    "percent = (demographic_df.isnull().sum()/demographic_df.isnull().count()*100).sort_values(ascending = False).round(2)\n",
    "sum_missing = demographic_df.isna().sum().sort_values(ascending = False)\n",
    "\n",
    "demographic_missing_data  = pd.concat([percent, sum_missing], axis=1, keys=[\"Missing %\", \"Missing Count\"])\n",
    "output = demographic_missing_data.head(10)\n",
    "\n",
    "# print dataframe output in markdown format\n",
    "print(output.to_markdown(headers=[\"Feature\",\"Missing %\",\"Missing Count\"], tablefmt=\"grid\"))  "
   ]
  },
  {
   "cell_type": "markdown",
   "metadata": {},
   "source": [
    "### Fill missing values"
   ]
  },
  {
   "cell_type": "markdown",
   "metadata": {},
   "source": [
    "There are some missing values in main buffalo dataset but there are no mising values in the demograhic dataset. Since all the columns with missing vlaues are number columns we choose to fill them with 0 instead of mean or median method to avoid results.  0 would indicated data was not recorded for this particular attribute. Let us leave the secondary dataset. No action needed on it. "
   ]
  },
  {
   "cell_type": "code",
   "execution_count": 15,
   "metadata": {},
   "outputs": [],
   "source": [
    "buffalo_df.fillna(value=0, inplace=True) # Fill 0 value inplace in buffalo dataset "
   ]
  },
  {
   "cell_type": "markdown",
   "metadata": {},
   "source": [
    "### Rest Index"
   ]
  },
  {
   "cell_type": "markdown",
   "metadata": {},
   "source": [
    "Both the dataset has one record for each state. As state name is unique column in both the dataset so we set sate name as index column and drop it from the column list"
   ]
  },
  {
   "cell_type": "code",
   "execution_count": 16,
   "metadata": {},
   "outputs": [],
   "source": [
    "buffalo_df.set_index([\"State_name\"], drop=True, inplace=True)\n",
    "demographic_df.set_index([\"State_name\"], drop=True, inplace=True)"
   ]
  },
  {
   "cell_type": "markdown",
   "metadata": {},
   "source": [
    "### Data Distribution"
   ]
  },
  {
   "cell_type": "markdown",
   "metadata": {},
   "source": [
    "Focus of this section would be to identify buffalo distribution in country. We  by buffalo count "
   ]
  },
  {
   "cell_type": "code",
   "execution_count": 17,
   "metadata": {},
   "outputs": [
    {
     "name": "stdout",
     "output_type": "stream",
     "text": [
      "+----+----------------+---------+----------+\n",
      "|    | State          |    Male |   Female |\n",
      "+====+================+=========+==========+\n",
      "| 32 | UTTAR PRADESH  | 4914705 | 25710629 |\n",
      "+----+----------------+---------+----------+\n",
      "| 28 | RAJASTHAN      | 1575276 | 11400819 |\n",
      "+----+----------------+---------+----------+\n",
      "|  1 | ANDHRA PRADESH | 1350533 |  9272257 |\n",
      "+----+----------------+---------+----------+\n",
      "| 10 | GUJARAT        |  835775 |  9549799 |\n",
      "+----+----------------+---------+----------+\n",
      "| 18 | MADHYA PRADESH | 1283620 |  6904369 |\n",
      "+----+----------------+---------+----------+\n",
      "|  4 | BIHAR          |  976436 |  6590797 |\n",
      "+----+----------------+---------+----------+\n",
      "| 11 | HARYANA        |  937883 |  5147429 |\n",
      "+----+----------------+---------+----------+\n",
      "| 19 | MAHARASHTRA    |  596689 |  4997703 |\n",
      "+----+----------------+---------+----------+\n",
      "| 27 | PUNJAB         |  533701 |  4626033 |\n",
      "+----+----------------+---------+----------+\n",
      "| 15 | KARNATAKA      |  360374 |  3110131 |\n",
      "+----+----------------+---------+----------+\n"
     ]
    }
   ],
   "source": [
    "top_df = buffalo_df[[\"total_buffalo\",\"total_male\",\"total_female\"]] # select only subset of data \n",
    "top_df.reset_index(inplace=True)\n",
    "top_df.columns = [\"State\",\"Total\",\"Male\",\"Female\"] # rename columns to readable format\n",
    "top_df.sort_values(by=\"Total\", axis=0, ascending=False, inplace=True) #sort data to select top 10 records\n",
    "top_df = top_df.iloc[:10]\n",
    "top_df = top_df[[\"State\",\"Male\",\"Female\"]]\n",
    "print(top_df.to_markdown(tablefmt=\"grid\")) # print dataframe output in markdown format"
   ]
  },
  {
   "cell_type": "code",
   "execution_count": 18,
   "metadata": {},
   "outputs": [
    {
     "name": "stdout",
     "output_type": "stream",
     "text": [
      "+----+----------------+---------+----------+---------+\n",
      "|    | State          |   index | Legend   |   value |\n",
      "+====+================+=========+==========+=========+\n",
      "|  0 | UTTAR PRADESH  |      32 | Male     | 4914705 |\n",
      "+----+----------------+---------+----------+---------+\n",
      "|  1 | RAJASTHAN      |      28 | Male     | 1575276 |\n",
      "+----+----------------+---------+----------+---------+\n",
      "|  2 | ANDHRA PRADESH |       1 | Male     | 1350533 |\n",
      "+----+----------------+---------+----------+---------+\n",
      "|  3 | GUJARAT        |      10 | Male     |  835775 |\n",
      "+----+----------------+---------+----------+---------+\n",
      "|  4 | MADHYA PRADESH |      18 | Male     | 1283620 |\n",
      "+----+----------------+---------+----------+---------+\n"
     ]
    }
   ],
   "source": [
    "top_transformed = top_df.reset_index().melt(['State', 'index'])\n",
    "top_transformed.columns = [\"State\",\"index\",\"Legend\",\"value\"] # rename columns to readable format\n",
    "output = top_transformed.head()\n",
    "print(output.to_markdown(tablefmt=\"grid\")) # print dataframe output in markdown format"
   ]
  },
  {
   "cell_type": "code",
   "execution_count": 19,
   "metadata": {},
   "outputs": [
    {
     "data": {
      "image/png": "[encoded data removed]",
      "text/plain": [
       "<Figure size 432x288 with 1 Axes>"
      ]
     },
     "metadata": {
      "needs_background": "light"
     },
     "output_type": "display_data"
    }
   ],
   "source": [
    "sns.barplot(top_transformed.value / 1000000 ,y=\"State\", hue=\"Legend\", data=top_transformed, )\n",
    "plt.title('Top 10 state by buffalo count', fontsize=16)\n",
    "plt.xlabel('Buffalo count (Million)', fontsize=12)\n",
    "plt.ylabel('State', fontsize=12)\n",
    "plt.yticks(fontsize=12) \n",
    "plt.xticks(fontsize=12) \n",
    "plt.show()"
   ]
  },
  {
   "cell_type": "code",
   "execution_count": 20,
   "metadata": {},
   "outputs": [
    {
     "data": {
      "image/png": "[encoded data removed]",
      "text/plain": [
       "<Figure size 432x288 with 1 Axes>"
      ]
     },
     "metadata": {},
     "output_type": "display_data"
    }
   ],
   "source": [
    "labels = ['Female Buffalo', 'Male Buffalo']\n",
    "sizes = [np.sum(buffalo_df.total_female), np.sum(buffalo_df.total_male)]\n",
    "fig1, ax1 = plt.subplots()\n",
    "ax1.pie(sizes, labels=labels, autopct='%1.1f%%',startangle=90)\n",
    "ax1.axis('equal')\n",
    "plt.title('Male v/s Female Buffalo Ratio', fontsize=14)\n",
    "plt.show()"
   ]
  },
  {
   "cell_type": "markdown",
   "metadata": {},
   "source": [
    "<a id=FeatureEng></a>\n",
    "## Feature Engineering \n",
    "[Return to start](#TOC)"
   ]
  },
  {
   "cell_type": "markdown",
   "metadata": {},
   "source": [
    "When conducting an end to end Machine Learning project, after exploring and preprocessing the data it is essential to think of feature engineering. It consists of creating new feature(s) based on the features that already exist in the dataset that can be useful for training the model."
   ]
  },
  {
   "cell_type": "markdown",
   "metadata": {},
   "source": [
    "### New Features"
   ]
  },
  {
   "cell_type": "markdown",
   "metadata": {},
   "source": [
    "Calculate total number of buffalos under each category"
   ]
  },
  {
   "cell_type": "code",
   "execution_count": 21,
   "metadata": {},
   "outputs": [],
   "source": [
    "buffalo_df[\"Banni\"] = buffalo_df[\"Banni_male_total\"] + buffalo_df[\"Banni_female_total\"]\n",
    "buffalo_df[\"Bhadawari\"] = buffalo_df[\"Bhadawari_male_total\"] + buffalo_df[\"Bhadawari_female_total\"]\n",
    "buffalo_df[\"Chilika\"] = buffalo_df[\"Chilika_male_total\"] + buffalo_df[\"Chilika_female_total\"]\n",
    "buffalo_df[\"Jaffarabadi\"] = buffalo_df[\"Jaffarabadi_male_total\"] + buffalo_df[\"Jaffarabadi_female_total\"]\n",
    "buffalo_df[\"Kalahandi\"] = buffalo_df[\"Kalahandi_male_total\"] + buffalo_df[\"Kalahandi_female_total\"]\n",
    "buffalo_df[\"Marathwadi\"] = buffalo_df[\"Marathwadi_male_total\"] + buffalo_df[\"Marathwadi_female_total\"]\n",
    "buffalo_df[\"Mehsana\"] = buffalo_df[\"Mehsana_male_total\"] + buffalo_df[\"Mehsana_female_total\"]\n",
    "buffalo_df[\"Murrah\"] = buffalo_df[\"Murrah_male_total\"] + buffalo_df[\"Murrah_female_total\"]\n",
    "buffalo_df[\"Nagpuri\"] = buffalo_df[\"Nagpuri_male_total\"] + buffalo_df[\"Nagpuri_female_total\"]\n",
    "buffalo_df[\"Nili Ravi\"] = buffalo_df[\"Nili_Ravi_male_total\"] + buffalo_df[\"Nili_Ravi_female_total\"]\n",
    "buffalo_df[\"Non Descript\"] = buffalo_df[\"Non_descript_male_total\"] + buffalo_df[\"Non_descript_female_total\"]\n",
    "buffalo_df[\"Pandharpuri\"] = buffalo_df[\"Pandharpuri_male_total\"] + buffalo_df[\"Pandharpuri_female_total\"]\n",
    "buffalo_df[\"Surti\"] = buffalo_df[\"Surti_male_total\"] + buffalo_df[\"Surti_female_total\"]\n",
    "buffalo_df[\"Toda\"] = buffalo_df[\"Toda_male_total\"] + buffalo_df[\"Toda_female_total\"]"
   ]
  },
  {
   "cell_type": "code",
   "execution_count": 22,
   "metadata": {},
   "outputs": [
    {
     "data": {
      "text/html": [
       "<div>\n",
       "<style scoped>\n",
       "    .dataframe tbody tr th:only-of-type {\n",
       "        vertical-align: middle;\n",
       "    }\n",
       "\n",
       "    .dataframe tbody tr th {\n",
       "        vertical-align: top;\n",
       "    }\n",
       "\n",
       "    .dataframe thead th {\n",
       "        text-align: right;\n",
       "    }\n",
       "</style>\n",
       "<table border=\"1\" class=\"dataframe\">\n",
       "  <thead>\n",
       "    <tr style=\"text-align: right;\">\n",
       "      <th></th>\n",
       "      <th>total_buffalo</th>\n",
       "      <th>Banni</th>\n",
       "      <th>Bhadawari</th>\n",
       "      <th>Chilika</th>\n",
       "      <th>Jaffarabadi</th>\n",
       "      <th>Kalahandi</th>\n",
       "      <th>Marathwadi</th>\n",
       "      <th>Mehsana</th>\n",
       "      <th>Murrah</th>\n",
       "      <th>Nagpuri</th>\n",
       "      <th>Nili Ravi</th>\n",
       "      <th>Non Descript</th>\n",
       "      <th>Pandharpuri</th>\n",
       "      <th>Surti</th>\n",
       "      <th>Toda</th>\n",
       "      <th>total_male</th>\n",
       "      <th>total_female</th>\n",
       "    </tr>\n",
       "    <tr>\n",
       "      <th>State_name</th>\n",
       "      <th></th>\n",
       "      <th></th>\n",
       "      <th></th>\n",
       "      <th></th>\n",
       "      <th></th>\n",
       "      <th></th>\n",
       "      <th></th>\n",
       "      <th></th>\n",
       "      <th></th>\n",
       "      <th></th>\n",
       "      <th></th>\n",
       "      <th></th>\n",
       "      <th></th>\n",
       "      <th></th>\n",
       "      <th></th>\n",
       "      <th></th>\n",
       "      <th></th>\n",
       "    </tr>\n",
       "  </thead>\n",
       "  <tbody>\n",
       "    <tr>\n",
       "      <th>UTTAR PRADESH</th>\n",
       "      <td>30625334</td>\n",
       "      <td>0</td>\n",
       "      <td>1583720</td>\n",
       "      <td>0</td>\n",
       "      <td>130767</td>\n",
       "      <td>0</td>\n",
       "      <td>0</td>\n",
       "      <td>11444</td>\n",
       "      <td>20110852</td>\n",
       "      <td>0</td>\n",
       "      <td>12519</td>\n",
       "      <td>8772357</td>\n",
       "      <td>0</td>\n",
       "      <td>2508</td>\n",
       "      <td>0</td>\n",
       "      <td>4914705</td>\n",
       "      <td>25710629</td>\n",
       "    </tr>\n",
       "    <tr>\n",
       "      <th>RAJASTHAN</th>\n",
       "      <td>12976095</td>\n",
       "      <td>0</td>\n",
       "      <td>2610</td>\n",
       "      <td>0</td>\n",
       "      <td>20230</td>\n",
       "      <td>0</td>\n",
       "      <td>0</td>\n",
       "      <td>0</td>\n",
       "      <td>6448563</td>\n",
       "      <td>0</td>\n",
       "      <td>0</td>\n",
       "      <td>5612634</td>\n",
       "      <td>0</td>\n",
       "      <td>892058</td>\n",
       "      <td>0</td>\n",
       "      <td>1575276</td>\n",
       "      <td>11400819</td>\n",
       "    </tr>\n",
       "    <tr>\n",
       "      <th>ANDHRA PRADESH</th>\n",
       "      <td>10622790</td>\n",
       "      <td>0</td>\n",
       "      <td>0</td>\n",
       "      <td>0</td>\n",
       "      <td>15061</td>\n",
       "      <td>0</td>\n",
       "      <td>0</td>\n",
       "      <td>5219</td>\n",
       "      <td>5227270</td>\n",
       "      <td>13521</td>\n",
       "      <td>0</td>\n",
       "      <td>5361719</td>\n",
       "      <td>0</td>\n",
       "      <td>0</td>\n",
       "      <td>0</td>\n",
       "      <td>1350533</td>\n",
       "      <td>9272257</td>\n",
       "    </tr>\n",
       "    <tr>\n",
       "      <th>GUJARAT</th>\n",
       "      <td>10385574</td>\n",
       "      <td>382122</td>\n",
       "      <td>0</td>\n",
       "      <td>0</td>\n",
       "      <td>1412384</td>\n",
       "      <td>0</td>\n",
       "      <td>0</td>\n",
       "      <td>3545647</td>\n",
       "      <td>0</td>\n",
       "      <td>0</td>\n",
       "      <td>0</td>\n",
       "      <td>3215549</td>\n",
       "      <td>0</td>\n",
       "      <td>1829872</td>\n",
       "      <td>0</td>\n",
       "      <td>835775</td>\n",
       "      <td>9549799</td>\n",
       "    </tr>\n",
       "    <tr>\n",
       "      <th>MADHYA PRADESH</th>\n",
       "      <td>8187989</td>\n",
       "      <td>0</td>\n",
       "      <td>81983</td>\n",
       "      <td>0</td>\n",
       "      <td>38735</td>\n",
       "      <td>0</td>\n",
       "      <td>0</td>\n",
       "      <td>0</td>\n",
       "      <td>1446078</td>\n",
       "      <td>20959</td>\n",
       "      <td>0</td>\n",
       "      <td>6600234</td>\n",
       "      <td>0</td>\n",
       "      <td>0</td>\n",
       "      <td>0</td>\n",
       "      <td>1283620</td>\n",
       "      <td>6904369</td>\n",
       "    </tr>\n",
       "  </tbody>\n",
       "</table>\n",
       "</div>"
      ],
      "text/plain": [
       "                total_buffalo   Banni  Bhadawari  Chilika  Jaffarabadi  \\\n",
       "State_name                                                               \n",
       "UTTAR PRADESH        30625334       0    1583720        0       130767   \n",
       "RAJASTHAN            12976095       0       2610        0        20230   \n",
       "ANDHRA PRADESH       10622790       0          0        0        15061   \n",
       "GUJARAT              10385574  382122          0        0      1412384   \n",
       "MADHYA PRADESH        8187989       0      81983        0        38735   \n",
       "\n",
       "                Kalahandi  Marathwadi  Mehsana    Murrah  Nagpuri  Nili Ravi  \\\n",
       "State_name                                                                     \n",
       "UTTAR PRADESH           0           0    11444  20110852        0      12519   \n",
       "RAJASTHAN               0           0        0   6448563        0          0   \n",
       "ANDHRA PRADESH          0           0     5219   5227270    13521          0   \n",
       "GUJARAT                 0           0  3545647         0        0          0   \n",
       "MADHYA PRADESH          0           0        0   1446078    20959          0   \n",
       "\n",
       "                Non Descript  Pandharpuri    Surti  Toda  total_male  \\\n",
       "State_name                                                             \n",
       "UTTAR PRADESH        8772357            0     2508     0     4914705   \n",
       "RAJASTHAN            5612634            0   892058     0     1575276   \n",
       "ANDHRA PRADESH       5361719            0        0     0     1350533   \n",
       "GUJARAT              3215549            0  1829872     0      835775   \n",
       "MADHYA PRADESH       6600234            0        0     0     1283620   \n",
       "\n",
       "                total_female  \n",
       "State_name                    \n",
       "UTTAR PRADESH       25710629  \n",
       "RAJASTHAN           11400819  \n",
       "ANDHRA PRADESH       9272257  \n",
       "GUJARAT              9549799  \n",
       "MADHYA PRADESH       6904369  "
      ]
     },
     "execution_count": 22,
     "metadata": {},
     "output_type": "execute_result"
    }
   ],
   "source": [
    "count_df = buffalo_df[[\"total_buffalo\",\"Banni\",\"Bhadawari\",\"Chilika\",\"Jaffarabadi\",\"Kalahandi\",\"Marathwadi\",\"Mehsana\",\n",
    "                       \"Murrah\",\"Nagpuri\",\"Nili Ravi\",\"Non Descript\",\"Pandharpuri\",\"Surti\",\"Toda\",\"total_male\",\n",
    "                      \"total_female\"]]\n",
    "count_df.sort_values(by=\"total_buffalo\", axis=0, ascending=False, inplace=True)\n",
    "count_df.head()"
   ]
  },
  {
   "cell_type": "code",
   "execution_count": 23,
   "metadata": {},
   "outputs": [
    {
     "name": "stdout",
     "output_type": "stream",
     "text": [
      "+--------------+----------+\n",
      "| Breed        |    Count |\n",
      "+==============+==========+\n",
      "| Banni        |   382122 |\n",
      "+--------------+----------+\n",
      "| Bhadawari    |  1753787 |\n",
      "+--------------+----------+\n",
      "| Chilika      |     3386 |\n",
      "+--------------+----------+\n",
      "| Jaffarabadi  |  1771498 |\n",
      "+--------------+----------+\n",
      "| Kalahandi    |   142015 |\n",
      "+--------------+----------+\n",
      "| Marathwadi   |   376595 |\n",
      "+--------------+----------+\n",
      "| Mehsana      |  3625125 |\n",
      "+--------------+----------+\n",
      "| Murrah       | 48254874 |\n",
      "+--------------+----------+\n",
      "| Nagpuri      |   190994 |\n",
      "+--------------+----------+\n",
      "| Nili Ravi    |   658990 |\n",
      "+--------------+----------+\n",
      "| Non Descript | 47142313 |\n",
      "+--------------+----------+\n",
      "| Pandharpuri  |   483738 |\n",
      "+--------------+----------+\n",
      "| Surti        |  3892894 |\n",
      "+--------------+----------+\n",
      "| Toda         |     5536 |\n",
      "+--------------+----------+\n"
     ]
    }
   ],
   "source": [
    "output = count_df[[\"Banni\",\"Bhadawari\",\"Chilika\",\"Jaffarabadi\",\"Kalahandi\",\"Marathwadi\",\"Mehsana\",\n",
    "          \"Murrah\",\"Nagpuri\",\"Nili Ravi\",\"Non Descript\",\"Pandharpuri\",\"Surti\",\"Toda\"]].sum(axis=0)\n",
    "\n",
    "# print dataframe output in markdown format\n",
    "print(output.to_markdown(headers=[\"Breed\",\"Count\"], tablefmt=\"grid\", floatfmt=(\".0f\"))) "
   ]
  },
  {
   "cell_type": "markdown",
   "metadata": {},
   "source": [
    "Calculate average of below fields of all past 6 years data points\n",
    "- **Average in milk** - Average number of In-Milk animals per state (figures in 000 nos)\n",
    "- **Average yield per In-Milk animal** - Average yield per In-Milk animals per state (figures in kg/day)\n",
    "- **Average milk production** - Average milk production per state (figures in 000 tones)"
   ]
  },
  {
   "cell_type": "code",
   "execution_count": 24,
   "metadata": {},
   "outputs": [],
   "source": [
    "buffalo_df[\"avg_in_milk\"] = (buffalo_df[\"201314_in_milk\"] + buffalo_df[\"201415_in_milk\"] + buffalo_df[\"201516_in_milk\"] + \n",
    "                             buffalo_df[\"201617_in_milk\"] + buffalo_df[\"201718_in_milk\"] + buffalo_df[\"201819_in_milk\"])/6\n",
    "\n",
    "buffalo_df[\"avg_yield_in_milk\"] = (buffalo_df[\"201314_yield_in_milk\"] + buffalo_df[\"201415_yield_in_milk\"] + buffalo_df[\"201516_yield_in_milk\"] + \n",
    "                                   buffalo_df[\"201617_yield_in_milk\"] + buffalo_df[\"201718_yield_in_milk\"] + buffalo_df[\"201819_yield_in_milk\"])/6\n",
    "\n",
    "buffalo_df[\"avg_milk_production\"] = (buffalo_df[\"201314_milk_production\"] + buffalo_df[\"201415_milk_production\"] + buffalo_df[\"201516_milk_production\"] + \n",
    "                                     buffalo_df[\"201617_milk_production\"] + buffalo_df[\"201718_milk_production\"] + buffalo_df[\"201819_milk_production\"])/6"
   ]
  },
  {
   "cell_type": "code",
   "execution_count": 25,
   "metadata": {},
   "outputs": [
    {
     "data": {
      "text/html": [
       "<div>\n",
       "<style scoped>\n",
       "    .dataframe tbody tr th:only-of-type {\n",
       "        vertical-align: middle;\n",
       "    }\n",
       "\n",
       "    .dataframe tbody tr th {\n",
       "        vertical-align: top;\n",
       "    }\n",
       "\n",
       "    .dataframe thead th {\n",
       "        text-align: right;\n",
       "    }\n",
       "</style>\n",
       "<table border=\"1\" class=\"dataframe\">\n",
       "  <thead>\n",
       "    <tr style=\"text-align: right;\">\n",
       "      <th></th>\n",
       "      <th>avg_in_milk</th>\n",
       "      <th>avg_yield_in_milk</th>\n",
       "      <th>avg_milk_production</th>\n",
       "    </tr>\n",
       "    <tr>\n",
       "      <th>State_name</th>\n",
       "      <th></th>\n",
       "      <th></th>\n",
       "      <th></th>\n",
       "    </tr>\n",
       "  </thead>\n",
       "  <tbody>\n",
       "    <tr>\n",
       "      <th>ANDAMAN &amp; NICOBAR ISLANDS</th>\n",
       "      <td>1.17</td>\n",
       "      <td>3.78</td>\n",
       "      <td>1.61</td>\n",
       "    </tr>\n",
       "    <tr>\n",
       "      <th>ANDHRA PRADESH</th>\n",
       "      <td>3,838.80</td>\n",
       "      <td>6.14</td>\n",
       "      <td>8,427.80</td>\n",
       "    </tr>\n",
       "    <tr>\n",
       "      <th>ARUNACHAL PRADESH</th>\n",
       "      <td>0.44</td>\n",
       "      <td>1.82</td>\n",
       "      <td>0.36</td>\n",
       "    </tr>\n",
       "    <tr>\n",
       "      <th>ASSAM</th>\n",
       "      <td>98.39</td>\n",
       "      <td>3.30</td>\n",
       "      <td>117.74</td>\n",
       "    </tr>\n",
       "    <tr>\n",
       "      <th>BIHAR</th>\n",
       "      <td>2,175.45</td>\n",
       "      <td>4.25</td>\n",
       "      <td>3,383.45</td>\n",
       "    </tr>\n",
       "  </tbody>\n",
       "</table>\n",
       "</div>"
      ],
      "text/plain": [
       "                           avg_in_milk  avg_yield_in_milk  avg_milk_production\n",
       "State_name                                                                    \n",
       "ANDAMAN & NICOBAR ISLANDS         1.17               3.78                 1.61\n",
       "ANDHRA PRADESH                3,838.80               6.14             8,427.80\n",
       "ARUNACHAL PRADESH                 0.44               1.82                 0.36\n",
       "ASSAM                            98.39               3.30               117.74\n",
       "BIHAR                         2,175.45               4.25             3,383.45"
      ]
     },
     "execution_count": 25,
     "metadata": {},
     "output_type": "execute_result"
    }
   ],
   "source": [
    "# Fill 0 value inplace in buffalo dataset after new features calculated \n",
    "buffalo_df.fillna(value=0, inplace=True) \n",
    "\n",
    "buffalo_df[[\"avg_in_milk\",\"avg_yield_in_milk\",\"avg_milk_production\"]].head()"
   ]
  },
  {
   "cell_type": "markdown",
   "metadata": {},
   "source": [
    "### Correlation with Total Buffalo count"
   ]
  },
  {
   "cell_type": "code",
   "execution_count": 26,
   "metadata": {},
   "outputs": [],
   "source": [
    "cols = [\"Banni\",\"Bhadawari\",\"Chilika\",\"Jaffarabadi\",\"Kalahandi\",\"Marathwadi\",\"Mehsana\",\n",
    "        \"Murrah\",\"Nagpuri\",\"Nili Ravi\",\"Non Descript\",\"Pandharpuri\",\"Surti\",\"Toda\",\n",
    "        \"avg_in_milk\",\"avg_yield_in_milk\",\"avg_milk_production\", \"total_buffalo\"]\n",
    "corr = buffalo_df[cols].corr()"
   ]
  },
  {
   "cell_type": "code",
   "execution_count": 27,
   "metadata": {},
   "outputs": [
    {
     "name": "stdout",
     "output_type": "stream",
     "text": [
      "Most Positive Correlations:\n",
      "+---------------------+------+\n",
      "| Feature             |    % |\n",
      "+=====================+======+\n",
      "| total_buffalo       | 1.00 |\n",
      "+---------------------+------+\n",
      "| avg_in_milk         | 0.99 |\n",
      "+---------------------+------+\n",
      "| avg_milk_production | 0.95 |\n",
      "+---------------------+------+\n",
      "| Murrah              | 0.93 |\n",
      "+---------------------+------+\n",
      "| Non Descript        | 0.90 |\n",
      "+---------------------+------+\n",
      "\n",
      "Most Negative Correlations:\n",
      "+-------------+-------+\n",
      "| Feature     |     % |\n",
      "+=============+=======+\n",
      "| Pandharpuri |  0.07 |\n",
      "+-------------+-------+\n",
      "| Marathwadi  |  0.07 |\n",
      "+-------------+-------+\n",
      "| Toda        | -0.07 |\n",
      "+-------------+-------+\n",
      "| Chilika     | -0.07 |\n",
      "+-------------+-------+\n",
      "| Kalahandi   | -0.07 |\n",
      "+-------------+-------+\n"
     ]
    }
   ],
   "source": [
    "print(\"Most Positive Correlations:\")\n",
    "output = corr['total_buffalo'].sort_values(ascending=False).head(5)\n",
    "print(output.to_markdown(headers=[\"Feature\",\"%\"], tablefmt=\"grid\", floatfmt=(\".2f\")))\n",
    "\n",
    "print(\"\\nMost Negative Correlations:\")\n",
    "output = corr['total_buffalo'].sort_values(ascending=False).tail(5)\n",
    "print(output.to_markdown(headers=[\"Feature\",\"%\"], tablefmt=\"grid\", floatfmt=(\".2f\")))"
   ]
  },
  {
   "cell_type": "markdown",
   "metadata": {},
   "source": [
    "### Correlation Observations\n",
    "\n",
    "Total Buffalo count is not our target feature but it would be interesting to see how the different features are correlated with this feature. \n",
    "\n",
    "- Non Descript, Murrah, Average in-milk, Average milk production are highly positve correlated features with total buffalo count. Though Murrah and Non Descript are the only features are actual buffalo breeds and directly impact to total buffalo count but, average in-milk feature takes into consideration total number of in-milk animals and average milk production would be indirect feature.\n",
    "\n",
    "- Toda , Chilika and Kalahandi are the most highly negative correlated features with total buffalo breeds."
   ]
  },
  {
   "cell_type": "code",
   "execution_count": 28,
   "metadata": {},
   "outputs": [
    {
     "data": {
      "image/png": "[encoded data removed]",
      "text/plain": [
       "<Figure size 864x576 with 25 Axes>"
      ]
     },
     "metadata": {
      "needs_background": "light"
     },
     "output_type": "display_data"
    }
   ],
   "source": [
    "attributes = [\"total_buffalo\",\"avg_in_milk\",\"avg_milk_production\",\"Murrah\",\"Non Descript\"]\n",
    "scatter_matrix(corr[attributes], figsize=(12, 8));"
   ]
  },
  {
   "cell_type": "markdown",
   "metadata": {},
   "source": [
    "### Buffalo breed analysis of state _**Uttar Pradesh**_ and _**Punjab**_"
   ]
  },
  {
   "cell_type": "markdown",
   "metadata": {},
   "source": [
    "- **Uttar Pradesh** state is the top most state in _**milk production**_ and total number of buffalo breeds in India. This state has highest number of Murrah **(known worldwide for high yield)**, Non Descript and Bhadawari buffalo breeds.\n",
    "\n",
    "\n",
    "- **Punjab** is not top milk producing state stands top in the list of _**Average Yield per In-Milk Animal**_. This is becuase ratio of Murrah buffalo breeds which are known for high yield are more compared to Uttar Pradesh"
   ]
  },
  {
   "cell_type": "code",
   "execution_count": 29,
   "metadata": {},
   "outputs": [],
   "source": [
    "milk_df = buffalo_df[[\"total_buffalo\",\"Murrah\",\"avg_milk_production\", \"avg_yield_in_milk\"]]"
   ]
  },
  {
   "cell_type": "code",
   "execution_count": 30,
   "metadata": {},
   "outputs": [
    {
     "name": "stdout",
     "output_type": "stream",
     "text": [
      "Top 5 average milk production state\n",
      "+----------------+-----------------+----------------+-----------------------+-------------------------+\n",
      "| State          |   Buffalo Count |   Murrah Count |   Avg milk production |   Avg yield per in-milk |\n",
      "+================+=================+================+=======================+=========================+\n",
      "| UTTAR PRADESH  |     30625334.00 |    20110852.00 |              17810.83 |                    4.45 |\n",
      "+----------------+-----------------+----------------+-----------------------+-------------------------+\n",
      "| RAJASTHAN      |     12976095.00 |     6448563.00 |              10379.76 |                    6.21 |\n",
      "+----------------+-----------------+----------------+-----------------------+-------------------------+\n",
      "| ANDHRA PRADESH |     10622790.00 |     5227270.00 |               8427.80 |                    6.14 |\n",
      "+----------------+-----------------+----------------+-----------------------+-------------------------+\n",
      "| PUNJAB         |      5159734.00 |     4116508.00 |               7927.94 |                    8.39 |\n",
      "+----------------+-----------------+----------------+-----------------------+-------------------------+\n",
      "| HARYANA        |      6085312.00 |     5011145.00 |               7266.46 |                    8.30 |\n",
      "+----------------+-----------------+----------------+-----------------------+-------------------------+\n"
     ]
    }
   ],
   "source": [
    "milk_df.sort_values(by=\"avg_milk_production\", axis=0, ascending=False, inplace=True)\n",
    "output = milk_df.head()\n",
    "print(\"Top 5 average milk production state\")\n",
    "print(output.to_markdown(headers=[\"State\",\"Buffalo Count\",\"Murrah Count\",\"Avg milk production\",\"Avg yield per in-milk\"], \n",
    "                         tablefmt=\"grid\", floatfmt=(\".2f\")))"
   ]
  },
  {
   "cell_type": "code",
   "execution_count": 31,
   "metadata": {},
   "outputs": [
    {
     "name": "stdout",
     "output_type": "stream",
     "text": [
      "Top 5 average yield in-milk state\n",
      "+----------------+-----------------+----------------+-----------------------+-------------------------+\n",
      "| State          |   Buffalo Count |   Murrah Count |   Avg milk production |   Avg yield per in-milk |\n",
      "+================+=================+================+=======================+=========================+\n",
      "| PUNJAB         |      5159734.00 |     4116508.00 |               7927.94 |                    8.39 |\n",
      "+----------------+-----------------+----------------+-----------------------+-------------------------+\n",
      "| HARYANA        |      6085312.00 |     5011145.00 |               7266.46 |                    8.30 |\n",
      "+----------------+-----------------+----------------+-----------------------+-------------------------+\n",
      "| CHANDIGARH     |        14034.00 |        8522.00 |                 27.22 |                    7.38 |\n",
      "+----------------+-----------------+----------------+-----------------------+-------------------------+\n",
      "| RAJASTHAN      |     12976095.00 |     6448563.00 |              10379.76 |                    6.21 |\n",
      "+----------------+-----------------+----------------+-----------------------+-------------------------+\n",
      "| ANDHRA PRADESH |     10622790.00 |     5227270.00 |               8427.80 |                    6.14 |\n",
      "+----------------+-----------------+----------------+-----------------------+-------------------------+\n"
     ]
    }
   ],
   "source": [
    "milk_df.sort_values(by=\"avg_yield_in_milk\", axis=0, ascending=False, inplace=True)\n",
    "output = milk_df.head()\n",
    "print(\"Top 5 average yield in-milk state\")\n",
    "print(output.to_markdown(headers=[\"State\",\"Buffalo Count\",\"Murrah Count\",\"Avg milk production\",\"Avg yield per in-milk\"], \n",
    "                         tablefmt=\"grid\", floatfmt=(\".2f\")))"
   ]
  },
  {
   "cell_type": "markdown",
   "metadata": {},
   "source": [
    "This brings interesting point to check Top breeds in these two states."
   ]
  },
  {
   "cell_type": "code",
   "execution_count": 32,
   "metadata": {},
   "outputs": [],
   "source": [
    "breed_name_list = [\"Banni\",\"Bhadawari\",\"Chilika\",\"Jaffarabadi\",\"Kalahandi\",\"Marathwadi\",\"Mehsana\",\n",
    "              \"Murrah\",\"Nagpuri\",\"Nili Ravi\",\"Non Descript\",\"Pandharpuri\",\"Surti\",\"Toda\"]"
   ]
  },
  {
   "cell_type": "code",
   "execution_count": 33,
   "metadata": {},
   "outputs": [
    {
     "name": "stdout",
     "output_type": "stream",
     "text": [
      "+----+--------------+----------+\n",
      "|    | Breed        |    Count |\n",
      "+====+==============+==========+\n",
      "|  8 | Murrah       | 20110852 |\n",
      "+----+--------------+----------+\n",
      "| 11 | Non Descript |  8772357 |\n",
      "+----+--------------+----------+\n",
      "|  2 | Bhadawari    |  1583720 |\n",
      "+----+--------------+----------+\n"
     ]
    }
   ],
   "source": [
    "# Filter data for Uttar Pradesh state and Buffalo breeds\n",
    "top_state_df = buffalo_df.loc[buffalo_df.index == \"UTTAR PRADESH\"][breed_name_list]\n",
    "top_state_df.reset_index(drop=True, inplace=True)\n",
    "\n",
    "temp_df = top_state_df.reset_index().melt() # Transpose data from row to column\n",
    "temp_df.columns = [\"Breed\",\"Count\"] # Change column name for readability \n",
    "temp_df.sort_values(by=\"Count\", axis=0, ascending=False, inplace=True) # Sort data by breed count\n",
    "\n",
    "# Display Top 3 records\n",
    "output = temp_df[:3]\n",
    "print(output.to_markdown(tablefmt=\"grid\"))"
   ]
  },
  {
   "cell_type": "code",
   "execution_count": 34,
   "metadata": {},
   "outputs": [],
   "source": [
    "# capture labels and values for plotting\n",
    "label_1 = list(output.Breed.values)\n",
    "sizes_1 = list(output.Count.values)"
   ]
  },
  {
   "cell_type": "code",
   "execution_count": 35,
   "metadata": {},
   "outputs": [
    {
     "name": "stdout",
     "output_type": "stream",
     "text": [
      "+----+--------------+---------+\n",
      "|    | Breed        |   Count |\n",
      "+====+==============+=========+\n",
      "|  8 | Murrah       | 4116508 |\n",
      "+----+--------------+---------+\n",
      "| 11 | Non Descript |  523218 |\n",
      "+----+--------------+---------+\n",
      "| 10 | Nili Ravi    |  485940 |\n",
      "+----+--------------+---------+\n"
     ]
    }
   ],
   "source": [
    "top_state_df = buffalo_df.loc[buffalo_df.index == \"PUNJAB\"][breed_name_list]\n",
    "top_state_df.reset_index(drop=True, inplace=True)\n",
    "\n",
    "temp_df = top_state_df.reset_index().melt() # Transpose data from row to column\n",
    "temp_df.columns = [\"Breed\",\"Count\"] # Change column name for readability \n",
    "temp_df.sort_values(by=\"Count\", axis=0, ascending=False, inplace=True) # Sort data by breed count\n",
    "\n",
    "# Display Top 3 records\n",
    "output = temp_df[:3]\n",
    "print(output.to_markdown(tablefmt=\"grid\"))"
   ]
  },
  {
   "cell_type": "code",
   "execution_count": 36,
   "metadata": {},
   "outputs": [],
   "source": [
    "# capture labels and values for plotting\n",
    "label_2 = list(output.Breed.values)\n",
    "sizes_2 = list(output.Count.values)"
   ]
  },
  {
   "cell_type": "markdown",
   "metadata": {},
   "source": [
    "Let us plot the data of two states side by side to get a visual picture of distribution of buffalo breeds"
   ]
  },
  {
   "cell_type": "code",
   "execution_count": 37,
   "metadata": {
    "scrolled": true
   },
   "outputs": [
    {
     "data": {
      "image/png": "[encoded data removed]",
      "text/plain": [
       "<Figure size 432x288 with 2 Axes>"
      ]
     },
     "metadata": {},
     "output_type": "display_data"
    }
   ],
   "source": [
    "fig, (ax0,ax1) = plt.subplots(1, 2)\n",
    "fig.suptitle('Top 3 Buffalo breeds', fontsize=16)\n",
    "ax0.set_title('Uttar Pradesh', fontsize=14)\n",
    "ax1.set_title('Punjab', fontsize=14)\n",
    "ax0.pie(sizes_1, labels=label_1, autopct='%1.1f%%',startangle=90)\n",
    "ax1.pie(sizes_2, labels=label_2, autopct='%1.1f%%',startangle=90)\n",
    "plt.show()"
   ]
  },
  {
   "cell_type": "markdown",
   "metadata": {},
   "source": [
    "<a id=Modeling></a>\n",
    "## Modelling\n",
    "[Return to start](#TOC)"
   ]
  },
  {
   "cell_type": "markdown",
   "metadata": {},
   "source": [
    "Now that we have explored the data, cleaned it, preprocessed it and added a new feature to it, we can start the modelling part of the project by applying algorithms."
   ]
  },
  {
   "cell_type": "markdown",
   "metadata": {},
   "source": [
    "### Merge Dataset"
   ]
  },
  {
   "cell_type": "code",
   "execution_count": 38,
   "metadata": {},
   "outputs": [
    {
     "data": {
      "text/plain": [
       "(36, 86)"
      ]
     },
     "execution_count": 38,
     "metadata": {},
     "output_type": "execute_result"
    }
   ],
   "source": [
    "# Merge main and demograhic dataset\n",
    "data = buffalo_df.merge(demographic_df, how='left', on='State_name')\n",
    "data.reset_index(inplace=True)\n",
    "data.shape"
   ]
  },
  {
   "cell_type": "markdown",
   "metadata": {},
   "source": [
    "### Define features and labels"
   ]
  },
  {
   "cell_type": "markdown",
   "metadata": {},
   "source": [
    "Since this dataset is a small and it is not labelled dataset, we would be considering our calculated field **avg milk production** as target variable and do co-variate analysis with demographic features "
   ]
  },
  {
   "cell_type": "code",
   "execution_count": 57,
   "metadata": {},
   "outputs": [],
   "source": [
    "# Define Features and labels\n",
    "final_data = data.copy()\n",
    "\n",
    "label = final_data['avg_milk_production']\n",
    "features = final_data.drop(['State_name'], axis=1)"
   ]
  },
  {
   "cell_type": "markdown",
   "metadata": {},
   "source": [
    "### Extract numerical and categorical features"
   ]
  },
  {
   "cell_type": "markdown",
   "metadata": {},
   "source": [
    "This dataset contains all numerical features. Only state name could be called as categorical feature hence we will ignore this field "
   ]
  },
  {
   "cell_type": "code",
   "execution_count": 40,
   "metadata": {},
   "outputs": [],
   "source": [
    "#Setup attributes for pipeline\n",
    "num_attribs = data.select_dtypes(exclude='object').columns\n",
    "cat_attribs = data.select_dtypes(include='object').columns"
   ]
  },
  {
   "cell_type": "code",
   "execution_count": 41,
   "metadata": {},
   "outputs": [
    {
     "data": {
      "text/plain": [
       "Index(['State_name'], dtype='object')"
      ]
     },
     "execution_count": 41,
     "metadata": {},
     "output_type": "execute_result"
    }
   ],
   "source": [
    "cat_attribs"
   ]
  },
  {
   "cell_type": "code",
   "execution_count": 42,
   "metadata": {},
   "outputs": [
    {
     "data": {
      "text/plain": [
       "Index(['Banni_male_total', 'Banni_female_total', 'Bhadawari_male_total',\n",
       "       'Bhadawari_female_total', 'Chilika_male_total', 'Chilika_female_total',\n",
       "       'Jaffarabadi_male_total', 'Jaffarabadi_female_total',\n",
       "       'Kalahandi_male_total', 'Kalahandi_female_total',\n",
       "       'Marathwadi_male_total', 'Marathwadi_female_total',\n",
       "       'Mehsana_male_total', 'Mehsana_female_total', 'Murrah_male_total',\n",
       "       'Murrah_female_total', 'Nagpuri_male_total', 'Nagpuri_female_total',\n",
       "       'Nili_Ravi_male_total', 'Nili_Ravi_female_total',\n",
       "       'Non_descript_male_total', 'Non_descript_female_total',\n",
       "       'Pandharpuri_male_total', 'Pandharpuri_female_total',\n",
       "       'Surti_male_total', 'Surti_female_total', 'Toda_male_total',\n",
       "       'Toda_female_total', 'total_male', 'total_female', 'total_buffalo',\n",
       "       '201314_in_milk', '201415_in_milk', '201516_in_milk', '201617_in_milk',\n",
       "       '201718_in_milk', '201819_in_milk', '201314_yield_in_milk',\n",
       "       '201415_yield_in_milk', '201516_yield_in_milk', '201617_yield_in_milk',\n",
       "       '201718_yield_in_milk', '201819_yield_in_milk',\n",
       "       '201314_milk_production', '201415_milk_production',\n",
       "       '201516_milk_production', '201617_milk_production',\n",
       "       '201718_milk_production', '201819_milk_production', 'Banni',\n",
       "       'Bhadawari', 'Chilika', 'Jaffarabadi', 'Kalahandi', 'Marathwadi',\n",
       "       'Mehsana', 'Murrah', 'Nagpuri', 'Nili Ravi', 'Non Descript',\n",
       "       'Pandharpuri', 'Surti', 'Toda', 'avg_in_milk', 'avg_yield_in_milk',\n",
       "       'avg_milk_production', 'district_count', 'village_count',\n",
       "       'official_area_sqkm', 'proj_population_2020', 'agro_climatic_zone1',\n",
       "       'agro_climatic_zone2', 'agro_climatic_zone3', 'agro_climatic_zone4',\n",
       "       'agro_climatic_zone5', 'agro_climatic_zone6', 'agro_climatic_zone7',\n",
       "       'agro_climatic_zone8', 'agro_climatic_zone9', 'agro_climatic_zone10',\n",
       "       'agro_climatic_zone11', 'agro_climatic_zone12', 'agro_climatic_zone13',\n",
       "       'agro_climatic_zone14', 'agro_climatic_zone15'],\n",
       "      dtype='object')"
      ]
     },
     "execution_count": 42,
     "metadata": {},
     "output_type": "execute_result"
    }
   ],
   "source": [
    "num_attribs"
   ]
  },
  {
   "cell_type": "markdown",
   "metadata": {},
   "source": [
    "### Normalize Data"
   ]
  },
  {
   "cell_type": "markdown",
   "metadata": {},
   "source": [
    "Since the feature of the dataset are of different scale we would need to normalize the data before using it further"
   ]
  },
  {
   "cell_type": "code",
   "execution_count": 43,
   "metadata": {},
   "outputs": [],
   "source": [
    "dfNumCols = data[num_attribs]"
   ]
  },
  {
   "cell_type": "code",
   "execution_count": 44,
   "metadata": {},
   "outputs": [
    {
     "data": {
      "text/html": [
       "<div>\n",
       "<style scoped>\n",
       "    .dataframe tbody tr th:only-of-type {\n",
       "        vertical-align: middle;\n",
       "    }\n",
       "\n",
       "    .dataframe tbody tr th {\n",
       "        vertical-align: top;\n",
       "    }\n",
       "\n",
       "    .dataframe thead th {\n",
       "        text-align: right;\n",
       "    }\n",
       "</style>\n",
       "<table border=\"1\" class=\"dataframe\">\n",
       "  <thead>\n",
       "    <tr style=\"text-align: right;\">\n",
       "      <th></th>\n",
       "      <th>Banni_male_total</th>\n",
       "      <th>Banni_female_total</th>\n",
       "      <th>Bhadawari_male_total</th>\n",
       "      <th>Bhadawari_female_total</th>\n",
       "      <th>Chilika_male_total</th>\n",
       "      <th>Chilika_female_total</th>\n",
       "      <th>Jaffarabadi_male_total</th>\n",
       "      <th>Jaffarabadi_female_total</th>\n",
       "      <th>Kalahandi_male_total</th>\n",
       "      <th>Kalahandi_female_total</th>\n",
       "      <th>...</th>\n",
       "      <th>agro_climatic_zone6</th>\n",
       "      <th>agro_climatic_zone7</th>\n",
       "      <th>agro_climatic_zone8</th>\n",
       "      <th>agro_climatic_zone9</th>\n",
       "      <th>agro_climatic_zone10</th>\n",
       "      <th>agro_climatic_zone11</th>\n",
       "      <th>agro_climatic_zone12</th>\n",
       "      <th>agro_climatic_zone13</th>\n",
       "      <th>agro_climatic_zone14</th>\n",
       "      <th>agro_climatic_zone15</th>\n",
       "    </tr>\n",
       "  </thead>\n",
       "  <tbody>\n",
       "    <tr>\n",
       "      <th>count</th>\n",
       "      <td>36.00</td>\n",
       "      <td>36.00</td>\n",
       "      <td>36.00</td>\n",
       "      <td>36.00</td>\n",
       "      <td>36.00</td>\n",
       "      <td>36.00</td>\n",
       "      <td>36.00</td>\n",
       "      <td>36.00</td>\n",
       "      <td>36.00</td>\n",
       "      <td>36.00</td>\n",
       "      <td>...</td>\n",
       "      <td>36.00</td>\n",
       "      <td>36.00</td>\n",
       "      <td>36.00</td>\n",
       "      <td>36.00</td>\n",
       "      <td>36.00</td>\n",
       "      <td>36.00</td>\n",
       "      <td>36.00</td>\n",
       "      <td>36.00</td>\n",
       "      <td>36.00</td>\n",
       "      <td>36.00</td>\n",
       "    </tr>\n",
       "    <tr>\n",
       "      <th>mean</th>\n",
       "      <td>0.00</td>\n",
       "      <td>0.00</td>\n",
       "      <td>0.00</td>\n",
       "      <td>0.00</td>\n",
       "      <td>0.00</td>\n",
       "      <td>0.00</td>\n",
       "      <td>0.00</td>\n",
       "      <td>0.00</td>\n",
       "      <td>0.00</td>\n",
       "      <td>0.00</td>\n",
       "      <td>...</td>\n",
       "      <td>0.00</td>\n",
       "      <td>0.00</td>\n",
       "      <td>0.00</td>\n",
       "      <td>0.00</td>\n",
       "      <td>0.00</td>\n",
       "      <td>0.00</td>\n",
       "      <td>0.00</td>\n",
       "      <td>0.00</td>\n",
       "      <td>0.00</td>\n",
       "      <td>0.00</td>\n",
       "    </tr>\n",
       "    <tr>\n",
       "      <th>std</th>\n",
       "      <td>0.00</td>\n",
       "      <td>0.00</td>\n",
       "      <td>0.00</td>\n",
       "      <td>0.00</td>\n",
       "      <td>0.00</td>\n",
       "      <td>0.00</td>\n",
       "      <td>0.00</td>\n",
       "      <td>0.00</td>\n",
       "      <td>0.00</td>\n",
       "      <td>0.00</td>\n",
       "      <td>...</td>\n",
       "      <td>0.00</td>\n",
       "      <td>0.00</td>\n",
       "      <td>0.00</td>\n",
       "      <td>0.00</td>\n",
       "      <td>0.00</td>\n",
       "      <td>0.00</td>\n",
       "      <td>0.00</td>\n",
       "      <td>0.00</td>\n",
       "      <td>0.00</td>\n",
       "      <td>0.00</td>\n",
       "    </tr>\n",
       "    <tr>\n",
       "      <th>min</th>\n",
       "      <td>0.00</td>\n",
       "      <td>0.00</td>\n",
       "      <td>0.00</td>\n",
       "      <td>0.00</td>\n",
       "      <td>0.00</td>\n",
       "      <td>0.00</td>\n",
       "      <td>0.00</td>\n",
       "      <td>0.00</td>\n",
       "      <td>0.00</td>\n",
       "      <td>0.00</td>\n",
       "      <td>...</td>\n",
       "      <td>0.00</td>\n",
       "      <td>0.00</td>\n",
       "      <td>0.00</td>\n",
       "      <td>0.00</td>\n",
       "      <td>0.00</td>\n",
       "      <td>0.00</td>\n",
       "      <td>0.00</td>\n",
       "      <td>0.00</td>\n",
       "      <td>0.00</td>\n",
       "      <td>0.00</td>\n",
       "    </tr>\n",
       "    <tr>\n",
       "      <th>25%</th>\n",
       "      <td>0.00</td>\n",
       "      <td>0.00</td>\n",
       "      <td>0.00</td>\n",
       "      <td>0.00</td>\n",
       "      <td>0.00</td>\n",
       "      <td>0.00</td>\n",
       "      <td>0.00</td>\n",
       "      <td>0.00</td>\n",
       "      <td>0.00</td>\n",
       "      <td>0.00</td>\n",
       "      <td>...</td>\n",
       "      <td>0.00</td>\n",
       "      <td>0.00</td>\n",
       "      <td>0.00</td>\n",
       "      <td>0.00</td>\n",
       "      <td>0.00</td>\n",
       "      <td>0.00</td>\n",
       "      <td>0.00</td>\n",
       "      <td>0.00</td>\n",
       "      <td>0.00</td>\n",
       "      <td>0.00</td>\n",
       "    </tr>\n",
       "    <tr>\n",
       "      <th>50%</th>\n",
       "      <td>0.00</td>\n",
       "      <td>0.00</td>\n",
       "      <td>0.00</td>\n",
       "      <td>0.00</td>\n",
       "      <td>0.00</td>\n",
       "      <td>0.00</td>\n",
       "      <td>0.00</td>\n",
       "      <td>0.00</td>\n",
       "      <td>0.00</td>\n",
       "      <td>0.00</td>\n",
       "      <td>...</td>\n",
       "      <td>0.00</td>\n",
       "      <td>0.00</td>\n",
       "      <td>0.00</td>\n",
       "      <td>0.00</td>\n",
       "      <td>0.00</td>\n",
       "      <td>0.00</td>\n",
       "      <td>0.00</td>\n",
       "      <td>0.00</td>\n",
       "      <td>0.00</td>\n",
       "      <td>0.00</td>\n",
       "    </tr>\n",
       "    <tr>\n",
       "      <th>75%</th>\n",
       "      <td>0.00</td>\n",
       "      <td>0.00</td>\n",
       "      <td>0.00</td>\n",
       "      <td>0.00</td>\n",
       "      <td>0.00</td>\n",
       "      <td>0.00</td>\n",
       "      <td>0.00</td>\n",
       "      <td>0.00</td>\n",
       "      <td>0.00</td>\n",
       "      <td>0.00</td>\n",
       "      <td>...</td>\n",
       "      <td>0.00</td>\n",
       "      <td>0.00</td>\n",
       "      <td>0.00</td>\n",
       "      <td>0.00</td>\n",
       "      <td>0.00</td>\n",
       "      <td>0.00</td>\n",
       "      <td>0.00</td>\n",
       "      <td>0.00</td>\n",
       "      <td>0.00</td>\n",
       "      <td>0.00</td>\n",
       "    </tr>\n",
       "    <tr>\n",
       "      <th>max</th>\n",
       "      <td>0.00</td>\n",
       "      <td>0.01</td>\n",
       "      <td>0.00</td>\n",
       "      <td>0.01</td>\n",
       "      <td>0.00</td>\n",
       "      <td>0.00</td>\n",
       "      <td>0.00</td>\n",
       "      <td>0.02</td>\n",
       "      <td>0.00</td>\n",
       "      <td>0.00</td>\n",
       "      <td>...</td>\n",
       "      <td>0.00</td>\n",
       "      <td>0.00</td>\n",
       "      <td>0.00</td>\n",
       "      <td>0.00</td>\n",
       "      <td>0.00</td>\n",
       "      <td>0.00</td>\n",
       "      <td>0.00</td>\n",
       "      <td>0.00</td>\n",
       "      <td>0.00</td>\n",
       "      <td>0.00</td>\n",
       "    </tr>\n",
       "  </tbody>\n",
       "</table>\n",
       "<p>8 rows × 85 columns</p>\n",
       "</div>"
      ],
      "text/plain": [
       "       Banni_male_total  Banni_female_total  Bhadawari_male_total  \\\n",
       "count             36.00               36.00                 36.00   \n",
       "mean               0.00                0.00                  0.00   \n",
       "std                0.00                0.00                  0.00   \n",
       "min                0.00                0.00                  0.00   \n",
       "25%                0.00                0.00                  0.00   \n",
       "50%                0.00                0.00                  0.00   \n",
       "75%                0.00                0.00                  0.00   \n",
       "max                0.00                0.01                  0.00   \n",
       "\n",
       "       Bhadawari_female_total  Chilika_male_total  Chilika_female_total  \\\n",
       "count                   36.00               36.00                 36.00   \n",
       "mean                     0.00                0.00                  0.00   \n",
       "std                      0.00                0.00                  0.00   \n",
       "min                      0.00                0.00                  0.00   \n",
       "25%                      0.00                0.00                  0.00   \n",
       "50%                      0.00                0.00                  0.00   \n",
       "75%                      0.00                0.00                  0.00   \n",
       "max                      0.01                0.00                  0.00   \n",
       "\n",
       "       Jaffarabadi_male_total  Jaffarabadi_female_total  Kalahandi_male_total  \\\n",
       "count                   36.00                     36.00                 36.00   \n",
       "mean                     0.00                      0.00                  0.00   \n",
       "std                      0.00                      0.00                  0.00   \n",
       "min                      0.00                      0.00                  0.00   \n",
       "25%                      0.00                      0.00                  0.00   \n",
       "50%                      0.00                      0.00                  0.00   \n",
       "75%                      0.00                      0.00                  0.00   \n",
       "max                      0.00                      0.02                  0.00   \n",
       "\n",
       "       Kalahandi_female_total  ...  agro_climatic_zone6  agro_climatic_zone7  \\\n",
       "count                   36.00  ...                36.00                36.00   \n",
       "mean                     0.00  ...                 0.00                 0.00   \n",
       "std                      0.00  ...                 0.00                 0.00   \n",
       "min                      0.00  ...                 0.00                 0.00   \n",
       "25%                      0.00  ...                 0.00                 0.00   \n",
       "50%                      0.00  ...                 0.00                 0.00   \n",
       "75%                      0.00  ...                 0.00                 0.00   \n",
       "max                      0.00  ...                 0.00                 0.00   \n",
       "\n",
       "       agro_climatic_zone8  agro_climatic_zone9  agro_climatic_zone10  \\\n",
       "count                36.00                36.00                 36.00   \n",
       "mean                  0.00                 0.00                  0.00   \n",
       "std                   0.00                 0.00                  0.00   \n",
       "min                   0.00                 0.00                  0.00   \n",
       "25%                   0.00                 0.00                  0.00   \n",
       "50%                   0.00                 0.00                  0.00   \n",
       "75%                   0.00                 0.00                  0.00   \n",
       "max                   0.00                 0.00                  0.00   \n",
       "\n",
       "       agro_climatic_zone11  agro_climatic_zone12  agro_climatic_zone13  \\\n",
       "count                 36.00                 36.00                 36.00   \n",
       "mean                   0.00                  0.00                  0.00   \n",
       "std                    0.00                  0.00                  0.00   \n",
       "min                    0.00                  0.00                  0.00   \n",
       "25%                    0.00                  0.00                  0.00   \n",
       "50%                    0.00                  0.00                  0.00   \n",
       "75%                    0.00                  0.00                  0.00   \n",
       "max                    0.00                  0.00                  0.00   \n",
       "\n",
       "       agro_climatic_zone14  agro_climatic_zone15  \n",
       "count                 36.00                 36.00  \n",
       "mean                   0.00                  0.00  \n",
       "std                    0.00                  0.00  \n",
       "min                    0.00                  0.00  \n",
       "25%                    0.00                  0.00  \n",
       "50%                    0.00                  0.00  \n",
       "75%                    0.00                  0.00  \n",
       "max                    0.00                  0.00  \n",
       "\n",
       "[8 rows x 85 columns]"
      ]
     },
     "execution_count": 44,
     "metadata": {},
     "output_type": "execute_result"
    }
   ],
   "source": [
    "num_encode = Normalizer().fit(dfNumCols)\n",
    "\n",
    "df_num_cols = pd.DataFrame(\n",
    "    num_encode.transform(dfNumCols), index=dfNumCols.index, \n",
    "    columns=list(num_attribs)\n",
    ")\n",
    "df_num_cols.describe()"
   ]
  },
  {
   "cell_type": "markdown",
   "metadata": {},
   "source": [
    "### Empirical Benchmarking Model & Covariance analysis"
   ]
  },
  {
   "cell_type": "markdown",
   "metadata": {},
   "source": [
    "There are two dominant approach of economic modelling to estimate the production behavior - **Empirical Benchmarking** and **Stochastic Frontier Analysis**. Empirical Benchmarking is simple modelling method, and it is one of the two dominant approach. This method was used to analyze past 6 years of data points available in the livestock dataset. In this approach milk production data of past 6 years was averaged. Top 10 states with most milk production reported were compared with average of the whole sample."
   ]
  },
  {
   "cell_type": "markdown",
   "metadata": {},
   "source": [
    "Covariance analysis was performed by with other demographics attributes  "
   ]
  },
  {
   "cell_type": "code",
   "execution_count": 67,
   "metadata": {},
   "outputs": [],
   "source": [
    "model = data[[\"State_name\",\"total_buffalo\", \"total_male\", \"total_female\",\n",
    "                       \"avg_in_milk\",\"avg_yield_in_milk\",\"avg_milk_production\",\"proj_population_2020\"]]\n",
    "model.sort_values(by=\"avg_milk_production\", axis=0, ascending=False, inplace=True)\n",
    "model_top10 = model[[\"State_name\",\"avg_milk_production\",\"proj_population_2020\"]].head(10)"
   ]
  },
  {
   "cell_type": "code",
   "execution_count": 68,
   "metadata": {},
   "outputs": [
    {
     "name": "stdout",
     "output_type": "stream",
     "text": [
      "Average Milk Production from Buffalos for whole sample         : 2227.99\n"
     ]
    }
   ],
   "source": [
    "mean_avg_milk_production_sample = np.round(data.avg_milk_production.mean(), decimals=2)\n",
    "print(\"Average Milk Production from Buffalos for whole sample         :\", mean_avg_milk_production_sample)"
   ]
  },
  {
   "cell_type": "code",
   "execution_count": 69,
   "metadata": {},
   "outputs": [
    {
     "data": {
      "image/png": "[encoded data removed]",
      "text/plain": [
       "<Figure size 576x288 with 1 Axes>"
      ]
     },
     "metadata": {
      "needs_background": "light"
     },
     "output_type": "display_data"
    }
   ],
   "source": [
    "fig, ax = plt.subplots(figsize=(8, 4))\n",
    "sns.barplot(x=model_top10.State_name,y=model_top10.avg_milk_production, data=model_top10)\n",
    "plt.axhline(y=mean_avg_milk_production_sample,linewidth=1)\n",
    "plt.xticks(rotation=80)\n",
    "plt.xlabel('State', fontsize=14)\n",
    "plt.ylabel('Avg Milk Production (tones)', fontsize=14)\n",
    "plt.title('Avg Milk Production in top 10 states', fontsize=16)\n",
    "plt.show()"
   ]
  },
  {
   "cell_type": "code",
   "execution_count": 75,
   "metadata": {},
   "outputs": [
    {
     "data": {
      "image/png": "[encoded data removed]",
      "text/plain": [
       "<Figure size 576x288 with 1 Axes>"
      ]
     },
     "metadata": {
      "needs_background": "light"
     },
     "output_type": "display_data"
    }
   ],
   "source": [
    "fig, ax = plt.subplots(figsize=(8, 4))\n",
    "sns.barplot(x=model_top10.State_name,y=model_top10.proj_population_2020/1000000, data=model_top10)\n",
    "plt.xticks(rotation=80)\n",
    "plt.xlabel('State', fontsize=14)\n",
    "plt.ylabel('Population (Million)', fontsize=14)\n",
    "plt.title('Projected Population of 2020', fontsize=16)\n",
    "plt.show()"
   ]
  },
  {
   "cell_type": "markdown",
   "metadata": {},
   "source": [
    "#### Covariance Analysis"
   ]
  },
  {
   "cell_type": "code",
   "execution_count": 49,
   "metadata": {},
   "outputs": [],
   "source": [
    "demo_features = ['total_male', 'total_female','avg_in_milk', 'avg_yield_in_milk',\n",
    "'avg_milk_production', 'district_count', 'village_count',\n",
    "'official_area_sqkm', 'proj_population_2020', 'agro_climatic_zone1',\n",
    "'agro_climatic_zone2', 'agro_climatic_zone3', 'agro_climatic_zone4',\n",
    "'agro_climatic_zone5', 'agro_climatic_zone6', 'agro_climatic_zone7',\n",
    "'agro_climatic_zone8', 'agro_climatic_zone9', 'agro_climatic_zone10',\n",
    "'agro_climatic_zone11', 'agro_climatic_zone12', 'agro_climatic_zone13',\n",
    "'agro_climatic_zone14', 'agro_climatic_zone15']"
   ]
  },
  {
   "cell_type": "code",
   "execution_count": 50,
   "metadata": {},
   "outputs": [
    {
     "name": "stdout",
     "output_type": "stream",
     "text": [
      "Most Positive Correlations:\n",
      "+---------------------+------+\n",
      "| Feature             |    % |\n",
      "+=====================+======+\n",
      "| avg_milk_production | 1.00 |\n",
      "+---------------------+------+\n",
      "| avg_in_milk         | 0.95 |\n",
      "+---------------------+------+\n",
      "| total_female        | 0.90 |\n",
      "+---------------------+------+\n",
      "| total_male          | 0.71 |\n",
      "+---------------------+------+\n",
      "| agro_climatic_zone6 | 0.50 |\n",
      "+---------------------+------+\n",
      "\n",
      "Most Negative Correlations:\n",
      "+----------------------+-------+\n",
      "| Feature              |     % |\n",
      "+======================+=======+\n",
      "| official_area_sqkm   | -0.17 |\n",
      "+----------------------+-------+\n",
      "| agro_climatic_zone2  | -0.19 |\n",
      "+----------------------+-------+\n",
      "| avg_yield_in_milk    | -0.23 |\n",
      "+----------------------+-------+\n",
      "| district_count       | -0.34 |\n",
      "+----------------------+-------+\n",
      "| proj_population_2020 | -0.94 |\n",
      "+----------------------+-------+\n"
     ]
    }
   ],
   "source": [
    "corr = df_num_cols[demo_features].corr()\n",
    "\n",
    "print(\"Most Positive Correlations:\")\n",
    "output = corr['avg_milk_production'].sort_values(ascending=False).head(5)\n",
    "print(output.to_markdown(headers=[\"Feature\",\"%\"], tablefmt=\"grid\", floatfmt=(\".2f\")))\n",
    "\n",
    "print(\"\\nMost Negative Correlations:\")\n",
    "output = corr['avg_milk_production'].sort_values(ascending=False).tail(5)\n",
    "print(output.to_markdown(headers=[\"Feature\",\"%\"], tablefmt=\"grid\", floatfmt=(\".2f\")))"
   ]
  },
  {
   "cell_type": "code",
   "execution_count": 51,
   "metadata": {},
   "outputs": [],
   "source": [
    "model1 = df_num_cols[[\"avg_milk_production\",\"avg_in_milk\",\"total_female\",\n",
    "                      \"agro_climatic_zone6\",\"proj_population_2020\"]].iloc[:10]\n",
    "covMatrix = np.round(np.cov(model1,bias=True),3)"
   ]
  },
  {
   "cell_type": "code",
   "execution_count": 60,
   "metadata": {},
   "outputs": [
    {
     "data": {
      "image/png": "[encoded data removed]",
      "text/plain": [
       "<Figure size 432x288 with 2 Axes>"
      ]
     },
     "metadata": {
      "needs_background": "light"
     },
     "output_type": "display_data"
    }
   ],
   "source": [
    "sns.heatmap(covMatrix, annot=True, fmt='g')\n",
    "plt.title(\"Covriance Map\", fontsize=16)\n",
    "plt.show()"
   ]
  },
  {
   "cell_type": "markdown",
   "metadata": {},
   "source": [
    "### Linear Regression Model"
   ]
  },
  {
   "cell_type": "markdown",
   "metadata": {},
   "source": [
    "#### Custom Transformers"
   ]
  },
  {
   "cell_type": "code",
   "execution_count": 53,
   "metadata": {},
   "outputs": [],
   "source": [
    "# Custom transformer to select columns from dataframe\n",
    "class DataFrameSelector(BaseEstimator, TransformerMixin):\n",
    "    def __init__(self, attribute_names):\n",
    "        self.attribute_names = attribute_names\n",
    "    def fit(self, X, y=None):\n",
    "        return self\n",
    "    def transform(self, X):\n",
    "        return X[self.attribute_names].values"
   ]
  },
  {
   "cell_type": "markdown",
   "metadata": {},
   "source": [
    "#### Define Pipeline"
   ]
  },
  {
   "cell_type": "code",
   "execution_count": 54,
   "metadata": {},
   "outputs": [],
   "source": [
    "# Define pipeline\n",
    "num_pipeline = Pipeline([\n",
    "        ('selector', DataFrameSelector(num_attribs)),        \n",
    "        ('std_scaler', Normalizer())\n",
    "    ])"
   ]
  },
  {
   "cell_type": "code",
   "execution_count": 55,
   "metadata": {},
   "outputs": [],
   "source": [
    "# Define a pipeline to search for the best combination of PCA truncation\n",
    "# and classifier regularization.\n",
    "pca = PCA()\n",
    "\n",
    "# Linear Regression without parameters\n",
    "linear = LinearRegression()\n",
    "\n",
    "full_pipeline_with_predictor = Pipeline([\n",
    "        (\"preparation\", num_pipeline),\n",
    "        (\"pca\",pca),\n",
    "        (\"linear\", linear)\n",
    "    ])\n",
    "\n",
    "# Parameters of pipelines:\n",
    "param_grid = {\n",
    "    'pca__n_components': [5, 15, 30, 45, 64]\n",
    "}"
   ]
  },
  {
   "cell_type": "code",
   "execution_count": 63,
   "metadata": {},
   "outputs": [
    {
     "name": "stdout",
     "output_type": "stream",
     "text": [
      "Best parameter (CV score=0.282):\n",
      "{'pca__n_components': 5}\n"
     ]
    },
    {
     "data": {
      "text/plain": [
       "PCA(copy=True, iterated_power='auto', n_components=None, random_state=None,\n",
       "    svd_solver='auto', tol=0.0, whiten=False)"
      ]
     },
     "execution_count": 63,
     "metadata": {},
     "output_type": "execute_result"
    }
   ],
   "source": [
    "# Apply GridSearch with predictors \n",
    "search = GridSearchCV(full_pipeline_with_predictor,param_grid, n_jobs=-1)\n",
    "search.fit(features, label)\n",
    "print(\"Best parameter (CV score=%0.3f):\" % search.best_score_)\n",
    "print(search.best_params_)\n",
    "\n",
    "# Plot the PCA spectrum\n",
    "pca.fit(features)"
   ]
  },
  {
   "cell_type": "code",
   "execution_count": 64,
   "metadata": {},
   "outputs": [
    {
     "data": {
      "image/png": "[encoded data removed]",
      "text/plain": [
       "<Figure size 432x432 with 2 Axes>"
      ]
     },
     "metadata": {
      "needs_background": "light"
     },
     "output_type": "display_data"
    }
   ],
   "source": [
    "fig, (ax0, ax1) = plt.subplots(nrows=2, sharex=True, figsize=(6, 6))\n",
    "ax0.plot(np.arange(1, pca.n_components_ + 1), pca.explained_variance_ratio_, '+', linewidth=2)\n",
    "ax0.set_ylabel('PCA explained variance ratio')\n",
    "\n",
    "ax0.axvline(search.best_estimator_.named_steps['pca'].n_components, linestyle=':', label='n_components chosen')\n",
    "ax0.legend(prop=dict(size=12))\n",
    "\n",
    "# For each number of components, find the best classifier results\n",
    "results = pd.DataFrame(search.cv_results_)\n",
    "\n",
    "components_col = 'param_pca__n_components'\n",
    "best_clfs = results.groupby(components_col).apply(lambda g: g.nlargest(1, 'mean_test_score'))\n",
    "best_clfs.plot(x=components_col, y='mean_test_score', yerr='std_test_score',legend=False, ax=ax1)\n",
    "ax1.set_ylabel('Classification accuracy (val)')\n",
    "ax1.set_xlabel('n_components')\n",
    "\n",
    "plt.xlim(-1, 70)\n",
    "\n",
    "plt.tight_layout()\n",
    "plt.show()"
   ]
  },
  {
   "cell_type": "markdown",
   "metadata": {},
   "source": [
    "<a id=Evaluate></a>\n",
    "## Evaluation, reporting, analysis\n",
    "[Return to start](#TOC)"
   ]
  },
  {
   "cell_type": "markdown",
   "metadata": {},
   "source": [
    "**Empirical Benchmarking model** denotes that top 10 states are performing above average. There is possibility to increase the yield then the current attainable yield, evaluating the other socio-economic factors like agricultural data, population, climate factors etc. \n",
    "\n",
    "Correlation analysis done with other demographic features like population and climatic zones suggest that average growth is highly correlated with average in-milk animals, female buffaloes and climatic zone region which comes under **Zone 6: Trans-Gangetic Plains**.This factors would be highly contributing to average milk production growth"
   ]
  },
  {
   "cell_type": "markdown",
   "metadata": {},
   "source": [
    "Due to absence of sufficient granular data analysis had to be done on state level rollup data. The sample linear regression modle attempted above did not yield satisfactory and meaningfull results. Based on the data trends it appears that it is possible to increase the production past current attenable numbers. However, this would need to combine different methods and multiple strategies."
   ]
  },
  {
   "cell_type": "code",
   "execution_count": null,
   "metadata": {},
   "outputs": [],
   "source": []
  }
 ],
 "metadata": {
  "kernelspec": {
   "display_name": "Python 3",
   "language": "python",
   "name": "python3"
  },
  "language_info": {
   "codemirror_mode": {
    "name": "ipython",
    "version": 3
   },
   "file_extension": ".py",
   "mimetype": "text/x-python",
   "name": "python",
   "nbconvert_exporter": "python",
   "pygments_lexer": "ipython3",
   "version": "3.7.4"
  }
 },
 "nbformat": 4,
 "nbformat_minor": 2
}
