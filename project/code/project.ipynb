{
 "cells": [
  {
   "cell_type": "markdown",
   "metadata": {},
   "source": [
    "<a id='TOC'></a>\n",
    "# Project: *Analysis of Future of Buffalo Breeds and Milk Production growth in India*\n",
    "\n",
    "`\n",
    "By   : Shahapurkar, Gangaprasad\n",
    "Email: garashah@iu.edu`"
   ]
  },
  {
   "cell_type": "markdown",
   "metadata": {},
   "source": [
    "<img src=\"../images/cover_photo.jpg\" alt=\"Cover photo\" style=\"width:=500px;height:=300px;\"/>"
   ]
  },
  {
   "cell_type": "markdown",
   "metadata": {},
   "source": [
    "## Abstract and objective\n"
   ]
  },
  {
   "cell_type": "markdown",
   "metadata": {},
   "source": [
    "Water buffalo (**Bubalus bubalis**) also called *Domestic Water Buffalo* or *Asian Water Buffalo* is a large bovid, originating in Indian subcontinent, Southeast Asia, and China. Today, it is also found in Europe, Australia, North America, South America and some African countries. Two extant types of water buffalo are recognized based on morphological and behavioural criteria:\n",
    "\n",
    "**1. River Buffalo** - Found in Indian subcontinent and further west to the Balkans, Egypt, and Italy\n",
    "\n",
    "**2. Swamp Buffalo** - Found from Assam in the west through Southeast Asia to the Yangtze valley of China in the east\n",
    "\n",
    "India has highest level of milk production and consumption of all countries. The Dairy Industry in India is unique among large-scale milk producing countries in terms of its large share of buffalo milk. The aim of this academic project is to study the livestock census data of buffalo breeds in India and their milk production using Empirical Benchmarking analysis method at state level. Looking at the small sample of data, our analysis indicates that we have been seeing increasing trends in past few years in livestock and milk production but there are considerable opportunities to increase production using combined interventions."
   ]
  },
  {
   "cell_type": "markdown",
   "metadata": {},
   "source": [
    "## Prepare the notebook (imports, helper functions)"
   ]
  },
  {
   "cell_type": "code",
   "execution_count": null,
   "metadata": {},
   "outputs": [],
   "source": [
    "import warnings\n",
    "import numpy as np\n",
    "import pandas as pd\n",
    "import matplotlib.pyplot as plt\n",
    "from pandas.plotting import scatter_matrix\n",
    "from time import time\n",
    "import os\n",
    "\n",
    "warnings.simplefilter('ignore')\n",
    "%matplotlib inline"
   ]
  },
  {
   "cell_type": "markdown",
   "metadata": {},
   "source": [
    "<a id=ImportData></a>\n",
    "## Import data"
   ]
  },
  {
   "cell_type": "code",
   "execution_count": null,
   "metadata": {},
   "outputs": [],
   "source": [
    "!python --version #check the version of python installed "
   ]
  },
  {
   "cell_type": "code",
   "execution_count": null,
   "metadata": {},
   "outputs": [],
   "source": [
    "data_file_path = \"../data/\"               # set data file directory  \n",
    "data_file_name = \"buffalo_final_data.csv\" # set data file name"
   ]
  },
  {
   "cell_type": "code",
   "execution_count": null,
   "metadata": {},
   "outputs": [],
   "source": [
    "file_path = os.path.join(data_file_path, data_file_name) # combine and create file path "
   ]
  },
  {
   "cell_type": "code",
   "execution_count": null,
   "metadata": {},
   "outputs": [],
   "source": [
    "try: \n",
    "    print(\"Does file exists: \", os.path.exists(file_path))\n",
    "    buffalo_df = pd.read_csv(file_path)\n",
    "except:\n",
    "    print(\"File load Failed. Please check if file exists..\")"
   ]
  },
  {
   "cell_type": "code",
   "execution_count": null,
   "metadata": {},
   "outputs": [],
   "source": [
    "buffalo_df.head()"
   ]
  },
  {
   "cell_type": "code",
   "execution_count": null,
   "metadata": {},
   "outputs": [],
   "source": [
    "buffalo_df.columns"
   ]
  },
  {
   "cell_type": "markdown",
   "metadata": {},
   "source": [
    "<a id=EDA></a>\n",
    "## EDA\n",
    "[Return to start](#TOC)"
   ]
  },
  {
   "cell_type": "markdown",
   "metadata": {},
   "source": [
    "The goal of this section is to get familiar with the data that will be used for the end to end pipeline. It is very important to explore the data and summarize its main characteristics before diving in the machine learning models. It is also interesting to see how the different features are correlated with the target feature"
   ]
  },
  {
   "cell_type": "code",
   "execution_count": null,
   "metadata": {},
   "outputs": [],
   "source": [
    "buffalo_df.info()"
   ]
  },
  {
   "cell_type": "code",
   "execution_count": null,
   "metadata": {},
   "outputs": [],
   "source": [
    "buffalo_df.describe()"
   ]
  },
  {
   "cell_type": "markdown",
   "metadata": {},
   "source": [
    "Check columns for null values"
   ]
  },
  {
   "cell_type": "code",
   "execution_count": null,
   "metadata": {},
   "outputs": [],
   "source": [
    "null_info = buffalo_df.isna().sum()\n",
    "\n",
    "for key in null_info.keys():\n",
    "    if(null_info[key] > 0):\n",
    "        print(key,\":\",null_info[key])"
   ]
  },
  {
   "cell_type": "markdown",
   "metadata": {},
   "source": [
    "Fill missing values"
   ]
  },
  {
   "cell_type": "code",
   "execution_count": null,
   "metadata": {},
   "outputs": [],
   "source": [
    "buffalo_df.fillna(value=0, inplace=True)"
   ]
  },
  {
   "cell_type": "markdown",
   "metadata": {},
   "source": [
    "Reset index to state name"
   ]
  },
  {
   "cell_type": "code",
   "execution_count": null,
   "metadata": {},
   "outputs": [],
   "source": [
    "buffalo_df.set_index([\"State_name\"], drop=True, inplace=True)"
   ]
  },
  {
   "cell_type": "code",
   "execution_count": null,
   "metadata": {},
   "outputs": [],
   "source": [
    "top_df = buffalo_df[[\"total_buffalo\",\"total_male\",\"total_female\"]]\n",
    "top_df.sort_values(by=\"total_buffalo\", axis=0, ascending=False, inplace=True)\n",
    "top_df = top_df.iloc[:10]\n",
    "plt.figure(figsize=(10,5))\n",
    "top_df.plot.bar(colormap=plt.get_cmap('summer'), width=0.75)\n",
    "plt.ylabel('Buffalo count')\n",
    "plt.xlabel('State')\n",
    "plt.xticks(rotation=80)"
   ]
  },
  {
   "cell_type": "code",
   "execution_count": null,
   "metadata": {},
   "outputs": [],
   "source": [
    "labels = ['Female Buffalo', 'Male Buffalo']\n",
    "sizes = [np.sum(buffalo_df.total_female), np.sum(buffalo_df.total_male)]\n",
    "fig1, ax1 = plt.subplots()\n",
    "ax1.pie(sizes, labels=labels, autopct='%1.1f%%',startangle=90)\n",
    "ax1.axis('equal')\n",
    "plt.show()"
   ]
  },
  {
   "cell_type": "markdown",
   "metadata": {},
   "source": [
    "<a id=FeatureEng></a>\n",
    "## Feature Engineering \n",
    "[Return to start](#TOC)"
   ]
  },
  {
   "cell_type": "markdown",
   "metadata": {},
   "source": [
    "When conducting an end to end Machine Learning project, after exploring and preprocessing the data it is essential to think of feature engineering. It consists of creating new feature(s) based on the features that already exist in the dataset that can be useful for training the model."
   ]
  },
  {
   "cell_type": "markdown",
   "metadata": {},
   "source": [
    "**Step 1:** Calculate total number of buffalos under each category"
   ]
  },
  {
   "cell_type": "code",
   "execution_count": null,
   "metadata": {},
   "outputs": [],
   "source": [
    "buffalo_df[\"Banni\"] = buffalo_df[\"Banni_male_total\"] + buffalo_df[\"Banni_female_total\"]\n",
    "buffalo_df[\"Bhadawari\"] = buffalo_df[\"Bhadawari_male_total\"] + buffalo_df[\"Bhadawari_female_total\"]\n",
    "buffalo_df[\"Chilika\"] = buffalo_df[\"Chilika_male_total\"] + buffalo_df[\"Chilika_female_total\"]\n",
    "buffalo_df[\"Jaffarabadi\"] = buffalo_df[\"Jaffarabadi_male_total\"] + buffalo_df[\"Jaffarabadi_female_total\"]\n",
    "buffalo_df[\"Kalahandi\"] = buffalo_df[\"Kalahandi_male_total\"] + buffalo_df[\"Kalahandi_female_total\"]\n",
    "buffalo_df[\"Marathwadi\"] = buffalo_df[\"Marathwadi_male_total\"] + buffalo_df[\"Marathwadi_female_total\"]\n",
    "buffalo_df[\"Mehsana\"] = buffalo_df[\"Mehsana_male_total\"] + buffalo_df[\"Mehsana_female_total\"]\n",
    "buffalo_df[\"Murrah\"] = buffalo_df[\"Murrah_male_total\"] + buffalo_df[\"Murrah_female_total\"]\n",
    "buffalo_df[\"Nagpuri\"] = buffalo_df[\"Nagpuri_male_total\"] + buffalo_df[\"Nagpuri_female_total\"]\n",
    "buffalo_df[\"Nili Ravi\"] = buffalo_df[\"Nili_Ravi_male_total\"] + buffalo_df[\"Nili_Ravi_female_total\"]\n",
    "buffalo_df[\"Non Descript\"] = buffalo_df[\"Non_descript_male_total\"] + buffalo_df[\"Non_descript_female_total\"]\n",
    "buffalo_df[\"Pandharpuri\"] = buffalo_df[\"Pandharpuri_male_total\"] + buffalo_df[\"Pandharpuri_female_total\"]\n",
    "buffalo_df[\"Surti\"] = buffalo_df[\"Surti_male_total\"] + buffalo_df[\"Surti_female_total\"]\n",
    "buffalo_df[\"Toda\"] = buffalo_df[\"Toda_male_total\"] + buffalo_df[\"Toda_female_total\"]"
   ]
  },
  {
   "cell_type": "code",
   "execution_count": null,
   "metadata": {},
   "outputs": [],
   "source": [
    "count_df = buffalo_df[[\"total_buffalo\",\"Banni\",\"Bhadawari\",\"Chilika\",\"Jaffarabadi\",\"Kalahandi\",\"Marathwadi\",\"Mehsana\",\n",
    "                       \"Murrah\",\"Nagpuri\",\"Nili Ravi\",\"Non Descript\",\"Pandharpuri\",\"Surti\",\"Toda\",\"total_male\",\n",
    "                      \"total_female\"]]\n",
    "count_df.sort_values(by=\"total_buffalo\", axis=0, ascending=False, inplace=True)\n",
    "count_df.head()"
   ]
  },
  {
   "cell_type": "code",
   "execution_count": null,
   "metadata": {},
   "outputs": [],
   "source": [
    "count_df.sum(axis=0)"
   ]
  },
  {
   "cell_type": "markdown",
   "metadata": {},
   "source": [
    "**Step 2:** Calculate average of below fields of all past 6 years data points\n",
    "- **Average in milk** - Average number of In-Milk animals per state (figures in 000 nos)\n",
    "- **Average yield per In-Milk animal** - Average yield per In-Milk animals per state (figures in kg/day)\n",
    "- **Average milk production** - Average milk production per state (figures in 000 tones)"
   ]
  },
  {
   "cell_type": "code",
   "execution_count": null,
   "metadata": {},
   "outputs": [],
   "source": [
    "buffalo_df[\"avg_in_milk\"] = (buffalo_df[\"201314_in_milk\"] + buffalo_df[\"201415_in_milk\"] + buffalo_df[\"201516_in_milk\"] + \n",
    "                             buffalo_df[\"201617_in_milk\"] + buffalo_df[\"201718_in_milk\"] + buffalo_df[\"201819_in_milk\"])/6\n",
    "\n",
    "buffalo_df[\"avg_yield_in_milk\"] = (buffalo_df[\"201314_yield_in_milk\"] + buffalo_df[\"201415_yield_in_milk\"] + buffalo_df[\"201516_yield_in_milk\"] + \n",
    "                                   buffalo_df[\"201617_yield_in_milk\"] + buffalo_df[\"201718_yield_in_milk\"] + buffalo_df[\"201819_yield_in_milk\"])/6\n",
    "\n",
    "buffalo_df[\"avg_milk_production\"] = (buffalo_df[\"201314_milk_production\"] + buffalo_df[\"201415_milk_production\"] + buffalo_df[\"201516_milk_production\"] + \n",
    "                                     buffalo_df[\"201617_milk_production\"] + buffalo_df[\"201718_milk_production\"] + buffalo_df[\"201819_milk_production\"])/6"
   ]
  },
  {
   "cell_type": "markdown",
   "metadata": {},
   "source": [
    "**Step 3:** Round off the decimal values to 2 decimal places"
   ]
  },
  {
   "cell_type": "code",
   "execution_count": null,
   "metadata": {},
   "outputs": [],
   "source": [
    "buffalo_df = buffalo_df.round(2)"
   ]
  },
  {
   "cell_type": "markdown",
   "metadata": {},
   "source": [
    "**Step 4:** Check data correlation "
   ]
  },
  {
   "cell_type": "code",
   "execution_count": null,
   "metadata": {},
   "outputs": [],
   "source": [
    "corr_count_df = buffalo_df.corr()"
   ]
  },
  {
   "cell_type": "markdown",
   "metadata": {},
   "source": [
    "Top 5 attributes with negative co-relation"
   ]
  },
  {
   "cell_type": "code",
   "execution_count": null,
   "metadata": {},
   "outputs": [],
   "source": [
    "corr_count_df[\"total_buffalo\"].sort_values(ascending=False).tail(5)"
   ]
  },
  {
   "cell_type": "markdown",
   "metadata": {},
   "source": [
    "Top 5 attributes with positive co-relation "
   ]
  },
  {
   "cell_type": "code",
   "execution_count": null,
   "metadata": {},
   "outputs": [],
   "source": [
    "corr_count_df[\"total_buffalo\"].sort_values(ascending=False).head(5)"
   ]
  },
  {
   "cell_type": "code",
   "execution_count": null,
   "metadata": {},
   "outputs": [],
   "source": [
    "attributes = list(corr_count_df[\"total_buffalo\"].sort_values(ascending=False).head(5).keys())\n",
    "scatter_matrix(corr_count_df[attributes], figsize=(12, 8));"
   ]
  },
  {
   "cell_type": "code",
   "execution_count": null,
   "metadata": {},
   "outputs": [],
   "source": [
    "buffalo_df[[\"avg_in_milk\",\"avg_yield_in_milk\",\"avg_milk_production\"]].head()"
   ]
  },
  {
   "cell_type": "markdown",
   "metadata": {},
   "source": [
    "**Step 5:** Buffalo breed analysis of state _**Uttar Pradesh**_ and _**Punjab**_"
   ]
  },
  {
   "cell_type": "markdown",
   "metadata": {},
   "source": [
    "Uttar Pradesh state is the top most state in _**Milk Production**_ and total number of buffalo breeds in India. Below are major three types of buffalo breeds.This state has highest number of *Murrah buffalo* (known worldwide for high yield), Non Descript and Bhadawari."
   ]
  },
  {
   "cell_type": "code",
   "execution_count": null,
   "metadata": {},
   "outputs": [],
   "source": [
    "top_state_df = buffalo_df.loc[buffalo_df.total_buffalo == np.max(buffalo_df.total_buffalo)]\n",
    "labels1 = [\"Bhadawari\",\"Murrah\",\"Non Descript\"]\n",
    "sizes1 = [1583720,20110852,8772357]\n",
    "top_state_df[[\"Banni\",\"Bhadawari\",\"Chilika\",\"Jaffarabadi\",\"Kalahandi\",\"Marathwadi\",\"Mehsana\",\n",
    "              \"Murrah\",\"Nagpuri\",\"Nili Ravi\",\"Non Descript\",\"Pandharpuri\",\"Surti\",\"Toda\"]]\n"
   ]
  },
  {
   "cell_type": "markdown",
   "metadata": {},
   "source": [
    "Punjab stands in list of top 10 states with total number of buffalos. Below data shows that Punjab stands number one state in the list of _**Average Yield per In-Milk Animal**_ becuase of its top share of Murrah buffalo breed which is known for milk production"
   ]
  },
  {
   "cell_type": "code",
   "execution_count": null,
   "metadata": {},
   "outputs": [],
   "source": [
    "top_state_df = buffalo_df.loc[buffalo_df.index == \"PUNJAB\"]\n",
    "labels2 = [\"Murrah\",\"Nili Ravi\",\"Non Descript\"]\n",
    "sizes2 = [4116508,485940,523218]\n",
    "top_state_df[[\"Banni\",\"Bhadawari\",\"Chilika\",\"Jaffarabadi\",\"Kalahandi\",\"Marathwadi\",\"Mehsana\",\n",
    "              \"Murrah\",\"Nagpuri\",\"Nili Ravi\",\"Non Descript\",\"Pandharpuri\",\"Surti\",\"Toda\"]]"
   ]
  },
  {
   "cell_type": "code",
   "execution_count": null,
   "metadata": {
    "scrolled": true
   },
   "outputs": [],
   "source": [
    "fig, (ax0,ax1) = plt.subplots(1, 2)\n",
    "fig.suptitle('Top 3 Buffalo breeds')\n",
    "ax0.set_title('Uttar pradesh')\n",
    "ax1.set_title('Punjab')\n",
    "ax0.pie(sizes1, labels=labels1, autopct='%1.1f%%',startangle=90)\n",
    "ax1.pie(sizes2, labels=labels2, autopct='%1.1f%%',startangle=90)\n",
    "plt.show()"
   ]
  },
  {
   "cell_type": "code",
   "execution_count": null,
   "metadata": {
    "scrolled": true
   },
   "outputs": [],
   "source": [
    "Murrah_df = buffalo_df[[\"Murrah\", \"total_buffalo\",\"avg_yield_in_milk\",\"avg_milk_production\"]]\n",
    "Murrah_df[\"Murrah_pct_share\"] = np.round(((Murrah_df.Murrah / Murrah_df.total_buffalo) * 100),2)\n",
    "Murrah_df.sort_values(by=\"Murrah\", axis=0, ascending=False, inplace=True)\n",
    "Murrah_df.head(10)"
   ]
  },
  {
   "cell_type": "markdown",
   "metadata": {},
   "source": [
    "<a id=Modeling></a>\n",
    "## Modelling\n",
    "[Return to start](#TOC)"
   ]
  },
  {
   "cell_type": "markdown",
   "metadata": {},
   "source": [
    "Now that we have explored the data, cleaned it, preprocessed it and added a new feature to it, we can start the modelling part of the project by applying algorithms."
   ]
  },
  {
   "cell_type": "markdown",
   "metadata": {},
   "source": [
    "### Benchmarking "
   ]
  },
  {
   "cell_type": "markdown",
   "metadata": {},
   "source": [
    "### Model 1\n"
   ]
  },
  {
   "cell_type": "code",
   "execution_count": null,
   "metadata": {},
   "outputs": [],
   "source": [
    "model_df1 = buffalo_df[[\"total_buffalo\", \"total_male\", \"total_female\",\n",
    "                       \"avg_in_milk\",\"avg_yield_in_milk\",\"avg_milk_production\"]]\n",
    "model_df1.sort_values(by=\"avg_yield_in_milk\", axis=0, ascending=False, inplace=True)\n",
    "model_df1[[\"avg_yield_in_milk\"]].head(10)"
   ]
  },
  {
   "cell_type": "markdown",
   "metadata": {},
   "source": [
    "### Model 2\n",
    "**Top 10 states records with highest Average Milk Production**"
   ]
  },
  {
   "cell_type": "code",
   "execution_count": null,
   "metadata": {},
   "outputs": [],
   "source": [
    "model_df2 = buffalo_df[[\"total_buffalo\", \"total_male\", \"total_female\",\n",
    "                       \"avg_in_milk\",\"avg_yield_in_milk\",\"avg_milk_production\"]]\n",
    "model_df2.sort_values(by=\"avg_milk_production\", axis=0, ascending=False, inplace=True)\n",
    "model_df2[[\"avg_milk_production\"]].head(10)"
   ]
  },
  {
   "cell_type": "code",
   "execution_count": null,
   "metadata": {},
   "outputs": [],
   "source": [
    "mean_avg_yield_in_milk_sample = np.round(buffalo_df.avg_yield_in_milk.mean(), decimals=2)\n",
    "mean_avg_milk_production_sample = np.round(buffalo_df.avg_milk_production.mean(), decimals=2)"
   ]
  },
  {
   "cell_type": "code",
   "execution_count": null,
   "metadata": {},
   "outputs": [],
   "source": [
    "print(\"Average Yield Per In-Milk Animal from Buffalos for whole sample:\", mean_avg_yield_in_milk_sample)\n",
    "print(\"Average Milk Production from Buffalos for whole sample         :\", mean_avg_milk_production_sample)"
   ]
  },
  {
   "cell_type": "markdown",
   "metadata": {},
   "source": [
    "Add the columns to both the models"
   ]
  },
  {
   "cell_type": "code",
   "execution_count": null,
   "metadata": {},
   "outputs": [],
   "source": [
    "model_df1[\"mean_avg_yield_in_milk_sample\"] = mean_avg_yield_in_milk_sample\n",
    "model_df1[\"mean_avg_milk_production_sample\"] = mean_avg_milk_production_sample\n",
    "model_df2[\"mean_avg_yield_in_milk_sample\"] = mean_avg_yield_in_milk_sample\n",
    "model_df2[\"mean_avg_milk_production_sample\"] = mean_avg_milk_production_sample"
   ]
  },
  {
   "cell_type": "code",
   "execution_count": null,
   "metadata": {},
   "outputs": [],
   "source": [
    "model_df1[[\"avg_yield_in_milk\", \"mean_avg_yield_in_milk_sample\"]].head(10)"
   ]
  },
  {
   "cell_type": "code",
   "execution_count": null,
   "metadata": {},
   "outputs": [],
   "source": [
    "model_df2[[\"avg_milk_production\",\"mean_avg_milk_production_sample\"]].head(10)"
   ]
  },
  {
   "cell_type": "code",
   "execution_count": null,
   "metadata": {},
   "outputs": [],
   "source": [
    "model_df1[[\"avg_yield_in_milk\", \"mean_avg_yield_in_milk_sample\"]].tail(10)"
   ]
  },
  {
   "cell_type": "code",
   "execution_count": null,
   "metadata": {},
   "outputs": [],
   "source": [
    "model_df2[[\"avg_milk_production\",\"mean_avg_milk_production_sample\"]].tail(10)"
   ]
  },
  {
   "cell_type": "markdown",
   "metadata": {},
   "source": [
    "<a id=Evaluate></a>\n",
    "## Evaluation, reporting, analysis\n",
    "[Return to start](#TOC)"
   ]
  },
  {
   "cell_type": "markdown",
   "metadata": {},
   "source": [
    "Evaluate our model, report our analysis and observations"
   ]
  },
  {
   "cell_type": "code",
   "execution_count": null,
   "metadata": {},
   "outputs": [],
   "source": [
    "model_df1_top10 = model_df1.iloc[:10]\n",
    "model_df2_top10 = model_df2.iloc[:10]"
   ]
  },
  {
   "cell_type": "markdown",
   "metadata": {},
   "source": [
    "### Model 1"
   ]
  },
  {
   "cell_type": "code",
   "execution_count": null,
   "metadata": {},
   "outputs": [],
   "source": [
    "xlabel = list(model_df1_top10.index)\n",
    "ylabel = np.arange(0,10)\n",
    "fig, ax = plt.subplots(figsize=(10, 5))\n",
    "plt.bar(xlabel, model_df1_top10[\"avg_yield_in_milk\"], width=0.75)\n",
    "plt.axhline(y=mean_avg_yield_in_milk_sample,linewidth=1)\n",
    "plt.xticks(rotation=80)\n",
    "plt.xlabel('State')\n",
    "plt.ylabel('Avg Yield Per In-Milk Animal in kg/day')\n",
    "plt.show()"
   ]
  },
  {
   "cell_type": "markdown",
   "metadata": {},
   "source": [
    "### Model 2"
   ]
  },
  {
   "cell_type": "code",
   "execution_count": null,
   "metadata": {},
   "outputs": [],
   "source": [
    "xlabel = list(model_df2_top10.index)\n",
    "ylabel = [0, 2000, 5000, 7000, 9000, 11000, 13000, 15000, 17000, 19000]\n",
    "fig, ax = plt.subplots(figsize=(10, 5))\n",
    "plt.bar(xlabel, model_df2_top10[\"avg_milk_production\"], width=0.75)\n",
    "plt.axhline(y=mean_avg_milk_production_sample,linewidth=1)\n",
    "plt.xticks(rotation=80)\n",
    "plt.xlabel('State')\n",
    "plt.ylabel('Avg Milk Production in tones')\n",
    "plt.show()"
   ]
  },
  {
   "cell_type": "markdown",
   "metadata": {},
   "source": [
    "Above two graphs denotes, top 10 states are performing above average. There is possibility to increase the yield then the current attainable yield, evaluating the other socio-economic factors like agricultural data, population, climate factors etc. The analysis was limited to trend analysis based on the data points available in census data."
   ]
  },
  {
   "cell_type": "code",
   "execution_count": null,
   "metadata": {},
   "outputs": [],
   "source": []
  }
 ],
 "metadata": {
  "kernelspec": {
   "display_name": "Python 3",
   "language": "python",
   "name": "python3"
  },
  "language_info": {
   "codemirror_mode": {
    "name": "ipython",
    "version": 3
   },
   "file_extension": ".py",
   "mimetype": "text/x-python",
   "name": "python",
   "nbconvert_exporter": "python",
   "pygments_lexer": "ipython3",
   "version": "3.7.4"
  }
 },
 "nbformat": 4,
 "nbformat_minor": 2
}
