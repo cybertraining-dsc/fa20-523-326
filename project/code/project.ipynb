{
 "cells": [
  {
   "cell_type": "markdown",
   "metadata": {},
   "source": [
    "<a id='TOC'></a>\n",
    "# Project: *Analysis of Future of Buffalo Breeds and Milk Production growth in India*\n",
    "\n",
    "`\n",
    "By   : Shahapurkar, Gangaprasad\n",
    "Email: garashah@iu.edu`"
   ]
  },
  {
   "cell_type": "markdown",
   "metadata": {},
   "source": [
    "<img src=\"../images/cover_photo.jpg\" alt=\"Cover photo\" style=\"width:=500px;height:=300px;\"/>"
   ]
  },
  {
   "cell_type": "markdown",
   "metadata": {},
   "source": [
    "## Abstract and objective\n"
   ]
  },
  {
   "cell_type": "markdown",
   "metadata": {},
   "source": [
    "Water buffalo (**Bubalus bubalis**) is also called *Domestic Water Buffalo* or *Asian Water Buffalo*. It is large bovid originating in Indian subcontinent, Southeast Asia, and China and today found in other regions of world - Europe, Australia, North America, South America and some African countries. There are two extant types recognized based on morphological and behavioural criteria:\n",
    "\n",
    "1. River Buffalo - Mostly found in Indian subcontinent and further west to the Balkans, Egypt, and Italy\n",
    "2. Swamp Buffalo - Found from west of Assam through Southeast Asia to the Yangtze valley of China in the east\n",
    "\n",
    "India is the largest milk producer and consumer compared to other countries in the world, and stands unique in terms of the largest share of milk being produced coming from buffaloes. The aim of this academic project is to study the livestock census data of buffalo breeds in India and their milk production using Empirical Benchmarking analysis method at state level. Looking at the small sample of data, our analysis indicates that we have been seeing increasing trends in past few years in livestock and milk production but there are considerable opportunities to increase production using combined interventions."
   ]
  },
  {
   "cell_type": "markdown",
   "metadata": {},
   "source": [
    "## Data files overview "
   ]
  },
  {
   "cell_type": "markdown",
   "metadata": {},
   "source": [
    "**1. India Buffalo Data**: Main dataset that contains buffalo breed information of each state in India, Milk production, In-Milk animals, yield per In-Milk animals. Past 6 year data points are represented in data file.\n",
    "\n",
    "**2. India Demographic Data**: Supplimentary dataset which represents number of villages, districts of each state. Projected population of year 2020 of each state. Agricultural zone category of each state."
   ]
  },
  {
   "cell_type": "markdown",
   "metadata": {},
   "source": [
    "## Import libraries"
   ]
  },
  {
   "cell_type": "code",
   "execution_count": null,
   "metadata": {},
   "outputs": [],
   "source": [
    "import warnings\n",
    "import numpy as np\n",
    "import pandas as pd\n",
    "import matplotlib.pyplot as plt\n",
    "import seaborn as sns\n",
    "from pandas.plotting import scatter_matrix\n",
    "from time import time\n",
    "import os\n",
    "\n",
    "from sklearn.base import BaseEstimator, TransformerMixin\n",
    "from sklearn.pipeline import Pipeline, FeatureUnion, make_pipeline\n",
    "from sklearn.linear_model import LinearRegression\n",
    "\n",
    "from sklearn.model_selection import GridSearchCV\n",
    "\n",
    "from sklearn.feature_selection import SelectKBest\n",
    "\n",
    "from sklearn.preprocessing import StandardScaler\n",
    "from sklearn.preprocessing import LabelEncoder\n",
    "from sklearn.preprocessing import Normalizer\n",
    "from sklearn.preprocessing import MinMaxScaler\n",
    "\n",
    "from sklearn.decomposition import PCA\n",
    "\n",
    "from sklearn.metrics import roc_auc_score\n",
    "from sklearn.metrics import accuracy_score\n",
    "\n",
    "warnings.simplefilter('ignore')"
   ]
  },
  {
   "cell_type": "markdown",
   "metadata": {},
   "source": [
    "## Global Configurations"
   ]
  },
  {
   "cell_type": "code",
   "execution_count": null,
   "metadata": {},
   "outputs": [],
   "source": [
    "# Set the color theme for plots\n",
    "sns.set_style('whitegrid') \n",
    "%matplotlib inline "
   ]
  },
  {
   "cell_type": "markdown",
   "metadata": {},
   "source": [
    "## Common functions"
   ]
  },
  {
   "cell_type": "code",
   "execution_count": null,
   "metadata": {},
   "outputs": [],
   "source": [
    "'''\n",
    "Function to load data file in pandas \n",
    "dataframe and print shape and information \n",
    "of dataframe\n",
    "\n",
    "Input: Path of file and name of file without extension\n",
    "Output: Pandas dataframe\n",
    "'''\n",
    "def load_data(in_path, name):\n",
    "    df = pd.read_csv(in_path)\n",
    "    print(f\"{name}: shape is {df.shape}\")\n",
    "    print(\"\\n\")\n",
    "    print(df.info())\n",
    "    print(\"\\n\")\n",
    "    display(df.head(5))\n",
    "    return df"
   ]
  },
  {
   "cell_type": "code",
   "execution_count": null,
   "metadata": {},
   "outputs": [],
   "source": [
    "!python --version #check the version of python installed "
   ]
  },
  {
   "cell_type": "code",
   "execution_count": null,
   "metadata": {},
   "outputs": [],
   "source": [
    "!pip install tabulate # need to install tabulate for printing tables in markdown format"
   ]
  },
  {
   "cell_type": "markdown",
   "metadata": {},
   "source": [
    "## Import Data"
   ]
  },
  {
   "cell_type": "code",
   "execution_count": null,
   "metadata": {},
   "outputs": [],
   "source": [
    "DATA_DIR = \"../data/\"               # set data file directory  \n",
    "buff_data_file_name = \"india_buffalo_data\" # Main Buffalo data file name\n",
    "demo_data_file_name = \"india_demographics_data\" # India demographic data file name"
   ]
  },
  {
   "cell_type": "code",
   "execution_count": null,
   "metadata": {},
   "outputs": [],
   "source": [
    "# Display list of files in data directory\n",
    "!ls -l $DATA_DIR "
   ]
  },
  {
   "cell_type": "markdown",
   "metadata": {},
   "source": [
    "### Main Buffalo Dataset \n",
    "This dataset contains 50 features and 36 rows. Each row represents data for one state of country. Notice that we see all the columns of datatype Integer or Float and only column is character which is state name "
   ]
  },
  {
   "cell_type": "code",
   "execution_count": null,
   "metadata": {},
   "outputs": [],
   "source": [
    "# Load the main data set which contains buffalo information\n",
    "buffalo_df = load_data(os.path.join(DATA_DIR, f'{buff_data_file_name}.csv'), buff_data_file_name)"
   ]
  },
  {
   "cell_type": "markdown",
   "metadata": {},
   "source": [
    "### Secondary Dataset - Demographics data\n",
    "This dataset has 20 features and 36 rows. Each row represents data for one state of country. All the columns of this dataset are Integer and one column is character which is state name"
   ]
  },
  {
   "cell_type": "code",
   "execution_count": null,
   "metadata": {},
   "outputs": [],
   "source": [
    "# Load the secondary data set which contains demographics information\n",
    "demographic_df = load_data(os.path.join(DATA_DIR, f'{demo_data_file_name}.csv'), demo_data_file_name)"
   ]
  },
  {
   "cell_type": "markdown",
   "metadata": {},
   "source": [
    "<a id=EDA></a>\n",
    "## EDA\n",
    "[Return to start](#TOC)"
   ]
  },
  {
   "cell_type": "markdown",
   "metadata": {},
   "source": [
    "The goal of this section is to get familiar with the data that will be used for the end to end pipeline. It is very important to explore the data and summarize its main characteristics before diving in the machine learning models. It is also interesting to see how the different features are correlated with the target feature"
   ]
  },
  {
   "cell_type": "code",
   "execution_count": null,
   "metadata": {},
   "outputs": [],
   "source": [
    "pd.set_option('display.float_format', lambda x: f'{x:,.2f}') # Set rounding option for float numbers"
   ]
  },
  {
   "cell_type": "code",
   "execution_count": null,
   "metadata": {},
   "outputs": [],
   "source": [
    "buffalo_df.describe() # Fetch statistical information of buffalo dataset "
   ]
  },
  {
   "cell_type": "code",
   "execution_count": null,
   "metadata": {},
   "outputs": [],
   "source": [
    "demographic_df.describe() #Fetch statistical information about demographic dataset"
   ]
  },
  {
   "cell_type": "markdown",
   "metadata": {},
   "source": [
    "### Identify missing values"
   ]
  },
  {
   "cell_type": "code",
   "execution_count": null,
   "metadata": {},
   "outputs": [],
   "source": [
    "# Check top 10 attributes with missing value count in buffalo dataset\n",
    "percent = (buffalo_df.isnull().sum()/buffalo_df.isnull().count()*100).sort_values(ascending = False).round(2)\n",
    "sum_missing = buffalo_df.isna().sum().sort_values(ascending = False)\n",
    "\n",
    "buffalo_missing_data  = pd.concat([percent, sum_missing], axis=1, keys=[\"Missing %\", \"Missing Count\"])\n",
    "output = buffalo_missing_data.head(10)\n",
    "\n",
    "# print dataframe output in markdown format \n",
    "print(output.to_markdown(headers=[\"Feature\",\"Missing %\",\"Missing Count\"], tablefmt=\"grid\")) "
   ]
  },
  {
   "cell_type": "code",
   "execution_count": null,
   "metadata": {},
   "outputs": [],
   "source": [
    "# Check top 10 attributes with missing value count in demographic dataset\n",
    "percent = (demographic_df.isnull().sum()/demographic_df.isnull().count()*100).sort_values(ascending = False).round(2)\n",
    "sum_missing = demographic_df.isna().sum().sort_values(ascending = False)\n",
    "\n",
    "demographic_missing_data  = pd.concat([percent, sum_missing], axis=1, keys=[\"Missing %\", \"Missing Count\"])\n",
    "output = demographic_missing_data.head(10)\n",
    "\n",
    "# print dataframe output in markdown format\n",
    "print(output.to_markdown(headers=[\"Feature\",\"Missing %\",\"Missing Count\"], tablefmt=\"grid\"))  "
   ]
  },
  {
   "cell_type": "markdown",
   "metadata": {},
   "source": [
    "### Fill missing values"
   ]
  },
  {
   "cell_type": "markdown",
   "metadata": {},
   "source": [
    "There are some missing values in main buffalo dataset but there are no mising values in the demograhic dataset. Since all the columns with missing vlaues are number columns we choose to fill them with 0 instead of mean or median method to avoid results.  0 would indicated data was not recorded for this particular attribute. Let us leave the secondary dataset. No action needed on it. "
   ]
  },
  {
   "cell_type": "code",
   "execution_count": null,
   "metadata": {},
   "outputs": [],
   "source": [
    "buffalo_df.fillna(value=0, inplace=True) # Fill 0 value inplace in buffalo dataset "
   ]
  },
  {
   "cell_type": "markdown",
   "metadata": {},
   "source": [
    "### Rest Index"
   ]
  },
  {
   "cell_type": "markdown",
   "metadata": {},
   "source": [
    "Both the dataset has one record for each state. As state name is unique column in both the dataset so we set sate name as index column and drop it from the column list"
   ]
  },
  {
   "cell_type": "code",
   "execution_count": null,
   "metadata": {},
   "outputs": [],
   "source": [
    "buffalo_df.set_index([\"State_name\"], drop=True, inplace=True)\n",
    "demographic_df.set_index([\"State_name\"], drop=True, inplace=True)"
   ]
  },
  {
   "cell_type": "markdown",
   "metadata": {},
   "source": [
    "### Data Distribution"
   ]
  },
  {
   "cell_type": "markdown",
   "metadata": {},
   "source": [
    "Focus of this section would be to identify buffalo distribution in country. We  by buffalo count "
   ]
  },
  {
   "cell_type": "code",
   "execution_count": null,
   "metadata": {},
   "outputs": [],
   "source": [
    "top_df = buffalo_df[[\"total_buffalo\",\"total_male\",\"total_female\"]] # select only subset of data \n",
    "top_df.reset_index(inplace=True)\n",
    "top_df.columns = [\"State\",\"Total\",\"Male\",\"Female\"] # rename columns to readable format\n",
    "top_df.sort_values(by=\"Total\", axis=0, ascending=False, inplace=True) #sort data to select top 10 records\n",
    "top_df = top_df.iloc[:10]\n",
    "top_df = top_df[[\"State\",\"Male\",\"Female\"]]\n",
    "print(top_df.to_markdown(tablefmt=\"grid\")) # print dataframe output in markdown format"
   ]
  },
  {
   "cell_type": "code",
   "execution_count": null,
   "metadata": {},
   "outputs": [],
   "source": [
    "top_transformed = top_df.reset_index().melt(['State', 'index'])\n",
    "top_transformed.columns = [\"State\",\"index\",\"Legend\",\"value\"] # rename columns to readable format\n",
    "output = top_transformed.head()\n",
    "print(output.to_markdown(tablefmt=\"grid\")) # print dataframe output in markdown format"
   ]
  },
  {
   "cell_type": "code",
   "execution_count": null,
   "metadata": {},
   "outputs": [],
   "source": [
    "sns.barplot(top_transformed.value / 1000000 ,y=\"State\", hue=\"Legend\", data=top_transformed, )\n",
    "plt.title('Top 10 state by buffalo count', fontsize=16)\n",
    "plt.xlabel('Buffalo count (Million)', fontsize=12)\n",
    "plt.ylabel('State', fontsize=12)\n",
    "plt.yticks(fontsize=12) \n",
    "plt.xticks(fontsize=12) \n",
    "plt.show()"
   ]
  },
  {
   "cell_type": "code",
   "execution_count": null,
   "metadata": {},
   "outputs": [],
   "source": [
    "labels = ['Female Buffalo', 'Male Buffalo']\n",
    "sizes = [np.sum(buffalo_df.total_female), np.sum(buffalo_df.total_male)]\n",
    "fig1, ax1 = plt.subplots()\n",
    "ax1.pie(sizes, labels=labels, autopct='%1.1f%%',startangle=90)\n",
    "ax1.axis('equal')\n",
    "plt.title('Male v/s Female Buffalo Ratio', fontsize=14)\n",
    "plt.show()"
   ]
  },
  {
   "cell_type": "markdown",
   "metadata": {},
   "source": [
    "<a id=FeatureEng></a>\n",
    "## Feature Engineering \n",
    "[Return to start](#TOC)"
   ]
  },
  {
   "cell_type": "markdown",
   "metadata": {},
   "source": [
    "When conducting an end to end Machine Learning project, after exploring and preprocessing the data it is essential to think of feature engineering. It consists of creating new feature(s) based on the features that already exist in the dataset that can be useful for training the model."
   ]
  },
  {
   "cell_type": "markdown",
   "metadata": {},
   "source": [
    "### New Features"
   ]
  },
  {
   "cell_type": "markdown",
   "metadata": {},
   "source": [
    "Calculate total number of buffalos under each category"
   ]
  },
  {
   "cell_type": "code",
   "execution_count": null,
   "metadata": {},
   "outputs": [],
   "source": [
    "buffalo_df[\"Banni\"] = buffalo_df[\"Banni_male_total\"] + buffalo_df[\"Banni_female_total\"]\n",
    "buffalo_df[\"Bhadawari\"] = buffalo_df[\"Bhadawari_male_total\"] + buffalo_df[\"Bhadawari_female_total\"]\n",
    "buffalo_df[\"Chilika\"] = buffalo_df[\"Chilika_male_total\"] + buffalo_df[\"Chilika_female_total\"]\n",
    "buffalo_df[\"Jaffarabadi\"] = buffalo_df[\"Jaffarabadi_male_total\"] + buffalo_df[\"Jaffarabadi_female_total\"]\n",
    "buffalo_df[\"Kalahandi\"] = buffalo_df[\"Kalahandi_male_total\"] + buffalo_df[\"Kalahandi_female_total\"]\n",
    "buffalo_df[\"Marathwadi\"] = buffalo_df[\"Marathwadi_male_total\"] + buffalo_df[\"Marathwadi_female_total\"]\n",
    "buffalo_df[\"Mehsana\"] = buffalo_df[\"Mehsana_male_total\"] + buffalo_df[\"Mehsana_female_total\"]\n",
    "buffalo_df[\"Murrah\"] = buffalo_df[\"Murrah_male_total\"] + buffalo_df[\"Murrah_female_total\"]\n",
    "buffalo_df[\"Nagpuri\"] = buffalo_df[\"Nagpuri_male_total\"] + buffalo_df[\"Nagpuri_female_total\"]\n",
    "buffalo_df[\"Nili Ravi\"] = buffalo_df[\"Nili_Ravi_male_total\"] + buffalo_df[\"Nili_Ravi_female_total\"]\n",
    "buffalo_df[\"Non Descript\"] = buffalo_df[\"Non_descript_male_total\"] + buffalo_df[\"Non_descript_female_total\"]\n",
    "buffalo_df[\"Pandharpuri\"] = buffalo_df[\"Pandharpuri_male_total\"] + buffalo_df[\"Pandharpuri_female_total\"]\n",
    "buffalo_df[\"Surti\"] = buffalo_df[\"Surti_male_total\"] + buffalo_df[\"Surti_female_total\"]\n",
    "buffalo_df[\"Toda\"] = buffalo_df[\"Toda_male_total\"] + buffalo_df[\"Toda_female_total\"]"
   ]
  },
  {
   "cell_type": "code",
   "execution_count": null,
   "metadata": {},
   "outputs": [],
   "source": [
    "count_df = buffalo_df[[\"total_buffalo\",\"Banni\",\"Bhadawari\",\"Chilika\",\"Jaffarabadi\",\"Kalahandi\",\"Marathwadi\",\"Mehsana\",\n",
    "                       \"Murrah\",\"Nagpuri\",\"Nili Ravi\",\"Non Descript\",\"Pandharpuri\",\"Surti\",\"Toda\",\"total_male\",\n",
    "                      \"total_female\"]]\n",
    "count_df.sort_values(by=\"total_buffalo\", axis=0, ascending=False, inplace=True)\n",
    "count_df.head()"
   ]
  },
  {
   "cell_type": "code",
   "execution_count": null,
   "metadata": {},
   "outputs": [],
   "source": [
    "output = count_df[[\"Banni\",\"Bhadawari\",\"Chilika\",\"Jaffarabadi\",\"Kalahandi\",\"Marathwadi\",\"Mehsana\",\n",
    "          \"Murrah\",\"Nagpuri\",\"Nili Ravi\",\"Non Descript\",\"Pandharpuri\",\"Surti\",\"Toda\"]].sum(axis=0)\n",
    "\n",
    "# print dataframe output in markdown format\n",
    "print(output.to_markdown(headers=[\"Breed\",\"Count\"], tablefmt=\"grid\", floatfmt=(\".0f\"))) "
   ]
  },
  {
   "cell_type": "markdown",
   "metadata": {},
   "source": [
    "Calculate average of below fields of all past 6 years data points\n",
    "- **Average in milk** - Average number of In-Milk animals per state (figures in 000 nos)\n",
    "- **Average yield per In-Milk animal** - Average yield per In-Milk animals per state (figures in kg/day)\n",
    "- **Average milk production** - Average milk production per state (figures in 000 tones)"
   ]
  },
  {
   "cell_type": "code",
   "execution_count": null,
   "metadata": {},
   "outputs": [],
   "source": [
    "buffalo_df[\"avg_in_milk\"] = (buffalo_df[\"201314_in_milk\"] + buffalo_df[\"201415_in_milk\"] + buffalo_df[\"201516_in_milk\"] + \n",
    "                             buffalo_df[\"201617_in_milk\"] + buffalo_df[\"201718_in_milk\"] + buffalo_df[\"201819_in_milk\"])/6\n",
    "\n",
    "buffalo_df[\"avg_yield_in_milk\"] = (buffalo_df[\"201314_yield_in_milk\"] + buffalo_df[\"201415_yield_in_milk\"] + buffalo_df[\"201516_yield_in_milk\"] + \n",
    "                                   buffalo_df[\"201617_yield_in_milk\"] + buffalo_df[\"201718_yield_in_milk\"] + buffalo_df[\"201819_yield_in_milk\"])/6\n",
    "\n",
    "buffalo_df[\"avg_milk_production\"] = (buffalo_df[\"201314_milk_production\"] + buffalo_df[\"201415_milk_production\"] + buffalo_df[\"201516_milk_production\"] + \n",
    "                                     buffalo_df[\"201617_milk_production\"] + buffalo_df[\"201718_milk_production\"] + buffalo_df[\"201819_milk_production\"])/6"
   ]
  },
  {
   "cell_type": "code",
   "execution_count": null,
   "metadata": {},
   "outputs": [],
   "source": [
    "# Fill 0 value inplace in buffalo dataset after new features calculated \n",
    "buffalo_df.fillna(value=0, inplace=True) \n",
    "\n",
    "buffalo_df[[\"avg_in_milk\",\"avg_yield_in_milk\",\"avg_milk_production\"]].head()"
   ]
  },
  {
   "cell_type": "markdown",
   "metadata": {},
   "source": [
    "### Correlation with Total Buffalo count"
   ]
  },
  {
   "cell_type": "code",
   "execution_count": null,
   "metadata": {},
   "outputs": [],
   "source": [
    "cols = [\"Banni\",\"Bhadawari\",\"Chilika\",\"Jaffarabadi\",\"Kalahandi\",\"Marathwadi\",\"Mehsana\",\n",
    "        \"Murrah\",\"Nagpuri\",\"Nili Ravi\",\"Non Descript\",\"Pandharpuri\",\"Surti\",\"Toda\",\n",
    "        \"avg_in_milk\",\"avg_yield_in_milk\",\"avg_milk_production\", \"total_buffalo\"]\n",
    "corr = buffalo_df[cols].corr()"
   ]
  },
  {
   "cell_type": "code",
   "execution_count": null,
   "metadata": {},
   "outputs": [],
   "source": [
    "print(\"Most Positive Correlations:\")\n",
    "output = corr['total_buffalo'].sort_values(ascending=False).head(5)\n",
    "print(output.to_markdown(headers=[\"Feature\",\"%\"], tablefmt=\"grid\", floatfmt=(\".2f\")))\n",
    "\n",
    "print(\"\\nMost Negative Correlations:\")\n",
    "output = corr['total_buffalo'].sort_values(ascending=False).tail(5)\n",
    "print(output.to_markdown(headers=[\"Feature\",\"%\"], tablefmt=\"grid\", floatfmt=(\".2f\")))"
   ]
  },
  {
   "cell_type": "markdown",
   "metadata": {},
   "source": [
    "### Correlation Observations\n",
    "\n",
    "Total Buffalo count is not our target feature but it would be interesting to see how the different features are correlated with this feature. \n",
    "\n",
    "- Non Descript, Murrah, Average in-milk, Average milk production are highly positve correlated features with total buffalo count. Though Murrah and Non Descript are the only features are actual buffalo breeds and directly impact to total buffalo count but, average in-milk feature takes into consideration total number of in-milk animals and average milk production would be indirect feature.\n",
    "\n",
    "- Toda , Chilika and Kalahandi are the most highly negative correlated features with total buffalo breeds."
   ]
  },
  {
   "cell_type": "code",
   "execution_count": null,
   "metadata": {},
   "outputs": [],
   "source": [
    "attributes = [\"total_buffalo\",\"avg_in_milk\",\"avg_milk_production\",\"Murrah\",\"Non Descript\"]\n",
    "scatter_matrix(corr[attributes], figsize=(12, 8));"
   ]
  },
  {
   "cell_type": "markdown",
   "metadata": {},
   "source": [
    "### Buffalo breed analysis of state _**Uttar Pradesh**_ and _**Punjab**_"
   ]
  },
  {
   "cell_type": "markdown",
   "metadata": {},
   "source": [
    "- **Uttar Pradesh** state is the top most state in _**milk production**_ and total number of buffalo breeds in India. This state has highest number of Murrah **(known worldwide for high yield)**, Non Descript and Bhadawari buffalo breeds.\n",
    "\n",
    "\n",
    "- **Punjab** is not top milk producing state stands top in the list of _**Average Yield per In-Milk Animal**_. This is becuase ratio of Murrah buffalo breeds which are known for high yield are more compared to Uttar Pradesh"
   ]
  },
  {
   "cell_type": "code",
   "execution_count": null,
   "metadata": {},
   "outputs": [],
   "source": [
    "milk_df = buffalo_df[[\"total_buffalo\",\"Murrah\",\"avg_milk_production\", \"avg_yield_in_milk\"]]"
   ]
  },
  {
   "cell_type": "code",
   "execution_count": null,
   "metadata": {},
   "outputs": [],
   "source": [
    "milk_df.sort_values(by=\"avg_milk_production\", axis=0, ascending=False, inplace=True)\n",
    "output = milk_df.head()\n",
    "print(\"Top 5 average milk production state\")\n",
    "print(output.to_markdown(headers=[\"State\",\"Buffalo Count\",\"Murrah Count\",\"Avg milk production\",\"Avg yield per in-milk\"], \n",
    "                         tablefmt=\"grid\", floatfmt=(\".2f\")))"
   ]
  },
  {
   "cell_type": "code",
   "execution_count": null,
   "metadata": {},
   "outputs": [],
   "source": [
    "milk_df.sort_values(by=\"avg_yield_in_milk\", axis=0, ascending=False, inplace=True)\n",
    "output = milk_df.head()\n",
    "print(\"Top 5 average yield in-milk state\")\n",
    "print(output.to_markdown(headers=[\"State\",\"Buffalo Count\",\"Murrah Count\",\"Avg milk production\",\"Avg yield per in-milk\"], \n",
    "                         tablefmt=\"grid\", floatfmt=(\".2f\")))"
   ]
  },
  {
   "cell_type": "markdown",
   "metadata": {},
   "source": [
    "This brings interesting point to check Top breeds in these two states."
   ]
  },
  {
   "cell_type": "code",
   "execution_count": null,
   "metadata": {},
   "outputs": [],
   "source": [
    "breed_name_list = [\"Banni\",\"Bhadawari\",\"Chilika\",\"Jaffarabadi\",\"Kalahandi\",\"Marathwadi\",\"Mehsana\",\n",
    "              \"Murrah\",\"Nagpuri\",\"Nili Ravi\",\"Non Descript\",\"Pandharpuri\",\"Surti\",\"Toda\"]"
   ]
  },
  {
   "cell_type": "code",
   "execution_count": null,
   "metadata": {},
   "outputs": [],
   "source": [
    "# Filter data for Uttar Pradesh state and Buffalo breeds\n",
    "top_state_df = buffalo_df.loc[buffalo_df.index == \"UTTAR PRADESH\"][breed_name_list]\n",
    "top_state_df.reset_index(drop=True, inplace=True)\n",
    "\n",
    "temp_df = top_state_df.reset_index().melt() # Transpose data from row to column\n",
    "temp_df.columns = [\"Breed\",\"Count\"] # Change column name for readability \n",
    "temp_df.sort_values(by=\"Count\", axis=0, ascending=False, inplace=True) # Sort data by breed count\n",
    "\n",
    "# Display Top 3 records\n",
    "output = temp_df[:3]\n",
    "print(output.to_markdown(tablefmt=\"grid\"))"
   ]
  },
  {
   "cell_type": "code",
   "execution_count": null,
   "metadata": {},
   "outputs": [],
   "source": [
    "# capture labels and values for plotting\n",
    "label_1 = list(output.Breed.values)\n",
    "sizes_1 = list(output.Count.values)"
   ]
  },
  {
   "cell_type": "code",
   "execution_count": null,
   "metadata": {},
   "outputs": [],
   "source": [
    "top_state_df = buffalo_df.loc[buffalo_df.index == \"PUNJAB\"][breed_name_list]\n",
    "top_state_df.reset_index(drop=True, inplace=True)\n",
    "\n",
    "temp_df = top_state_df.reset_index().melt() # Transpose data from row to column\n",
    "temp_df.columns = [\"Breed\",\"Count\"] # Change column name for readability \n",
    "temp_df.sort_values(by=\"Count\", axis=0, ascending=False, inplace=True) # Sort data by breed count\n",
    "\n",
    "# Display Top 3 records\n",
    "output = temp_df[:3]\n",
    "print(output.to_markdown(tablefmt=\"grid\"))"
   ]
  },
  {
   "cell_type": "code",
   "execution_count": null,
   "metadata": {},
   "outputs": [],
   "source": [
    "# capture labels and values for plotting\n",
    "label_2 = list(output.Breed.values)\n",
    "sizes_2 = list(output.Count.values)"
   ]
  },
  {
   "cell_type": "markdown",
   "metadata": {},
   "source": [
    "Let us plot the data of two states side by side to get a visual picture of distribution of buffalo breeds"
   ]
  },
  {
   "cell_type": "code",
   "execution_count": null,
   "metadata": {
    "scrolled": true
   },
   "outputs": [],
   "source": [
    "fig, (ax0,ax1) = plt.subplots(1, 2)\n",
    "fig.suptitle('Top 3 Buffalo breeds', fontsize=16)\n",
    "ax0.set_title('Uttar Pradesh', fontsize=14)\n",
    "ax1.set_title('Punjab', fontsize=14)\n",
    "ax0.pie(sizes_1, labels=label_1, autopct='%1.1f%%',startangle=90)\n",
    "ax1.pie(sizes_2, labels=label_2, autopct='%1.1f%%',startangle=90)\n",
    "plt.show()"
   ]
  },
  {
   "cell_type": "markdown",
   "metadata": {},
   "source": [
    "<a id=Modeling></a>\n",
    "## Modelling\n",
    "[Return to start](#TOC)"
   ]
  },
  {
   "cell_type": "markdown",
   "metadata": {},
   "source": [
    "Now that we have explored the data, cleaned it, preprocessed it and added a new feature to it, we can start the modelling part of the project by applying algorithms."
   ]
  },
  {
   "cell_type": "markdown",
   "metadata": {},
   "source": [
    "### Merge Dataset"
   ]
  },
  {
   "cell_type": "code",
   "execution_count": null,
   "metadata": {},
   "outputs": [],
   "source": [
    "# Merge main and demograhic dataset\n",
    "data = buffalo_df.merge(demographic_df, how='left', on='State_name')\n",
    "data.reset_index(inplace=True)\n",
    "data.shape"
   ]
  },
  {
   "cell_type": "markdown",
   "metadata": {},
   "source": [
    "### Define features and labels"
   ]
  },
  {
   "cell_type": "markdown",
   "metadata": {},
   "source": [
    "Since this dataset is a small and it is not labelled dataset, we would be considering our calculated field **avg milk production** as target variable and do co-variate analysis with demographic features "
   ]
  },
  {
   "cell_type": "code",
   "execution_count": null,
   "metadata": {},
   "outputs": [],
   "source": [
    "# Define Features and labels\n",
    "final_data = data.copy()\n",
    "\n",
    "label = final_data['avg_milk_production']\n",
    "features = final_data.drop(['State_name'], axis=1)"
   ]
  },
  {
   "cell_type": "markdown",
   "metadata": {},
   "source": [
    "### Extract numerical and categorical features"
   ]
  },
  {
   "cell_type": "markdown",
   "metadata": {},
   "source": [
    "This dataset contains all numerical features. Only state name could be called as categorical feature hence we will ignore this field "
   ]
  },
  {
   "cell_type": "code",
   "execution_count": null,
   "metadata": {},
   "outputs": [],
   "source": [
    "#Setup attributes for pipeline\n",
    "num_attribs = data.select_dtypes(exclude='object').columns\n",
    "cat_attribs = data.select_dtypes(include='object').columns"
   ]
  },
  {
   "cell_type": "code",
   "execution_count": null,
   "metadata": {},
   "outputs": [],
   "source": [
    "cat_attribs"
   ]
  },
  {
   "cell_type": "code",
   "execution_count": null,
   "metadata": {},
   "outputs": [],
   "source": [
    "num_attribs"
   ]
  },
  {
   "cell_type": "markdown",
   "metadata": {},
   "source": [
    "### Normalize Data"
   ]
  },
  {
   "cell_type": "markdown",
   "metadata": {},
   "source": [
    "Since the feature of the dataset are of different scale we would need to normalize the data before using it further"
   ]
  },
  {
   "cell_type": "code",
   "execution_count": null,
   "metadata": {},
   "outputs": [],
   "source": [
    "dfNumCols = data[num_attribs]"
   ]
  },
  {
   "cell_type": "code",
   "execution_count": null,
   "metadata": {},
   "outputs": [],
   "source": [
    "# Normalize data and create dataframe from the result\n",
    "num_encode = Normalizer().fit(dfNumCols)\n",
    "\n",
    "df_num_cols = pd.DataFrame(\n",
    "    num_encode.transform(dfNumCols), index=dfNumCols.index, \n",
    "    columns=list(num_attribs)\n",
    ")\n",
    "df_num_cols.describe()"
   ]
  },
  {
   "cell_type": "markdown",
   "metadata": {},
   "source": [
    "### Empirical Benchmarking Model & Covariance analysis"
   ]
  },
  {
   "cell_type": "markdown",
   "metadata": {},
   "source": [
    "There are two dominant approach of economic modelling to estimate the production behavior - **Empirical Benchmarking** and **Stochastic Frontier Analysis**. Empirical Benchmarking is simple modelling method, and it is one of the two dominant approach. This method was used to analyze past 6 years of data points available in the livestock dataset. In this approach milk production data of past 6 years was averaged. Top 10 states with most milk production reported were compared with average of the whole sample."
   ]
  },
  {
   "cell_type": "markdown",
   "metadata": {},
   "source": [
    "Covariance analysis was performed by with other demographics attributes  "
   ]
  },
  {
   "cell_type": "code",
   "execution_count": null,
   "metadata": {},
   "outputs": [],
   "source": [
    "model = data[[\"State_name\",\"total_buffalo\", \"total_male\", \"total_female\",\n",
    "                       \"avg_in_milk\",\"avg_yield_in_milk\",\"avg_milk_production\",\"proj_population_2020\"]]\n",
    "model.sort_values(by=\"avg_milk_production\", axis=0, ascending=False, inplace=True)\n",
    "model_top10 = model[[\"State_name\",\"avg_milk_production\",\"proj_population_2020\"]].head(10)"
   ]
  },
  {
   "cell_type": "code",
   "execution_count": null,
   "metadata": {},
   "outputs": [],
   "source": [
    "mean_avg_milk_production_sample = np.round(data.avg_milk_production.mean(), decimals=2)\n",
    "print(\"Average Milk Production from Buffalos for whole sample         :\", mean_avg_milk_production_sample)"
   ]
  },
  {
   "cell_type": "code",
   "execution_count": null,
   "metadata": {},
   "outputs": [],
   "source": [
    "fig, ax = plt.subplots(figsize=(8, 4))\n",
    "sns.barplot(x=model_top10.State_name,y=model_top10.avg_milk_production, data=model_top10)\n",
    "plt.axhline(y=mean_avg_milk_production_sample,linewidth=1)\n",
    "plt.xticks(rotation=80)\n",
    "plt.xlabel('State', fontsize=14)\n",
    "plt.ylabel('Avg Milk Production (tones)', fontsize=14)\n",
    "plt.title('Avg Milk Production in top 10 states', fontsize=16)\n",
    "plt.show()"
   ]
  },
  {
   "cell_type": "code",
   "execution_count": null,
   "metadata": {},
   "outputs": [],
   "source": [
    "fig, ax = plt.subplots(figsize=(8, 4))\n",
    "sns.barplot(x=model_top10.State_name,y=model_top10.proj_population_2020/1000000, data=model_top10)\n",
    "plt.xticks(rotation=80)\n",
    "plt.xlabel('State', fontsize=14)\n",
    "plt.ylabel('Population (Million)', fontsize=14)\n",
    "plt.title('Projected Population of 2020', fontsize=16)\n",
    "plt.show()"
   ]
  },
  {
   "cell_type": "markdown",
   "metadata": {},
   "source": [
    "#### Covariance Analysis"
   ]
  },
  {
   "cell_type": "markdown",
   "metadata": {},
   "source": [
    "Let us check coorelation with limited number of features for our target variable **average milk production**"
   ]
  },
  {
   "cell_type": "code",
   "execution_count": null,
   "metadata": {},
   "outputs": [],
   "source": [
    "demo_features = ['total_male', 'total_female','avg_in_milk', 'avg_yield_in_milk',\n",
    "'avg_milk_production', 'district_count', 'village_count',\n",
    "'official_area_sqkm', 'proj_population_2020', 'agro_climatic_zone1',\n",
    "'agro_climatic_zone2', 'agro_climatic_zone3', 'agro_climatic_zone4',\n",
    "'agro_climatic_zone5', 'agro_climatic_zone6', 'agro_climatic_zone7',\n",
    "'agro_climatic_zone8', 'agro_climatic_zone9', 'agro_climatic_zone10',\n",
    "'agro_climatic_zone11', 'agro_climatic_zone12', 'agro_climatic_zone13',\n",
    "'agro_climatic_zone14', 'agro_climatic_zone15']"
   ]
  },
  {
   "cell_type": "code",
   "execution_count": null,
   "metadata": {},
   "outputs": [],
   "source": [
    "corr = df_num_cols[demo_features].corr()\n",
    "\n",
    "print(\"Most Positive Correlations:\")\n",
    "output = corr['avg_milk_production'].sort_values(ascending=False).head(5)\n",
    "print(output.to_markdown(headers=[\"Feature\",\"%\"], tablefmt=\"grid\", floatfmt=(\".2f\")))\n",
    "\n",
    "print(\"\\nMost Negative Correlations:\")\n",
    "output = corr['avg_milk_production'].sort_values(ascending=False).tail(5)\n",
    "print(output.to_markdown(headers=[\"Feature\",\"%\"], tablefmt=\"grid\", floatfmt=(\".2f\")))"
   ]
  },
  {
   "cell_type": "markdown",
   "metadata": {},
   "source": [
    "Now let us check it at boarder level with all our calculated fields "
   ]
  },
  {
   "cell_type": "code",
   "execution_count": null,
   "metadata": {},
   "outputs": [],
   "source": [
    "# Calculate coorelation\n",
    "corr1_df =  data.corr()\n",
    "\n",
    "# Delete non relevant fields\n",
    "delete_fields = ['Banni_male_total', 'Banni_female_total', 'Bhadawari_male_total','Bhadawari_female_total', \n",
    "                 'Chilika_male_total', 'Chilika_female_total','Jaffarabadi_male_total', 'Jaffarabadi_female_total', \n",
    "                 'Kalahandi_male_total', 'Kalahandi_female_total', 'Marathwadi_male_total', 'Marathwadi_female_total', \n",
    "                 'Mehsana_male_total', 'Mehsana_female_total', 'Murrah_male_total', 'Murrah_female_total', \n",
    "                 'Nagpuri_male_total', 'Nagpuri_female_total', 'Nili_Ravi_male_total', 'Nili_Ravi_female_total', \n",
    "                 'Non_descript_male_total', 'Non_descript_female_total', 'Pandharpuri_male_total', \n",
    "                 'Pandharpuri_female_total', 'Surti_male_total', 'Surti_female_total', 'Toda_male_total', \n",
    "                 'Toda_female_total', 'total_buffalo', '201314_in_milk', '201415_in_milk', '201516_in_milk', \n",
    "                 '201617_in_milk', '201718_in_milk', '201819_in_milk', '201314_yield_in_milk', '201415_yield_in_milk', \n",
    "                 '201516_yield_in_milk', '201617_yield_in_milk', '201718_yield_in_milk', '201819_yield_in_milk', \n",
    "                 '201314_milk_production', '201415_milk_production', '201516_milk_production', '201617_milk_production', \n",
    "                 '201718_milk_production', '201819_milk_production','agro_climatic_zone1', 'agro_climatic_zone2', \n",
    "                 'agro_climatic_zone3', 'agro_climatic_zone4', 'agro_climatic_zone5', 'agro_climatic_zone6', \n",
    "                 'agro_climatic_zone7', 'agro_climatic_zone8', 'agro_climatic_zone9', 'agro_climatic_zone10', \n",
    "                 'agro_climatic_zone11', 'agro_climatic_zone12', 'agro_climatic_zone13', 'agro_climatic_zone14', \n",
    "                 'agro_climatic_zone15']\n",
    "\n",
    "# drop rows\n",
    "corr1_df.drop(delete_fields, inplace=True)\n",
    "\n",
    "# drop columns\n",
    "corr1_df.drop(delete_fields, axis=1, inplace=True)"
   ]
  },
  {
   "cell_type": "code",
   "execution_count": null,
   "metadata": {},
   "outputs": [],
   "source": [
    "fig, ax = plt.subplots(figsize=(16, 10))\n",
    "# mask\n",
    "mask = np.triu(np.ones_like(corr1_df, dtype=np.bool))\n",
    "# adjust mask and df\n",
    "mask = mask[1:, :-1]\n",
    "corr = corr1_df.iloc[1:,:-1].copy()\n",
    "# plot heatmap\n",
    "sns.heatmap(corr, mask=mask, annot=True, fmt=\".2f\", cmap='Blues',\n",
    "           vmin=-1, vmax=1, cbar_kws={\"shrink\": .8})\n",
    "# yticks\n",
    "plt.title(\"Covriance Map\", fontsize=16)\n",
    "plt.yticks(rotation=0)\n",
    "plt.show()"
   ]
  },
  {
   "cell_type": "markdown",
   "metadata": {},
   "source": [
    "### Linear Regression Model"
   ]
  },
  {
   "cell_type": "markdown",
   "metadata": {},
   "source": [
    "#### Custom Transformers"
   ]
  },
  {
   "cell_type": "code",
   "execution_count": null,
   "metadata": {},
   "outputs": [],
   "source": [
    "# Custom transformer to select columns from dataframe\n",
    "class DataFrameSelector(BaseEstimator, TransformerMixin):\n",
    "    def __init__(self, attribute_names):\n",
    "        self.attribute_names = attribute_names\n",
    "    def fit(self, X, y=None):\n",
    "        return self\n",
    "    def transform(self, X):\n",
    "        return X[self.attribute_names].values"
   ]
  },
  {
   "cell_type": "markdown",
   "metadata": {},
   "source": [
    "#### Define Pipeline"
   ]
  },
  {
   "cell_type": "code",
   "execution_count": null,
   "metadata": {},
   "outputs": [],
   "source": [
    "# Define pipeline\n",
    "num_pipeline = Pipeline([\n",
    "        ('selector', DataFrameSelector(num_attribs)), \n",
    "        ('std_scaler', Normalizer())\n",
    "    ])"
   ]
  },
  {
   "cell_type": "code",
   "execution_count": null,
   "metadata": {},
   "outputs": [],
   "source": [
    "# Define a pipeline to search for the best combination of PCA truncation\n",
    "# and classifier regularization.\n",
    "pca = PCA()\n",
    "\n",
    "# Linear Regression without parameters\n",
    "linear = LinearRegression()\n",
    "\n",
    "full_pipeline_with_predictor = Pipeline([\n",
    "        (\"preparation\", num_pipeline),\n",
    "        (\"pca\",pca),\n",
    "        (\"linear\", linear)\n",
    "    ])\n",
    "\n",
    "# Parameters of pipelines:\n",
    "param_grid = {\n",
    "    'pca__n_components': [5, 15, 30, 45, 64]\n",
    "}"
   ]
  },
  {
   "cell_type": "code",
   "execution_count": null,
   "metadata": {},
   "outputs": [],
   "source": [
    "# Apply GridSearch with predictors \n",
    "search = GridSearchCV(full_pipeline_with_predictor,param_grid, n_jobs=-1)\n",
    "search.fit(features, label)\n",
    "print(\"Best parameter (CV score=%0.3f):\" % search.best_score_)\n",
    "print(search.best_params_)\n",
    "\n",
    "# Plot the PCA spectrum\n",
    "pca.fit(features)"
   ]
  },
  {
   "cell_type": "code",
   "execution_count": null,
   "metadata": {},
   "outputs": [],
   "source": [
    "fig, (ax0, ax1) = plt.subplots(nrows=2, sharex=True, figsize=(6, 6))\n",
    "ax0.plot(np.arange(1, pca.n_components_ + 1), pca.explained_variance_ratio_, '+', linewidth=2)\n",
    "ax0.set_ylabel('PCA explained variance ratio')\n",
    "\n",
    "ax0.axvline(search.best_estimator_.named_steps['pca'].n_components, linestyle=':', label='n_components chosen')\n",
    "ax0.legend(prop=dict(size=12))\n",
    "\n",
    "# For each number of components, find the best classifier results\n",
    "results = pd.DataFrame(search.cv_results_)\n",
    "\n",
    "components_col = 'param_pca__n_components'\n",
    "best_clfs = results.groupby(components_col).apply(lambda g: g.nlargest(1, 'mean_test_score'))\n",
    "best_clfs.plot(x=components_col, y='mean_test_score', yerr='std_test_score',legend=False, ax=ax1)\n",
    "ax1.set_ylabel('Classification accuracy (val)')\n",
    "ax1.set_xlabel('n_components')\n",
    "\n",
    "plt.xlim(-1, 70)\n",
    "\n",
    "plt.tight_layout()\n",
    "plt.show()"
   ]
  },
  {
   "cell_type": "code",
   "execution_count": null,
   "metadata": {},
   "outputs": [],
   "source": [
    "results"
   ]
  },
  {
   "cell_type": "markdown",
   "metadata": {},
   "source": [
    "<a id=Evaluate></a>\n",
    "## Evaluation, reporting, analysis\n",
    "[Return to start](#TOC)"
   ]
  },
  {
   "cell_type": "markdown",
   "metadata": {},
   "source": [
    "**Empirical Benchmarking model** denotes that top 10 states are performing above average. There is possibility to increase the yield then the current attainable yield, evaluating the other socio-economic factors like agricultural data, population, climate factors etc. \n",
    "\n",
    "Correlation analysis done with other demographic features like population and climatic zones suggest that average growth is highly correlated with average in-milk animals, female buffaloes and climatic zone region which comes under **Zone 6: Trans-Gangetic Plains**.This factors would be highly contributing to average milk production growth"
   ]
  },
  {
   "cell_type": "markdown",
   "metadata": {},
   "source": [
    "Due to absence of sufficient granular data analysis had to be done on state level rollup data. The sample linear regression modle attempted above did not yield satisfactory and meaningfull results. Based on the data trends it appears that it is possible to increase the production past current attenable numbers. However, this would need to combine different methods and multiple strategies."
   ]
  },
  {
   "cell_type": "code",
   "execution_count": null,
   "metadata": {},
   "outputs": [],
   "source": []
  }
 ],
 "metadata": {
  "kernelspec": {
   "display_name": "Python 3",
   "language": "python",
   "name": "python3"
  },
  "language_info": {
   "codemirror_mode": {
    "name": "ipython",
    "version": 3
   },
   "file_extension": ".py",
   "mimetype": "text/x-python",
   "name": "python",
   "nbconvert_exporter": "python",
   "pygments_lexer": "ipython3",
   "version": "3.7.4"
  }
 },
 "nbformat": 4,
 "nbformat_minor": 2
}
